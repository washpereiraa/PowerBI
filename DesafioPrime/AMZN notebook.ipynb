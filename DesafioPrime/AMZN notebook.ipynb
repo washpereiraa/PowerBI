{
  "nbformat": 4,
  "nbformat_minor": 0,
  "metadata": {
    "colab": {
      "name": "Untitled0.ipynb",
      "provenance": [],
      "authorship_tag": "ABX9TyMiISbF4BIG08IG0gI9YDCJ",
      "include_colab_link": true
    },
    "kernelspec": {
      "name": "python3",
      "display_name": "Python 3"
    }
  },
  "cells": [
    {
      "cell_type": "markdown",
      "metadata": {
        "id": "view-in-github",
        "colab_type": "text"
      },
      "source": [
        "<a href=\"https://colab.research.google.com/github/washpereiraa/DesafioPrime/blob/main/AMZN%20notebook.ipynb\" target=\"_parent\"><img src=\"https://colab.research.google.com/assets/colab-badge.svg\" alt=\"Open In Colab\"/></a>"
      ]
    },
    {
      "cell_type": "markdown",
      "metadata": {
        "id": "uAjK398g9x7R"
      },
      "source": [
        "1. Criei um reposotorio no gituh para compartilhamento e controle dos arquivos gerados.\r\n",
        "2. Criei pasta para controle de alteração dos arquivos, procurando preservar os dados originais e rastrear alteraçoes para possivel resgate de informações. As pastas foram nomeadas como: Arquivo Original, Alterações, Finalizado.\r\n",
        "3. No execel: troquei a virgulo por pontos\r\n",
        "4. No Visual estudio criei um projeto de ETL para tratar dados em massa"
      ]
    }
  ]
}