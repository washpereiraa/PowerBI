{
  "nbformat": 4,
  "nbformat_minor": 0,
  "metadata": {
    "colab": {
      "name": "AMZN-Alta.ipynb",
      "provenance": [],
      "collapsed_sections": [],
      "mount_file_id": "13owCUwKubczYtl7tHb-F4XmnJP03Jj0s",
      "authorship_tag": "ABX9TyMMZZFP2ck5Uq9OZwL6JI8u",
      "include_colab_link": true
    },
    "kernelspec": {
      "name": "python3",
      "display_name": "Python 3"
    }
  },
  "cells": [
    {
      "cell_type": "markdown",
      "metadata": {
        "id": "view-in-github",
        "colab_type": "text"
      },
      "source": [
        "<a href=\"https://colab.research.google.com/github/washpereiraa/DesafioPrime/blob/main/AMZN_Alta.ipynb\" target=\"_parent\"><img src=\"https://colab.research.google.com/assets/colab-badge.svg\" alt=\"Open In Colab\"/></a>"
      ]
    },
    {
      "cell_type": "markdown",
      "metadata": {
        "id": "uAjK398g9x7R"
      },
      "source": [
        "1. Criei um **reposotorio no gitHub** para compartilhamento e controle dos arquivos gerados.\n",
        "2. Criei **pasta para controle de alteração** dos arquivos, procurando preservar os dados originais e rastrear alteraçoes para possivel resgate de informações. As pastas foram nomeadas como: Arquivo Original, Alterações, Finalizado.\n",
        "3. **No execel: **\n",
        "    3.1 troquei a virgulo por pontos\n",
        "    3.2 Exclusão das linhas 2742 a 2882 por conter muitos valores [\\n] (not a number) a partir da coluna D, AE, AF, AG, AH, AI, AJ, AP, AR, AS, AT, AU, AV, AW, BB, BC, BE, BF, BG, BH, BJ, BK, BL, BM, CG, CK, CL, CM, CO, CR e CS\n",
        "4.** No Visual estudio** criei um projeto de ETL para tratar dados em massa\n",
        "    4.1 Conexão com bando de dados local (DS_AZMN)\n",
        "    4.2 Explorando o banco em busca de anomalias (exclui linhas com dados NULL)\n",
        "5. Adescrição das questão proposta, orienta usar a criatividade para a solução do problema, por esse motivo e por que o data deset fornecido apresenta diversas incosistencias que e falta de clareza em algumas informações. Decidi buscar uma fonte de dados segura da compania AMZN (Amazon) no site do Yahoo Finanças disponibilizado pelo link (https://finance.yahoo.com/quote/AMZN/history?period1=1262563200&period2=1609372800&interval=1d&filter=history&frequency=1d&includeAdjustedClose=true) no mesmo perido do dateset fornecido no email (04-01-2010 a 30-12-2020)"
      ]
    },
    {
      "cell_type": "code",
      "metadata": {
        "id": "mw8x8YEuNfhh"
      },
      "source": [
        "#importando bibliotecas\n",
        "\n",
        "#pandas\n",
        "import pandas as pd\n",
        "\n",
        "#Bibliotecas de Machine Learning\n",
        "from sklearn.feature_selection import SelectKBest\n",
        "from sklearn.model_selection import GridSearchCV\n",
        "from sklearn.neural_network import MLPRegressor\n",
        "from sklearn.preprocessing import MinMaxScaler\n",
        "from sklearn.linear_model import LinearRegression \n",
        "\n",
        "#treinamento e teste\n",
        "from sklearn.model_selection import train_test_split\n",
        "\n",
        "#Relatorios/Metricas\n",
        "from sklearn.metrics import r2_score, classification_report, confusion_matrix\n",
        "\n",
        "#graficos/plots\n",
        "import seaborn as sns\n",
        "import matplotlib.pyplot as plt\n",
        "%matplotlib inline"
      ],
      "execution_count": 26,
      "outputs": []
    },
    {
      "cell_type": "code",
      "metadata": {
        "colab": {
          "base_uri": "https://localhost:8080/"
        },
        "id": "KxPfAJ4QPPSh",
        "outputId": "a2d7c666-a6ff-4995-efd0-67daa1f1097e"
      },
      "source": [
        "dfAmazon = pd.read_csv(\"/content/drive/MyDrive/Colab Notebooks/AMZN.csv\")\n",
        "dfAmazon.shape"
      ],
      "execution_count": 27,
      "outputs": [
        {
          "output_type": "execute_result",
          "data": {
            "text/plain": [
              "(2768, 7)"
            ]
          },
          "metadata": {
            "tags": []
          },
          "execution_count": 27
        }
      ]
    },
    {
      "cell_type": "code",
      "metadata": {
        "id": "LbCqvhcXRbqw"
      },
      "source": [
        ""
      ],
      "execution_count": 27,
      "outputs": []
    },
    {
      "cell_type": "code",
      "metadata": {
        "colab": {
          "base_uri": "https://localhost:8080/"
        },
        "id": "3rrfqFRISreJ",
        "outputId": "783f34c4-1422-43dc-859f-f27116e97962"
      },
      "source": [
        "#O campo data esta em object/string, por isso irei converter um tipo data\n",
        "dfAmazon['Date'] = pd.to_datetime(dfAmazon['Date'], infer_datetime_format=True)\n",
        "dfAmazon.info()"
      ],
      "execution_count": 28,
      "outputs": [
        {
          "output_type": "stream",
          "text": [
            "<class 'pandas.core.frame.DataFrame'>\n",
            "RangeIndex: 2768 entries, 0 to 2767\n",
            "Data columns (total 7 columns):\n",
            " #   Column     Non-Null Count  Dtype         \n",
            "---  ------     --------------  -----         \n",
            " 0   Date       2768 non-null   datetime64[ns]\n",
            " 1   Open       2768 non-null   float64       \n",
            " 2   High       2768 non-null   float64       \n",
            " 3   Low        2768 non-null   float64       \n",
            " 4   Close      2768 non-null   float64       \n",
            " 5   Adj Close  2768 non-null   float64       \n",
            " 6   Volume     2768 non-null   int64         \n",
            "dtypes: datetime64[ns](1), float64(5), int64(1)\n",
            "memory usage: 151.5 KB\n"
          ],
          "name": "stdout"
        }
      ]
    },
    {
      "cell_type": "code",
      "metadata": {
        "id": "6RnadgcwTlbE"
      },
      "source": [
        ""
      ],
      "execution_count": 28,
      "outputs": []
    },
    {
      "cell_type": "code",
      "metadata": {
        "id": "psfn3_p5WBpS",
        "colab": {
          "base_uri": "https://localhost:8080/"
        },
        "outputId": "0d2eabe2-6291-43cb-ed07-eb960831955f"
      },
      "source": [
        "#Cauculando a media movel para 5 e 10 dias\n",
        "\n",
        "dfAmazon['MM 5 dias'] = dfAmazon['Adj Close'].rolling(5).mean()\n",
        "dfAmazon['MM 10 dias'] = dfAmazon['Adj Close'].rolling(10).mean()\n",
        "\n",
        "dfAmazon.shape"
      ],
      "execution_count": 29,
      "outputs": [
        {
          "output_type": "execute_result",
          "data": {
            "text/plain": [
              "(2768, 9)"
            ]
          },
          "metadata": {
            "tags": []
          },
          "execution_count": 29
        }
      ]
    },
    {
      "cell_type": "code",
      "metadata": {
        "colab": {
          "base_uri": "https://localhost:8080/"
        },
        "id": "jigxAuVPXPMF",
        "outputId": "43f88e91-a424-43ac-b297-eb77458147b8"
      },
      "source": [
        "#dfAmazon = dfAmazon.drop(columns = ['Media Movel = 10 dias'])\n",
        "dfAmazon.shape\n"
      ],
      "execution_count": 30,
      "outputs": [
        {
          "output_type": "execute_result",
          "data": {
            "text/plain": [
              "(2768, 9)"
            ]
          },
          "metadata": {
            "tags": []
          },
          "execution_count": 30
        }
      ]
    },
    {
      "cell_type": "code",
      "metadata": {
        "colab": {
          "base_uri": "https://localhost:8080/"
        },
        "id": "1BqIzMwBXSpT",
        "outputId": "eb4d463a-436d-4f02-85b3-da67717aa7f4"
      },
      "source": [
        "#Empurando 1 dia a frente para prever os valores\n",
        "\n",
        "dfAmazon['Adj Close'] = dfAmazon['Adj Close'].shift(-1)\n",
        "dfAmazon.tail(10)\n",
        "dfAmazon.shape\n"
      ],
      "execution_count": 31,
      "outputs": [
        {
          "output_type": "execute_result",
          "data": {
            "text/plain": [
              "(2768, 9)"
            ]
          },
          "metadata": {
            "tags": []
          },
          "execution_count": 31
        }
      ]
    },
    {
      "cell_type": "code",
      "metadata": {
        "colab": {
          "base_uri": "https://localhost:8080/",
          "height": 204
        },
        "id": "UItFpYDJaYLO",
        "outputId": "de232cb5-43cf-46fe-cdeb-708ec42ad6ef"
      },
      "source": [
        "#Excluindo valores NAN\n",
        "\n",
        "dfAMZN = dfAmazon.dropna()\n",
        "dfAMZN.head()"
      ],
      "execution_count": 32,
      "outputs": [
        {
          "output_type": "execute_result",
          "data": {
            "text/html": [
              "<div>\n",
              "<style scoped>\n",
              "    .dataframe tbody tr th:only-of-type {\n",
              "        vertical-align: middle;\n",
              "    }\n",
              "\n",
              "    .dataframe tbody tr th {\n",
              "        vertical-align: top;\n",
              "    }\n",
              "\n",
              "    .dataframe thead th {\n",
              "        text-align: right;\n",
              "    }\n",
              "</style>\n",
              "<table border=\"1\" class=\"dataframe\">\n",
              "  <thead>\n",
              "    <tr style=\"text-align: right;\">\n",
              "      <th></th>\n",
              "      <th>Date</th>\n",
              "      <th>Open</th>\n",
              "      <th>High</th>\n",
              "      <th>Low</th>\n",
              "      <th>Close</th>\n",
              "      <th>Adj Close</th>\n",
              "      <th>Volume</th>\n",
              "      <th>MM 5 dias</th>\n",
              "      <th>MM 10 dias</th>\n",
              "    </tr>\n",
              "  </thead>\n",
              "  <tbody>\n",
              "    <tr>\n",
              "      <th>9</th>\n",
              "      <td>2010-01-15</td>\n",
              "      <td>129.179993</td>\n",
              "      <td>129.649994</td>\n",
              "      <td>127.059998</td>\n",
              "      <td>127.139999</td>\n",
              "      <td>127.610001</td>\n",
              "      <td>15376500</td>\n",
              "      <td>128.251999</td>\n",
              "      <td>130.561999</td>\n",
              "    </tr>\n",
              "    <tr>\n",
              "      <th>10</th>\n",
              "      <td>2010-01-19</td>\n",
              "      <td>126.309998</td>\n",
              "      <td>128.000000</td>\n",
              "      <td>124.330002</td>\n",
              "      <td>127.610001</td>\n",
              "      <td>125.779999</td>\n",
              "      <td>8892600</td>\n",
              "      <td>127.711999</td>\n",
              "      <td>129.933000</td>\n",
              "    </tr>\n",
              "    <tr>\n",
              "      <th>11</th>\n",
              "      <td>2010-01-20</td>\n",
              "      <td>127.129997</td>\n",
              "      <td>129.199997</td>\n",
              "      <td>125.080002</td>\n",
              "      <td>125.779999</td>\n",
              "      <td>126.620003</td>\n",
              "      <td>9074700</td>\n",
              "      <td>127.398000</td>\n",
              "      <td>129.042000</td>\n",
              "    </tr>\n",
              "    <tr>\n",
              "      <th>12</th>\n",
              "      <td>2010-01-21</td>\n",
              "      <td>127.260002</td>\n",
              "      <td>128.149994</td>\n",
              "      <td>125.000000</td>\n",
              "      <td>126.620003</td>\n",
              "      <td>121.430000</td>\n",
              "      <td>9970600</td>\n",
              "      <td>126.900000</td>\n",
              "      <td>128.479000</td>\n",
              "    </tr>\n",
              "    <tr>\n",
              "      <th>13</th>\n",
              "      <td>2010-01-22</td>\n",
              "      <td>125.599998</td>\n",
              "      <td>127.669998</td>\n",
              "      <td>120.760002</td>\n",
              "      <td>121.430000</td>\n",
              "      <td>120.309998</td>\n",
              "      <td>11568900</td>\n",
              "      <td>125.716000</td>\n",
              "      <td>127.622000</td>\n",
              "    </tr>\n",
              "  </tbody>\n",
              "</table>\n",
              "</div>"
            ],
            "text/plain": [
              "         Date        Open        High  ...    Volume   MM 5 dias  MM 10 dias\n",
              "9  2010-01-15  129.179993  129.649994  ...  15376500  128.251999  130.561999\n",
              "10 2010-01-19  126.309998  128.000000  ...   8892600  127.711999  129.933000\n",
              "11 2010-01-20  127.129997  129.199997  ...   9074700  127.398000  129.042000\n",
              "12 2010-01-21  127.260002  128.149994  ...   9970600  126.900000  128.479000\n",
              "13 2010-01-22  125.599998  127.669998  ...  11568900  125.716000  127.622000\n",
              "\n",
              "[5 rows x 9 columns]"
            ]
          },
          "metadata": {
            "tags": []
          },
          "execution_count": 32
        }
      ]
    },
    {
      "cell_type": "code",
      "metadata": {
        "colab": {
          "base_uri": "https://localhost:8080/"
        },
        "id": "shbYqWsYcG1Q",
        "outputId": "5eff7ef6-da10-478d-b58f-314ec3e4355f"
      },
      "source": [
        "len(dfAMZN)\n",
        "#len(dfAMZN)"
      ],
      "execution_count": 33,
      "outputs": [
        {
          "output_type": "execute_result",
          "data": {
            "text/plain": [
              "2758"
            ]
          },
          "metadata": {
            "tags": []
          },
          "execution_count": 33
        }
      ]
    },
    {
      "cell_type": "code",
      "metadata": {
        "id": "VzpGAwPKchdy"
      },
      "source": [
        "#Reindexando o data Frame\n",
        "\n",
        "#dfAmazon = dfAmazon.reset_index(drop = True)\n",
        "#dfAmazon.head()"
      ],
      "execution_count": 34,
      "outputs": []
    },
    {
      "cell_type": "code",
      "metadata": {
        "id": "Q822iq-mducK"
      },
      "source": [
        "#separando features e labels\n",
        "\n",
        "features = dfAMZN.drop(['Date', 'Close', 'Adj Close'], 1)\n",
        "Label = dfAMZN['Adj Close']\n"
      ],
      "execution_count": 35,
      "outputs": []
    },
    {
      "cell_type": "code",
      "metadata": {
        "colab": {
          "base_uri": "https://localhost:8080/"
        },
        "id": "j_TwrPdpjE6t",
        "outputId": "651fdc07-2d77-4719-f69f-dbe653122fb8"
      },
      "source": [
        "#Escolhendo melhores features\n",
        "\n",
        "featuresList = ('Open',\t'High', 'Low',\t'Volume',\t'MM 5 dias',\t'MM 10 dias')\n",
        "\n",
        "bestFeatures = SelectKBest(k='all')\n",
        "bestFeatures.fit_transform(features, Label)\n",
        "#bestFeaturesScores = bestFeatures.scores_\n",
        "rawPairs = zip(featuresList[0:], bestFeatures.scores_)\n",
        "#ordenar pares\n",
        "orderedPairs = list(reversed(sorted(rawPairs, key = lambda x: x[1])))\n",
        "\n",
        "#melhores keys/features\n",
        "bestFeaturesFinal = dict(orderedPairs)\n",
        "print('Melhores \\n', bestFeaturesFinal)\n"
      ],
      "execution_count": 36,
      "outputs": [
        {
          "output_type": "stream",
          "text": [
            "Melhores \n",
            " {'High': 1591.0656892228521, 'Open': 1129.31574069071, 'Low': 1032.811519972679, 'MM 5 dias': 1030.9720035773723, 'MM 10 dias': 797.9536423815468, 'Volume': 0.40079534930539534}\n"
          ],
          "name": "stdout"
        }
      ]
    },
    {
      "cell_type": "code",
      "metadata": {
        "colab": {
          "base_uri": "https://localhost:8080/",
          "height": 204
        },
        "id": "17SnU4UEmfGJ",
        "outputId": "96b202f9-7fa3-4738-cf62-7da9637845d6"
      },
      "source": [
        "#Novas Features baseada nos algoritmos acima\n",
        "\n",
        "newFeatures = features.drop(['Volume'], 1)\n",
        "newFeatures.head()\n"
      ],
      "execution_count": 37,
      "outputs": [
        {
          "output_type": "execute_result",
          "data": {
            "text/html": [
              "<div>\n",
              "<style scoped>\n",
              "    .dataframe tbody tr th:only-of-type {\n",
              "        vertical-align: middle;\n",
              "    }\n",
              "\n",
              "    .dataframe tbody tr th {\n",
              "        vertical-align: top;\n",
              "    }\n",
              "\n",
              "    .dataframe thead th {\n",
              "        text-align: right;\n",
              "    }\n",
              "</style>\n",
              "<table border=\"1\" class=\"dataframe\">\n",
              "  <thead>\n",
              "    <tr style=\"text-align: right;\">\n",
              "      <th></th>\n",
              "      <th>Open</th>\n",
              "      <th>High</th>\n",
              "      <th>Low</th>\n",
              "      <th>MM 5 dias</th>\n",
              "      <th>MM 10 dias</th>\n",
              "    </tr>\n",
              "  </thead>\n",
              "  <tbody>\n",
              "    <tr>\n",
              "      <th>9</th>\n",
              "      <td>129.179993</td>\n",
              "      <td>129.649994</td>\n",
              "      <td>127.059998</td>\n",
              "      <td>128.251999</td>\n",
              "      <td>130.561999</td>\n",
              "    </tr>\n",
              "    <tr>\n",
              "      <th>10</th>\n",
              "      <td>126.309998</td>\n",
              "      <td>128.000000</td>\n",
              "      <td>124.330002</td>\n",
              "      <td>127.711999</td>\n",
              "      <td>129.933000</td>\n",
              "    </tr>\n",
              "    <tr>\n",
              "      <th>11</th>\n",
              "      <td>127.129997</td>\n",
              "      <td>129.199997</td>\n",
              "      <td>125.080002</td>\n",
              "      <td>127.398000</td>\n",
              "      <td>129.042000</td>\n",
              "    </tr>\n",
              "    <tr>\n",
              "      <th>12</th>\n",
              "      <td>127.260002</td>\n",
              "      <td>128.149994</td>\n",
              "      <td>125.000000</td>\n",
              "      <td>126.900000</td>\n",
              "      <td>128.479000</td>\n",
              "    </tr>\n",
              "    <tr>\n",
              "      <th>13</th>\n",
              "      <td>125.599998</td>\n",
              "      <td>127.669998</td>\n",
              "      <td>120.760002</td>\n",
              "      <td>125.716000</td>\n",
              "      <td>127.622000</td>\n",
              "    </tr>\n",
              "  </tbody>\n",
              "</table>\n",
              "</div>"
            ],
            "text/plain": [
              "          Open        High         Low   MM 5 dias  MM 10 dias\n",
              "9   129.179993  129.649994  127.059998  128.251999  130.561999\n",
              "10  126.309998  128.000000  124.330002  127.711999  129.933000\n",
              "11  127.129997  129.199997  125.080002  127.398000  129.042000\n",
              "12  127.260002  128.149994  125.000000  126.900000  128.479000\n",
              "13  125.599998  127.669998  120.760002  125.716000  127.622000"
            ]
          },
          "metadata": {
            "tags": []
          },
          "execution_count": 37
        }
      ]
    },
    {
      "cell_type": "code",
      "metadata": {
        "colab": {
          "base_uri": "https://localhost:8080/"
        },
        "id": "K8wrQUICqG01",
        "outputId": "a84418c7-a17b-4d35-a209-6efeee73bd1d"
      },
      "source": [
        "#Normalizando/balanceando os dados\n",
        "\n",
        "scaler = MinMaxScaler().fit(newFeatures)\n",
        "featuresScaler = scaler.transform(newFeatures)\n",
        "\n",
        "print('Features \\n', featuresScaler.shape, '\\n ', featuresScaler)"
      ],
      "execution_count": 38,
      "outputs": [
        {
          "output_type": "stream",
          "text": [
            "Features \n",
            " (2758, 5) \n",
            "  [[0.00675662 0.00533572 0.00628828 0.00557086 0.00526808]\n",
            " [0.00592258 0.0048562  0.00548081 0.00540952 0.00507695]\n",
            " [0.00616087 0.00520494 0.00570264 0.00531571 0.00480621]\n",
            " ...\n",
            " [0.89738654 0.89821155 0.90603363 0.92166138 0.93455111]\n",
            " [0.89741563 0.92785444 0.90712505 0.92657973 0.93964204]\n",
            " [0.93110862 0.94141167 0.93922607 0.93350044 0.9446567 ]]\n"
          ],
          "name": "stdout"
        }
      ]
    },
    {
      "cell_type": "code",
      "metadata": {
        "id": "mW08V_OcuIKx"
      },
      "source": [
        "#Separando dados de Treino e de teste\n",
        "#80% de treino e 20% de teste\n",
        "\n",
        "# x = featuresScaler\n",
        "# y = Label\n",
        "\n",
        "# xTrain, xTeste = featuresScaler\n",
        "# yTrain, YTeste = Label\n",
        "\n",
        "#separando dados comprar o predict futuramente, no codigo abaixo\n",
        "# validacaoDados = len(featuresScaler) - 10 = 2748\n",
        "# len(featuresScaler) = 2758 \n",
        "# len(dfAmazon) = 2758\n",
        "\n",
        "#treino/aprendizado\n",
        "xTrain, xTest, yTrain, yTest = train_test_split(featuresScaler, Label, test_size = 0.20)"
      ],
      "execution_count": 39,
      "outputs": []
    },
    {
      "cell_type": "code",
      "metadata": {
        "colab": {
          "base_uri": "https://localhost:8080/"
        },
        "id": "p6oL-VcAku49",
        "outputId": "0362710d-66e3-4202-fe35-a40d9807c959"
      },
      "source": [
        "len(xTrain)"
      ],
      "execution_count": 40,
      "outputs": [
        {
          "output_type": "execute_result",
          "data": {
            "text/plain": [
              "2206"
            ]
          },
          "metadata": {
            "tags": []
          },
          "execution_count": 40
        }
      ]
    },
    {
      "cell_type": "code",
      "metadata": {
        "colab": {
          "base_uri": "https://localhost:8080/"
        },
        "id": "oExAwAO0whEt",
        "outputId": "df16fd00-1d0f-4269-8ce3-d3a9a5b89a72"
      },
      "source": [
        "#Aprendizado - almoritmo de Regressão linear\n",
        "\n",
        "regressaoLinear = LinearRegression()\n",
        "regressaoLinear.fit(xTrain, yTrain)"
      ],
      "execution_count": 41,
      "outputs": [
        {
          "output_type": "execute_result",
          "data": {
            "text/plain": [
              "LinearRegression(copy_X=True, fit_intercept=True, n_jobs=None, normalize=False)"
            ]
          },
          "metadata": {
            "tags": []
          },
          "execution_count": 41
        }
      ]
    },
    {
      "cell_type": "code",
      "metadata": {
        "id": "HlD7PG55yT3S"
      },
      "source": [
        "#predição - Regressão Linear\n",
        "\n",
        "predict = regressaoLinear.predict(xTest)"
      ],
      "execution_count": 42,
      "outputs": []
    },
    {
      "cell_type": "code",
      "metadata": {
        "colab": {
          "base_uri": "https://localhost:8080/"
        },
        "id": "BQZ9x-0gyi05",
        "outputId": "0986959e-b2c4-4e87-fc93-601ee29403e1"
      },
      "source": [
        "#Metricas e Relatorios\n",
        "\n",
        "print('Coeficiente de Determinação \\n', (r2_score(yTest, predict)) * 100)"
      ],
      "execution_count": 43,
      "outputs": [
        {
          "output_type": "stream",
          "text": [
            "Coeficiente de Determinação \n",
            " 99.89568848925487\n"
          ],
          "name": "stdout"
        }
      ]
    },
    {
      "cell_type": "code",
      "metadata": {
        "colab": {
          "base_uri": "https://localhost:8080/"
        },
        "id": "It5Qd-Hu1Ai3",
        "outputId": "55abdb58-f379-4316-89ad-465c993c25df"
      },
      "source": [
        "#Aprendizado - almoritmo de Rede Neural\n",
        "\n",
        "redeNeural = MLPRegressor()\n",
        "redeNeural.fit(xTrain, yTrain)"
      ],
      "execution_count": 44,
      "outputs": [
        {
          "output_type": "stream",
          "text": [
            "/usr/local/lib/python3.7/dist-packages/sklearn/neural_network/_multilayer_perceptron.py:571: ConvergenceWarning: Stochastic Optimizer: Maximum iterations (200) reached and the optimization hasn't converged yet.\n",
            "  % self.max_iter, ConvergenceWarning)\n"
          ],
          "name": "stderr"
        },
        {
          "output_type": "execute_result",
          "data": {
            "text/plain": [
              "MLPRegressor(activation='relu', alpha=0.0001, batch_size='auto', beta_1=0.9,\n",
              "             beta_2=0.999, early_stopping=False, epsilon=1e-08,\n",
              "             hidden_layer_sizes=(100,), learning_rate='constant',\n",
              "             learning_rate_init=0.001, max_fun=15000, max_iter=200,\n",
              "             momentum=0.9, n_iter_no_change=10, nesterovs_momentum=True,\n",
              "             power_t=0.5, random_state=None, shuffle=True, solver='adam',\n",
              "             tol=0.0001, validation_fraction=0.1, verbose=False,\n",
              "             warm_start=False)"
            ]
          },
          "metadata": {
            "tags": []
          },
          "execution_count": 44
        }
      ]
    },
    {
      "cell_type": "code",
      "metadata": {
        "id": "WzEd_oLW2V5g"
      },
      "source": [
        "#predição - Rede Neural\n",
        "\n",
        "predict2 = redeNeural.predict(xTest)"
      ],
      "execution_count": 45,
      "outputs": []
    },
    {
      "cell_type": "code",
      "metadata": {
        "colab": {
          "base_uri": "https://localhost:8080/"
        },
        "id": "h_yD90hL2wqX",
        "outputId": "6714636f-6886-4fc8-a291-d07451a8dda3"
      },
      "source": [
        "#Metricas e Relatorios de Rede Neural\n",
        "\n",
        "print('Coeficiente de Determinação \\n', (r2_score(yTest, predict2)) * 100)\n"
      ],
      "execution_count": 46,
      "outputs": [
        {
          "output_type": "stream",
          "text": [
            "Coeficiente de Determinação \n",
            " 72.5691572267439\n"
          ],
          "name": "stdout"
        }
      ]
    },
    {
      "cell_type": "code",
      "metadata": {
        "id": "HVK0XGbG27bv",
        "colab": {
          "base_uri": "https://localhost:8080/",
          "height": 359
        },
        "outputId": "6a1c17a4-95f9-4473-9d56-45cad4d78e8e"
      },
      "source": [
        "#Executando a preveisão\n",
        "\n",
        "#seperando os dados que foram preditos\n",
        "previsao = featuresScaler[2749:2768]\n",
        "\n",
        "#obtendo as datas\n",
        "dataPregaoFull = dfAMZN['Date']\n",
        "\n",
        "#separando as datas\n",
        "dataPregao = dataPregaoFull[2749:2768]\n",
        "\n",
        "#obtendo todos os preços de fechamento\n",
        "precoFechamentoFull = dfAMZN['Adj Close']\n",
        "\n",
        "#separando os preços de fechamento\n",
        "precoFechamento = precoFechamentoFull[2749:2768]\n",
        "\n",
        "#variavel predict da regressão linear\n",
        "pred = regressaoLinear.predict(previsao)\n",
        "\n",
        "#Criando DataFrame dos dados separados\n",
        "dfPrevisao = pd.DataFrame({'Data Pregao': dataPregao, 'Preco Fechamento': precoFechamento, 'Previsao': pred})\n",
        "\n",
        "#retornando o shift para posição original\n",
        "dfPrevisao['Preco Fechamento'] = dfPrevisao['Preco Fechamento'].shift(+1)\n",
        "\n",
        "#setar index\n",
        "dfPrevisao.set_index('Data Pregao', inplace = True)\n",
        "\n",
        "dfPrevisao.head(10)\n"
      ],
      "execution_count": 47,
      "outputs": [
        {
          "output_type": "execute_result",
          "data": {
            "text/html": [
              "<div>\n",
              "<style scoped>\n",
              "    .dataframe tbody tr th:only-of-type {\n",
              "        vertical-align: middle;\n",
              "    }\n",
              "\n",
              "    .dataframe tbody tr th {\n",
              "        vertical-align: top;\n",
              "    }\n",
              "\n",
              "    .dataframe thead th {\n",
              "        text-align: right;\n",
              "    }\n",
              "</style>\n",
              "<table border=\"1\" class=\"dataframe\">\n",
              "  <thead>\n",
              "    <tr style=\"text-align: right;\">\n",
              "      <th></th>\n",
              "      <th>Preco Fechamento</th>\n",
              "      <th>Previsao</th>\n",
              "    </tr>\n",
              "    <tr>\n",
              "      <th>Data Pregao</th>\n",
              "      <th></th>\n",
              "      <th></th>\n",
              "    </tr>\n",
              "  </thead>\n",
              "  <tbody>\n",
              "    <tr>\n",
              "      <th>2020-12-16</th>\n",
              "      <td>NaN</td>\n",
              "      <td>3236.914878</td>\n",
              "    </tr>\n",
              "    <tr>\n",
              "      <th>2020-12-17</th>\n",
              "      <td>3236.080078</td>\n",
              "      <td>3240.280049</td>\n",
              "    </tr>\n",
              "    <tr>\n",
              "      <th>2020-12-18</th>\n",
              "      <td>3201.649902</td>\n",
              "      <td>3190.620614</td>\n",
              "    </tr>\n",
              "    <tr>\n",
              "      <th>2020-12-21</th>\n",
              "      <td>3206.179932</td>\n",
              "      <td>3207.851715</td>\n",
              "    </tr>\n",
              "    <tr>\n",
              "      <th>2020-12-22</th>\n",
              "      <td>3206.520020</td>\n",
              "      <td>3215.202680</td>\n",
              "    </tr>\n",
              "    <tr>\n",
              "      <th>2020-12-23</th>\n",
              "      <td>3185.270020</td>\n",
              "      <td>3205.027316</td>\n",
              "    </tr>\n",
              "    <tr>\n",
              "      <th>2020-12-24</th>\n",
              "      <td>3172.689941</td>\n",
              "      <td>3192.202899</td>\n",
              "    </tr>\n",
              "    <tr>\n",
              "      <th>2020-12-28</th>\n",
              "      <td>3283.959961</td>\n",
              "      <td>3285.352112</td>\n",
              "    </tr>\n",
              "    <tr>\n",
              "      <th>2020-12-29</th>\n",
              "      <td>3322.000000</td>\n",
              "      <td>3322.749327</td>\n",
              "    </tr>\n",
              "  </tbody>\n",
              "</table>\n",
              "</div>"
            ],
            "text/plain": [
              "             Preco Fechamento     Previsao\n",
              "Data Pregao                               \n",
              "2020-12-16                NaN  3236.914878\n",
              "2020-12-17        3236.080078  3240.280049\n",
              "2020-12-18        3201.649902  3190.620614\n",
              "2020-12-21        3206.179932  3207.851715\n",
              "2020-12-22        3206.520020  3215.202680\n",
              "2020-12-23        3185.270020  3205.027316\n",
              "2020-12-24        3172.689941  3192.202899\n",
              "2020-12-28        3283.959961  3285.352112\n",
              "2020-12-29        3322.000000  3322.749327"
            ]
          },
          "metadata": {
            "tags": []
          },
          "execution_count": 47
        }
      ]
    },
    {
      "cell_type": "code",
      "metadata": {
        "colab": {
          "base_uri": "https://localhost:8080/",
          "height": 700
        },
        "id": "C2bRFH0t4QDm",
        "outputId": "77ce307d-7751-4a45-b0f7-014d2dd71e1f"
      },
      "source": [
        "dfAmazon[2747:2769]"
      ],
      "execution_count": 48,
      "outputs": [
        {
          "output_type": "execute_result",
          "data": {
            "text/html": [
              "<div>\n",
              "<style scoped>\n",
              "    .dataframe tbody tr th:only-of-type {\n",
              "        vertical-align: middle;\n",
              "    }\n",
              "\n",
              "    .dataframe tbody tr th {\n",
              "        vertical-align: top;\n",
              "    }\n",
              "\n",
              "    .dataframe thead th {\n",
              "        text-align: right;\n",
              "    }\n",
              "</style>\n",
              "<table border=\"1\" class=\"dataframe\">\n",
              "  <thead>\n",
              "    <tr style=\"text-align: right;\">\n",
              "      <th></th>\n",
              "      <th>Date</th>\n",
              "      <th>Open</th>\n",
              "      <th>High</th>\n",
              "      <th>Low</th>\n",
              "      <th>Close</th>\n",
              "      <th>Adj Close</th>\n",
              "      <th>Volume</th>\n",
              "      <th>MM 5 dias</th>\n",
              "      <th>MM 10 dias</th>\n",
              "    </tr>\n",
              "  </thead>\n",
              "  <tbody>\n",
              "    <tr>\n",
              "      <th>2747</th>\n",
              "      <td>2020-12-01</td>\n",
              "      <td>3188.500000</td>\n",
              "      <td>3248.949951</td>\n",
              "      <td>3157.179932</td>\n",
              "      <td>3220.080078</td>\n",
              "      <td>3203.530029</td>\n",
              "      <td>4544400</td>\n",
              "      <td>3177.318066</td>\n",
              "      <td>3144.252002</td>\n",
              "    </tr>\n",
              "    <tr>\n",
              "      <th>2748</th>\n",
              "      <td>2020-12-02</td>\n",
              "      <td>3221.649902</td>\n",
              "      <td>3232.000000</td>\n",
              "      <td>3173.260010</td>\n",
              "      <td>3203.530029</td>\n",
              "      <td>3186.729980</td>\n",
              "      <td>3129300</td>\n",
              "      <td>3194.412060</td>\n",
              "      <td>3151.039014</td>\n",
              "    </tr>\n",
              "    <tr>\n",
              "      <th>2749</th>\n",
              "      <td>2020-12-03</td>\n",
              "      <td>3205.459961</td>\n",
              "      <td>3228.639893</td>\n",
              "      <td>3181.310059</td>\n",
              "      <td>3186.729980</td>\n",
              "      <td>3162.580078</td>\n",
              "      <td>2892000</td>\n",
              "      <td>3194.744043</td>\n",
              "      <td>3159.166016</td>\n",
              "    </tr>\n",
              "    <tr>\n",
              "      <th>2750</th>\n",
              "      <td>2020-12-04</td>\n",
              "      <td>3198.209961</td>\n",
              "      <td>3198.209961</td>\n",
              "      <td>3158.760010</td>\n",
              "      <td>3162.580078</td>\n",
              "      <td>3158.000000</td>\n",
              "      <td>2913600</td>\n",
              "      <td>3188.192041</td>\n",
              "      <td>3163.722021</td>\n",
              "    </tr>\n",
              "    <tr>\n",
              "      <th>2751</th>\n",
              "      <td>2020-12-07</td>\n",
              "      <td>3156.479980</td>\n",
              "      <td>3180.760010</td>\n",
              "      <td>3141.689941</td>\n",
              "      <td>3158.000000</td>\n",
              "      <td>3177.290039</td>\n",
              "      <td>2751300</td>\n",
              "      <td>3186.184033</td>\n",
              "      <td>3169.582031</td>\n",
              "    </tr>\n",
              "    <tr>\n",
              "      <th>2752</th>\n",
              "      <td>2020-12-08</td>\n",
              "      <td>3158.899902</td>\n",
              "      <td>3184.129883</td>\n",
              "      <td>3120.020020</td>\n",
              "      <td>3177.290039</td>\n",
              "      <td>3104.199951</td>\n",
              "      <td>3286300</td>\n",
              "      <td>3177.626025</td>\n",
              "      <td>3177.472046</td>\n",
              "    </tr>\n",
              "    <tr>\n",
              "      <th>2753</th>\n",
              "      <td>2020-12-09</td>\n",
              "      <td>3167.889893</td>\n",
              "      <td>3174.429932</td>\n",
              "      <td>3088.000000</td>\n",
              "      <td>3104.199951</td>\n",
              "      <td>3101.489990</td>\n",
              "      <td>4100800</td>\n",
              "      <td>3157.760010</td>\n",
              "      <td>3176.086035</td>\n",
              "    </tr>\n",
              "    <tr>\n",
              "      <th>2754</th>\n",
              "      <td>2020-12-10</td>\n",
              "      <td>3088.989990</td>\n",
              "      <td>3142.100098</td>\n",
              "      <td>3076.000000</td>\n",
              "      <td>3101.489990</td>\n",
              "      <td>3116.419922</td>\n",
              "      <td>3030200</td>\n",
              "      <td>3140.712012</td>\n",
              "      <td>3167.728027</td>\n",
              "    </tr>\n",
              "    <tr>\n",
              "      <th>2755</th>\n",
              "      <td>2020-12-11</td>\n",
              "      <td>3096.659912</td>\n",
              "      <td>3118.669922</td>\n",
              "      <td>3072.820068</td>\n",
              "      <td>3116.419922</td>\n",
              "      <td>3156.969971</td>\n",
              "      <td>3064700</td>\n",
              "      <td>3131.479980</td>\n",
              "      <td>3159.836011</td>\n",
              "    </tr>\n",
              "    <tr>\n",
              "      <th>2756</th>\n",
              "      <td>2020-12-14</td>\n",
              "      <td>3143.000000</td>\n",
              "      <td>3190.469971</td>\n",
              "      <td>3126.000000</td>\n",
              "      <td>3156.969971</td>\n",
              "      <td>3165.120117</td>\n",
              "      <td>4155800</td>\n",
              "      <td>3131.273975</td>\n",
              "      <td>3158.729004</td>\n",
              "    </tr>\n",
              "    <tr>\n",
              "      <th>2757</th>\n",
              "      <td>2020-12-15</td>\n",
              "      <td>3181.010010</td>\n",
              "      <td>3188.500000</td>\n",
              "      <td>3130.489990</td>\n",
              "      <td>3165.120117</td>\n",
              "      <td>3240.959961</td>\n",
              "      <td>3323700</td>\n",
              "      <td>3128.839990</td>\n",
              "      <td>3153.233008</td>\n",
              "    </tr>\n",
              "    <tr>\n",
              "      <th>2758</th>\n",
              "      <td>2020-12-16</td>\n",
              "      <td>3176.010010</td>\n",
              "      <td>3247.000000</td>\n",
              "      <td>3163.679932</td>\n",
              "      <td>3240.959961</td>\n",
              "      <td>3236.080078</td>\n",
              "      <td>4427600</td>\n",
              "      <td>3156.191992</td>\n",
              "      <td>3156.976001</td>\n",
              "    </tr>\n",
              "    <tr>\n",
              "      <th>2759</th>\n",
              "      <td>2020-12-17</td>\n",
              "      <td>3250.000000</td>\n",
              "      <td>3263.510010</td>\n",
              "      <td>3221.000000</td>\n",
              "      <td>3236.080078</td>\n",
              "      <td>3201.649902</td>\n",
              "      <td>3474300</td>\n",
              "      <td>3183.110010</td>\n",
              "      <td>3161.911011</td>\n",
              "    </tr>\n",
              "    <tr>\n",
              "      <th>2760</th>\n",
              "      <td>2020-12-18</td>\n",
              "      <td>3243.989990</td>\n",
              "      <td>3249.419922</td>\n",
              "      <td>3171.600098</td>\n",
              "      <td>3201.649902</td>\n",
              "      <td>3206.179932</td>\n",
              "      <td>5995700</td>\n",
              "      <td>3200.156006</td>\n",
              "      <td>3165.817993</td>\n",
              "    </tr>\n",
              "    <tr>\n",
              "      <th>2761</th>\n",
              "      <td>2020-12-21</td>\n",
              "      <td>3200.010010</td>\n",
              "      <td>3226.969971</td>\n",
              "      <td>3166.000000</td>\n",
              "      <td>3206.179932</td>\n",
              "      <td>3206.520020</td>\n",
              "      <td>3836800</td>\n",
              "      <td>3209.997998</td>\n",
              "      <td>3170.635986</td>\n",
              "    </tr>\n",
              "    <tr>\n",
              "      <th>2762</th>\n",
              "      <td>2020-12-22</td>\n",
              "      <td>3202.840088</td>\n",
              "      <td>3222.000000</td>\n",
              "      <td>3180.080078</td>\n",
              "      <td>3206.520020</td>\n",
              "      <td>3185.270020</td>\n",
              "      <td>2369400</td>\n",
              "      <td>3218.277979</td>\n",
              "      <td>3173.558984</td>\n",
              "    </tr>\n",
              "    <tr>\n",
              "      <th>2763</th>\n",
              "      <td>2020-12-23</td>\n",
              "      <td>3205.000000</td>\n",
              "      <td>3210.129883</td>\n",
              "      <td>3184.169922</td>\n",
              "      <td>3185.270020</td>\n",
              "      <td>3172.689941</td>\n",
              "      <td>2093800</td>\n",
              "      <td>3207.139990</td>\n",
              "      <td>3181.665991</td>\n",
              "    </tr>\n",
              "    <tr>\n",
              "      <th>2764</th>\n",
              "      <td>2020-12-24</td>\n",
              "      <td>3193.899902</td>\n",
              "      <td>3202.000000</td>\n",
              "      <td>3169.000000</td>\n",
              "      <td>3172.689941</td>\n",
              "      <td>3283.959961</td>\n",
              "      <td>1451900</td>\n",
              "      <td>3194.461963</td>\n",
              "      <td>3188.785986</td>\n",
              "    </tr>\n",
              "    <tr>\n",
              "      <th>2765</th>\n",
              "      <td>2020-12-28</td>\n",
              "      <td>3194.000000</td>\n",
              "      <td>3304.000000</td>\n",
              "      <td>3172.689941</td>\n",
              "      <td>3283.959961</td>\n",
              "      <td>3322.000000</td>\n",
              "      <td>5686800</td>\n",
              "      <td>3210.923975</td>\n",
              "      <td>3205.539990</td>\n",
              "    </tr>\n",
              "    <tr>\n",
              "      <th>2766</th>\n",
              "      <td>2020-12-29</td>\n",
              "      <td>3309.939941</td>\n",
              "      <td>3350.649902</td>\n",
              "      <td>3281.219971</td>\n",
              "      <td>3322.000000</td>\n",
              "      <td>3285.850098</td>\n",
              "      <td>4872900</td>\n",
              "      <td>3234.087988</td>\n",
              "      <td>3222.042993</td>\n",
              "    </tr>\n",
              "    <tr>\n",
              "      <th>2767</th>\n",
              "      <td>2020-12-30</td>\n",
              "      <td>3341.000000</td>\n",
              "      <td>3342.100098</td>\n",
              "      <td>3282.469971</td>\n",
              "      <td>3285.850098</td>\n",
              "      <td>NaN</td>\n",
              "      <td>3209300</td>\n",
              "      <td>3249.954004</td>\n",
              "      <td>3234.115991</td>\n",
              "    </tr>\n",
              "  </tbody>\n",
              "</table>\n",
              "</div>"
            ],
            "text/plain": [
              "           Date         Open         High  ...   Volume    MM 5 dias   MM 10 dias\n",
              "2747 2020-12-01  3188.500000  3248.949951  ...  4544400  3177.318066  3144.252002\n",
              "2748 2020-12-02  3221.649902  3232.000000  ...  3129300  3194.412060  3151.039014\n",
              "2749 2020-12-03  3205.459961  3228.639893  ...  2892000  3194.744043  3159.166016\n",
              "2750 2020-12-04  3198.209961  3198.209961  ...  2913600  3188.192041  3163.722021\n",
              "2751 2020-12-07  3156.479980  3180.760010  ...  2751300  3186.184033  3169.582031\n",
              "2752 2020-12-08  3158.899902  3184.129883  ...  3286300  3177.626025  3177.472046\n",
              "2753 2020-12-09  3167.889893  3174.429932  ...  4100800  3157.760010  3176.086035\n",
              "2754 2020-12-10  3088.989990  3142.100098  ...  3030200  3140.712012  3167.728027\n",
              "2755 2020-12-11  3096.659912  3118.669922  ...  3064700  3131.479980  3159.836011\n",
              "2756 2020-12-14  3143.000000  3190.469971  ...  4155800  3131.273975  3158.729004\n",
              "2757 2020-12-15  3181.010010  3188.500000  ...  3323700  3128.839990  3153.233008\n",
              "2758 2020-12-16  3176.010010  3247.000000  ...  4427600  3156.191992  3156.976001\n",
              "2759 2020-12-17  3250.000000  3263.510010  ...  3474300  3183.110010  3161.911011\n",
              "2760 2020-12-18  3243.989990  3249.419922  ...  5995700  3200.156006  3165.817993\n",
              "2761 2020-12-21  3200.010010  3226.969971  ...  3836800  3209.997998  3170.635986\n",
              "2762 2020-12-22  3202.840088  3222.000000  ...  2369400  3218.277979  3173.558984\n",
              "2763 2020-12-23  3205.000000  3210.129883  ...  2093800  3207.139990  3181.665991\n",
              "2764 2020-12-24  3193.899902  3202.000000  ...  1451900  3194.461963  3188.785986\n",
              "2765 2020-12-28  3194.000000  3304.000000  ...  5686800  3210.923975  3205.539990\n",
              "2766 2020-12-29  3309.939941  3350.649902  ...  4872900  3234.087988  3222.042993\n",
              "2767 2020-12-30  3341.000000  3342.100098  ...  3209300  3249.954004  3234.115991\n",
              "\n",
              "[21 rows x 9 columns]"
            ]
          },
          "metadata": {
            "tags": []
          },
          "execution_count": 48
        }
      ]
    },
    {
      "cell_type": "code",
      "metadata": {
        "colab": {
          "base_uri": "https://localhost:8080/",
          "height": 285
        },
        "id": "GglZd9RGAhZ_",
        "outputId": "d7892d8a-5539-4e7c-b94f-b6063ded6752"
      },
      "source": [
        "#Representação grafica\n",
        "\n",
        "columns = ['Preco Fechamento', 'Previsao']\n",
        "graph = dfPrevisao[columns].plot(figsize=(15, 4), grid=True, marker = 'o')"
      ],
      "execution_count": 49,
      "outputs": [
        {
          "output_type": "display_data",
          "data": {
            "image/png": "[encoded data removed]",
            "text/plain": [
              "<Figure size 1080x288 with 1 Axes>"
            ]
          },
          "metadata": {
            "tags": [],
            "needs_background": "light"
          }
        }
      ]
    },
    {
      "cell_type": "code",
      "metadata": {
        "id": "MUr4uz0HGBDv",
        "colab": {
          "base_uri": "https://localhost:8080/",
          "height": 904
        },
        "outputId": "4cfea3d3-dec0-473d-8b24-122e67754af6"
      },
      "source": [
        "sns.relplot(\n",
        "    data=dfPrevisao,\n",
        "    kind=\"line\", palette='rocket_r',\n",
        "    height = 12, aspect=.75, facet_kws=dict(sharex=False),\n",
        ")"
      ],
      "execution_count": 50,
      "outputs": [
        {
          "output_type": "execute_result",
          "data": {
            "text/plain": [
              "<seaborn.axisgrid.FacetGrid at 0x7f08007bd7d0>"
            ]
          },
          "metadata": {
            "tags": []
          },
          "execution_count": 50
        },
        {
          "output_type": "display_data",
          "data": {
            "image/png": "[encoded data removed]",
            "text/plain": [
              "<Figure size 775.875x864 with 1 Axes>"
            ]
          },
          "metadata": {
            "tags": [],
            "needs_background": "light"
          }
        }
      ]
    },
    {
      "cell_type": "code",
      "metadata": {
        "id": "KracGQTXDa3V"
      },
      "source": [
        ""
      ],
      "execution_count": 50,
      "outputs": []
    }
  ]
}