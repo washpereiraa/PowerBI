{
 "cells": [
  {
   "cell_type": "markdown",
   "metadata": {
    "colab_type": "text",
    "id": "view-in-github"
   },
   "source": [
    "<a href=\"https://colab.research.google.com/github/washpereiraa/DesafioPrime/blob/main/AMZN_Baixa.ipynb\" target=\"_parent\"><img src=\"https://colab.research.google.com/assets/colab-badge.svg\" alt=\"Open In Colab\"/></a>"
   ]
  },
  {
   "cell_type": "code",
   "execution_count": null,
   "metadata": {
    "id": "4ECy6hvxcOGo"
   },
   "outputs": [],
   "source": [
    "#importando bibliotecas\n",
    "\n",
    "#pandas e numpy\n",
    "import pandas as pd\n",
    "import numpy as np\n",
    "\n",
    "#Bibliotecas de Machine Learning\n",
    "from sklearn.tree import DecisionTreeRegressor\n",
    "from sklearn.linear_model import LinearRegression \n",
    "\n",
    "#treinamento e teste\n",
    "from sklearn.model_selection import train_test_split\n",
    "\n",
    "#Relatorios/Metricas\n",
    "from sklearn.metrics import r2_score, classification_report, confusion_matrix\n",
    "\n",
    "#graficos/plots\n",
    "import seaborn as sns\n",
    "import matplotlib.pyplot as plt\n",
    "%matplotlib inline\n",
    "\n"
   ]
  },
  {
   "cell_type": "code",
   "execution_count": null,
   "metadata": {
    "colab": {
     "base_uri": "https://localhost:8080/",
     "height": 204
    },
    "id": "C4i3T6nndK-3",
    "outputId": "6ccd7f07-2f9f-44c6-efbc-74acd4e323d2"
   },
   "outputs": [
    {
     "data": {
      "text/html": [
       "<div>\n",
       "<style scoped>\n",
       "    .dataframe tbody tr th:only-of-type {\n",
       "        vertical-align: middle;\n",
       "    }\n",
       "\n",
       "    .dataframe tbody tr th {\n",
       "        vertical-align: top;\n",
       "    }\n",
       "\n",
       "    .dataframe thead th {\n",
       "        text-align: right;\n",
       "    }\n",
       "</style>\n",
       "<table border=\"1\" class=\"dataframe\">\n",
       "  <thead>\n",
       "    <tr style=\"text-align: right;\">\n",
       "      <th></th>\n",
       "      <th>Date</th>\n",
       "      <th>Open</th>\n",
       "      <th>High</th>\n",
       "      <th>Low</th>\n",
       "      <th>Close</th>\n",
       "      <th>Adj Close</th>\n",
       "      <th>Volume</th>\n",
       "    </tr>\n",
       "  </thead>\n",
       "  <tbody>\n",
       "    <tr>\n",
       "      <th>0</th>\n",
       "      <td>2010-01-04</td>\n",
       "      <td>136.250000</td>\n",
       "      <td>136.610001</td>\n",
       "      <td>133.139999</td>\n",
       "      <td>133.899994</td>\n",
       "      <td>133.899994</td>\n",
       "      <td>7599900</td>\n",
       "    </tr>\n",
       "    <tr>\n",
       "      <th>1</th>\n",
       "      <td>2010-01-05</td>\n",
       "      <td>133.429993</td>\n",
       "      <td>135.479996</td>\n",
       "      <td>131.809998</td>\n",
       "      <td>134.690002</td>\n",
       "      <td>134.690002</td>\n",
       "      <td>8851900</td>\n",
       "    </tr>\n",
       "    <tr>\n",
       "      <th>2</th>\n",
       "      <td>2010-01-06</td>\n",
       "      <td>134.600006</td>\n",
       "      <td>134.729996</td>\n",
       "      <td>131.649994</td>\n",
       "      <td>132.250000</td>\n",
       "      <td>132.250000</td>\n",
       "      <td>7178800</td>\n",
       "    </tr>\n",
       "    <tr>\n",
       "      <th>3</th>\n",
       "      <td>2010-01-07</td>\n",
       "      <td>132.009995</td>\n",
       "      <td>132.320007</td>\n",
       "      <td>128.800003</td>\n",
       "      <td>130.000000</td>\n",
       "      <td>130.000000</td>\n",
       "      <td>11030200</td>\n",
       "    </tr>\n",
       "    <tr>\n",
       "      <th>4</th>\n",
       "      <td>2010-01-08</td>\n",
       "      <td>130.559998</td>\n",
       "      <td>133.679993</td>\n",
       "      <td>129.029999</td>\n",
       "      <td>133.520004</td>\n",
       "      <td>133.520004</td>\n",
       "      <td>9830500</td>\n",
       "    </tr>\n",
       "  </tbody>\n",
       "</table>\n",
       "</div>"
      ],
      "text/plain": [
       "         Date        Open        High  ...       Close   Adj Close    Volume\n",
       "0  2010-01-04  136.250000  136.610001  ...  133.899994  133.899994   7599900\n",
       "1  2010-01-05  133.429993  135.479996  ...  134.690002  134.690002   8851900\n",
       "2  2010-01-06  134.600006  134.729996  ...  132.250000  132.250000   7178800\n",
       "3  2010-01-07  132.009995  132.320007  ...  130.000000  130.000000  11030200\n",
       "4  2010-01-08  130.559998  133.679993  ...  133.520004  133.520004   9830500\n",
       "\n",
       "[5 rows x 7 columns]"
      ]
     },
     "execution_count": 122,
     "metadata": {
      "tags": []
     },
     "output_type": "execute_result"
    }
   ],
   "source": [
    "#Carregando Arquivos/DataFrame\n",
    "dfAmazon = pd.read_csv(\"/content/drive/MyDrive/Colab Notebooks/AMZN.csv\")\n",
    "dfAmazon.head()"
   ]
  },
  {
   "cell_type": "code",
   "execution_count": null,
   "metadata": {
    "colab": {
     "base_uri": "https://localhost:8080/"
    },
    "id": "y-Wh6UAndXWU",
    "outputId": "0d882ef2-56dc-400d-e5bc-0b4e4b850828"
   },
   "outputs": [
    {
     "data": {
      "text/plain": [
       "(2768, 7)"
      ]
     },
     "execution_count": 123,
     "metadata": {
      "tags": []
     },
     "output_type": "execute_result"
    }
   ],
   "source": [
    "#numero de dias de trainamento\n",
    "\n",
    "dfAmazon.shape"
   ]
  },
  {
   "cell_type": "code",
   "execution_count": null,
   "metadata": {
    "colab": {
     "base_uri": "https://localhost:8080/"
    },
    "id": "sJEsQl8eugTW",
    "outputId": "7c13a07a-e808-4d54-feff-081a39044fbf"
   },
   "outputs": [
    {
     "name": "stdout",
     "output_type": "stream",
     "text": [
      "<class 'pandas.core.frame.DataFrame'>\n",
      "RangeIndex: 2768 entries, 0 to 2767\n",
      "Data columns (total 7 columns):\n",
      " #   Column     Non-Null Count  Dtype  \n",
      "---  ------     --------------  -----  \n",
      " 0   Date       2768 non-null   object \n",
      " 1   Open       2768 non-null   float64\n",
      " 2   High       2768 non-null   float64\n",
      " 3   Low        2768 non-null   float64\n",
      " 4   Close      2768 non-null   float64\n",
      " 5   Adj Close  2768 non-null   float64\n",
      " 6   Volume     2768 non-null   int64  \n",
      "dtypes: float64(5), int64(1), object(1)\n",
      "memory usage: 151.5+ KB\n"
     ]
    }
   ],
   "source": [
    "dfAmazon.info()"
   ]
  },
  {
   "cell_type": "code",
   "execution_count": null,
   "metadata": {
    "id": "dipfxwFOupgZ"
   },
   "outputs": [],
   "source": [
    "# Convertendo tipo objtect para date\n",
    "\n",
    "dfAmazon['Date'] = pd.to_datetime(dfAmazon['Date'], infer_datetime_format=True)"
   ]
  },
  {
   "cell_type": "code",
   "execution_count": null,
   "metadata": {
    "id": "wBh754f-dv51"
   },
   "outputs": [],
   "source": [
    "#numero de dias maximo a serem previstos\n",
    "\n",
    "maxDias = 10  "
   ]
  },
  {
   "cell_type": "code",
   "execution_count": null,
   "metadata": {
    "id": "FqZo-SlHekpt"
   },
   "outputs": [],
   "source": [
    "#Shift de dados no dataframe como numeros de dias a serem preditos\n",
    "\n",
    "dfAmazon['Prediction-Low'] = dfAmazon['Low'].shift(- maxDias)"
   ]
  },
  {
   "cell_type": "code",
   "execution_count": null,
   "metadata": {
    "colab": {
     "base_uri": "https://localhost:8080/",
     "height": 390
    },
    "id": "bSQKbX5DforI",
    "outputId": "ce326048-2b59-4c74-c6b6-bbf74d2618ab"
   },
   "outputs": [
    {
     "data": {
      "text/html": [
       "<div>\n",
       "<style scoped>\n",
       "    .dataframe tbody tr th:only-of-type {\n",
       "        vertical-align: middle;\n",
       "    }\n",
       "\n",
       "    .dataframe tbody tr th {\n",
       "        vertical-align: top;\n",
       "    }\n",
       "\n",
       "    .dataframe thead th {\n",
       "        text-align: right;\n",
       "    }\n",
       "</style>\n",
       "<table border=\"1\" class=\"dataframe\">\n",
       "  <thead>\n",
       "    <tr style=\"text-align: right;\">\n",
       "      <th></th>\n",
       "      <th>Date</th>\n",
       "      <th>Open</th>\n",
       "      <th>High</th>\n",
       "      <th>Low</th>\n",
       "      <th>Close</th>\n",
       "      <th>Adj Close</th>\n",
       "      <th>Volume</th>\n",
       "      <th>Prediction-Low</th>\n",
       "    </tr>\n",
       "  </thead>\n",
       "  <tbody>\n",
       "    <tr>\n",
       "      <th>2757</th>\n",
       "      <td>2020-12-15</td>\n",
       "      <td>3181.010010</td>\n",
       "      <td>3188.500000</td>\n",
       "      <td>3130.489990</td>\n",
       "      <td>3165.120117</td>\n",
       "      <td>3165.120117</td>\n",
       "      <td>3323700</td>\n",
       "      <td>3282.469971</td>\n",
       "    </tr>\n",
       "    <tr>\n",
       "      <th>2758</th>\n",
       "      <td>2020-12-16</td>\n",
       "      <td>3176.010010</td>\n",
       "      <td>3247.000000</td>\n",
       "      <td>3163.679932</td>\n",
       "      <td>3240.959961</td>\n",
       "      <td>3240.959961</td>\n",
       "      <td>4427600</td>\n",
       "      <td>NaN</td>\n",
       "    </tr>\n",
       "    <tr>\n",
       "      <th>2759</th>\n",
       "      <td>2020-12-17</td>\n",
       "      <td>3250.000000</td>\n",
       "      <td>3263.510010</td>\n",
       "      <td>3221.000000</td>\n",
       "      <td>3236.080078</td>\n",
       "      <td>3236.080078</td>\n",
       "      <td>3474300</td>\n",
       "      <td>NaN</td>\n",
       "    </tr>\n",
       "    <tr>\n",
       "      <th>2760</th>\n",
       "      <td>2020-12-18</td>\n",
       "      <td>3243.989990</td>\n",
       "      <td>3249.419922</td>\n",
       "      <td>3171.600098</td>\n",
       "      <td>3201.649902</td>\n",
       "      <td>3201.649902</td>\n",
       "      <td>5995700</td>\n",
       "      <td>NaN</td>\n",
       "    </tr>\n",
       "    <tr>\n",
       "      <th>2761</th>\n",
       "      <td>2020-12-21</td>\n",
       "      <td>3200.010010</td>\n",
       "      <td>3226.969971</td>\n",
       "      <td>3166.000000</td>\n",
       "      <td>3206.179932</td>\n",
       "      <td>3206.179932</td>\n",
       "      <td>3836800</td>\n",
       "      <td>NaN</td>\n",
       "    </tr>\n",
       "    <tr>\n",
       "      <th>2762</th>\n",
       "      <td>2020-12-22</td>\n",
       "      <td>3202.840088</td>\n",
       "      <td>3222.000000</td>\n",
       "      <td>3180.080078</td>\n",
       "      <td>3206.520020</td>\n",
       "      <td>3206.520020</td>\n",
       "      <td>2369400</td>\n",
       "      <td>NaN</td>\n",
       "    </tr>\n",
       "    <tr>\n",
       "      <th>2763</th>\n",
       "      <td>2020-12-23</td>\n",
       "      <td>3205.000000</td>\n",
       "      <td>3210.129883</td>\n",
       "      <td>3184.169922</td>\n",
       "      <td>3185.270020</td>\n",
       "      <td>3185.270020</td>\n",
       "      <td>2093800</td>\n",
       "      <td>NaN</td>\n",
       "    </tr>\n",
       "    <tr>\n",
       "      <th>2764</th>\n",
       "      <td>2020-12-24</td>\n",
       "      <td>3193.899902</td>\n",
       "      <td>3202.000000</td>\n",
       "      <td>3169.000000</td>\n",
       "      <td>3172.689941</td>\n",
       "      <td>3172.689941</td>\n",
       "      <td>1451900</td>\n",
       "      <td>NaN</td>\n",
       "    </tr>\n",
       "    <tr>\n",
       "      <th>2765</th>\n",
       "      <td>2020-12-28</td>\n",
       "      <td>3194.000000</td>\n",
       "      <td>3304.000000</td>\n",
       "      <td>3172.689941</td>\n",
       "      <td>3283.959961</td>\n",
       "      <td>3283.959961</td>\n",
       "      <td>5686800</td>\n",
       "      <td>NaN</td>\n",
       "    </tr>\n",
       "    <tr>\n",
       "      <th>2766</th>\n",
       "      <td>2020-12-29</td>\n",
       "      <td>3309.939941</td>\n",
       "      <td>3350.649902</td>\n",
       "      <td>3281.219971</td>\n",
       "      <td>3322.000000</td>\n",
       "      <td>3322.000000</td>\n",
       "      <td>4872900</td>\n",
       "      <td>NaN</td>\n",
       "    </tr>\n",
       "    <tr>\n",
       "      <th>2767</th>\n",
       "      <td>2020-12-30</td>\n",
       "      <td>3341.000000</td>\n",
       "      <td>3342.100098</td>\n",
       "      <td>3282.469971</td>\n",
       "      <td>3285.850098</td>\n",
       "      <td>3285.850098</td>\n",
       "      <td>3209300</td>\n",
       "      <td>NaN</td>\n",
       "    </tr>\n",
       "  </tbody>\n",
       "</table>\n",
       "</div>"
      ],
      "text/plain": [
       "           Date         Open         High  ...    Adj Close   Volume  Prediction-Low\n",
       "2757 2020-12-15  3181.010010  3188.500000  ...  3165.120117  3323700     3282.469971\n",
       "2758 2020-12-16  3176.010010  3247.000000  ...  3240.959961  4427600             NaN\n",
       "2759 2020-12-17  3250.000000  3263.510010  ...  3236.080078  3474300             NaN\n",
       "2760 2020-12-18  3243.989990  3249.419922  ...  3201.649902  5995700             NaN\n",
       "2761 2020-12-21  3200.010010  3226.969971  ...  3206.179932  3836800             NaN\n",
       "2762 2020-12-22  3202.840088  3222.000000  ...  3206.520020  2369400             NaN\n",
       "2763 2020-12-23  3205.000000  3210.129883  ...  3185.270020  2093800             NaN\n",
       "2764 2020-12-24  3193.899902  3202.000000  ...  3172.689941  1451900             NaN\n",
       "2765 2020-12-28  3194.000000  3304.000000  ...  3283.959961  5686800             NaN\n",
       "2766 2020-12-29  3309.939941  3350.649902  ...  3322.000000  4872900             NaN\n",
       "2767 2020-12-30  3341.000000  3342.100098  ...  3285.850098  3209300             NaN\n",
       "\n",
       "[11 rows x 8 columns]"
      ]
     },
     "execution_count": 128,
     "metadata": {
      "tags": []
     },
     "output_type": "execute_result"
    }
   ],
   "source": [
    "dfAmazon.tail(11)"
   ]
  },
  {
   "cell_type": "code",
   "execution_count": null,
   "metadata": {
    "id": "V28qWcjkfrsj"
   },
   "outputs": [],
   "source": [
    "#Separando dados de treinamento\n",
    "xdadosTreinamento = dfAmazon.drop(['Low', 'Prediction-Low', 'Date'], 1, )[: - maxDias]\n",
    "ydadosTreinamento = dfAmazon['Low'][: - maxDias]"
   ]
  },
  {
   "cell_type": "code",
   "execution_count": null,
   "metadata": {
    "colab": {
     "base_uri": "https://localhost:8080/"
    },
    "id": "SWeV6VUOsH1Q",
    "outputId": "cc5d055c-b672-48e0-b8ab-af69d578e9d1"
   },
   "outputs": [
    {
     "data": {
      "text/plain": [
       "(2758, 5)"
      ]
     },
     "execution_count": 130,
     "metadata": {
      "tags": []
     },
     "output_type": "execute_result"
    }
   ],
   "source": [
    "xdadosTreinamento.shape"
   ]
  },
  {
   "cell_type": "code",
   "execution_count": null,
   "metadata": {
    "id": "1SEPmBECsLpS"
   },
   "outputs": [],
   "source": [
    "#Separando porcetagem de dados para treinamento (80% de teste e 20% de treinamento )\n",
    "\n",
    "xTrain, xTest, yTrain, yTest = train_test_split(xdadosTreinamento, ydadosTreinamento, test_size = 0.20)"
   ]
  },
  {
   "cell_type": "code",
   "execution_count": null,
   "metadata": {
    "colab": {
     "base_uri": "https://localhost:8080/"
    },
    "id": "XL9--B5evxKS",
    "outputId": "335eac2f-a159-48b1-d1d4-a9fafc0978ef"
   },
   "outputs": [
    {
     "data": {
      "text/plain": [
       "(2206,)"
      ]
     },
     "execution_count": 132,
     "metadata": {
      "tags": []
     },
     "output_type": "execute_result"
    }
   ],
   "source": [
    "yTrain.shape"
   ]
  },
  {
   "cell_type": "code",
   "execution_count": null,
   "metadata": {
    "colab": {
     "base_uri": "https://localhost:8080/"
    },
    "id": "DcopHvCOs51B",
    "outputId": "c20d1c02-3567-4eff-c4c0-29d49e216f8f"
   },
   "outputs": [
    {
     "data": {
      "text/plain": [
       "DecisionTreeRegressor(ccp_alpha=0.0, criterion='mse', max_depth=None,\n",
       "                      max_features=None, max_leaf_nodes=None,\n",
       "                      min_impurity_decrease=0.0, min_impurity_split=None,\n",
       "                      min_samples_leaf=1, min_samples_split=2,\n",
       "                      min_weight_fraction_leaf=0.0, presort='deprecated',\n",
       "                      random_state=None, splitter='best')"
      ]
     },
     "execution_count": 133,
     "metadata": {
      "tags": []
     },
     "output_type": "execute_result"
    }
   ],
   "source": [
    "#Criando modelo DecisionTree\n",
    "\n",
    "#objeto\n",
    "tree = DecisionTreeRegressor()\n",
    "\n",
    "#balancendo dados /fit\n",
    "tree.fit(xTrain, yTrain)"
   ]
  },
  {
   "cell_type": "code",
   "execution_count": null,
   "metadata": {
    "colab": {
     "base_uri": "https://localhost:8080/"
    },
    "id": "K3gCmJlnt5CO",
    "outputId": "ef0f8f93-aec5-453a-868e-5ad290303000"
   },
   "outputs": [
    {
     "data": {
      "text/plain": [
       "LinearRegression(copy_X=True, fit_intercept=True, n_jobs=None, normalize=False)"
      ]
     },
     "execution_count": 134,
     "metadata": {
      "tags": []
     },
     "output_type": "execute_result"
    }
   ],
   "source": [
    "#Criando Modelo RegressionLinear\n",
    "\n",
    "#objeto\n",
    "lr = LinearRegression()\n",
    "\n",
    "#Balanceando dados /fit\n",
    "lr.fit(xTrain, yTrain)\n"
   ]
  },
  {
   "cell_type": "code",
   "execution_count": null,
   "metadata": {
    "id": "L83Rn5OB1zbp"
   },
   "outputs": [],
   "source": []
  },
  {
   "cell_type": "code",
   "execution_count": null,
   "metadata": {
    "id": "MrPpCyI8vhoH"
   },
   "outputs": [],
   "source": []
  },
  {
   "cell_type": "code",
   "execution_count": null,
   "metadata": {
    "id": "VDjmMztD1yjP"
   },
   "outputs": [],
   "source": []
  },
  {
   "cell_type": "code",
   "execution_count": null,
   "metadata": {
    "id": "UvJdFJbzzk5O"
   },
   "outputs": [],
   "source": []
  },
  {
   "cell_type": "code",
   "execution_count": null,
   "metadata": {
    "colab": {
     "base_uri": "https://localhost:8080/"
    },
    "id": "s6ALD7sEzpK4",
    "outputId": "c6a0fd3f-1af5-45cf-d8a8-9dd1c90771b7"
   },
   "outputs": [
    {
     "name": "stdout",
     "output_type": "stream",
     "text": [
      "Coeficiente de Determinação \n",
      " 99.96759610550039\n"
     ]
    }
   ],
   "source": [
    "#Treinamento - prevendo Decision Treea\n",
    "\n",
    "treePredecting = tree.predict(xTest)\n",
    "\n",
    "#Metricas e Relatorios\n",
    "\n",
    "print('Coeficiente de Determinação \\n', (r2_score(yTest, treePredecting)) * 100)"
   ]
  },
  {
   "cell_type": "code",
   "execution_count": null,
   "metadata": {
    "colab": {
     "base_uri": "https://localhost:8080/"
    },
    "id": "BkK97k8A5yYO",
    "outputId": "45df3d9b-40ce-4cdc-c11d-0b4fb4533c0a"
   },
   "outputs": [
    {
     "name": "stdout",
     "output_type": "stream",
     "text": [
      "Coeficiente de Determinação \n",
      " 99.98887907292325\n"
     ]
    }
   ],
   "source": [
    "#Treinamento - prevendo Regressão Linear\n",
    "\n",
    "lrPredecting = lr.predict(xTest)\n",
    "\n",
    "#Metricas e Relatorios\n",
    "\n",
    "print('Coeficiente de Determinação \\n', (r2_score(yTest, lrPredecting)) * 100)"
   ]
  },
  {
   "cell_type": "code",
   "execution_count": null,
   "metadata": {
    "colab": {
     "base_uri": "https://localhost:8080/",
     "height": 359
    },
    "id": "NSut1q2T3Dp5",
    "outputId": "df2eec10-b7dc-456f-b0d0-f7c73f36b443"
   },
   "outputs": [
    {
     "data": {
      "text/html": [
       "<div>\n",
       "<style scoped>\n",
       "    .dataframe tbody tr th:only-of-type {\n",
       "        vertical-align: middle;\n",
       "    }\n",
       "\n",
       "    .dataframe tbody tr th {\n",
       "        vertical-align: top;\n",
       "    }\n",
       "\n",
       "    .dataframe thead th {\n",
       "        text-align: right;\n",
       "    }\n",
       "</style>\n",
       "<table border=\"1\" class=\"dataframe\">\n",
       "  <thead>\n",
       "    <tr style=\"text-align: right;\">\n",
       "      <th></th>\n",
       "      <th>Open</th>\n",
       "      <th>High</th>\n",
       "      <th>Close</th>\n",
       "      <th>Adj Close</th>\n",
       "      <th>Volume</th>\n",
       "    </tr>\n",
       "  </thead>\n",
       "  <tbody>\n",
       "    <tr>\n",
       "      <th>2748</th>\n",
       "      <td>3221.649902</td>\n",
       "      <td>3232.000000</td>\n",
       "      <td>3203.530029</td>\n",
       "      <td>3203.530029</td>\n",
       "      <td>3129300</td>\n",
       "    </tr>\n",
       "    <tr>\n",
       "      <th>2749</th>\n",
       "      <td>3205.459961</td>\n",
       "      <td>3228.639893</td>\n",
       "      <td>3186.729980</td>\n",
       "      <td>3186.729980</td>\n",
       "      <td>2892000</td>\n",
       "    </tr>\n",
       "    <tr>\n",
       "      <th>2750</th>\n",
       "      <td>3198.209961</td>\n",
       "      <td>3198.209961</td>\n",
       "      <td>3162.580078</td>\n",
       "      <td>3162.580078</td>\n",
       "      <td>2913600</td>\n",
       "    </tr>\n",
       "    <tr>\n",
       "      <th>2751</th>\n",
       "      <td>3156.479980</td>\n",
       "      <td>3180.760010</td>\n",
       "      <td>3158.000000</td>\n",
       "      <td>3158.000000</td>\n",
       "      <td>2751300</td>\n",
       "    </tr>\n",
       "    <tr>\n",
       "      <th>2752</th>\n",
       "      <td>3158.899902</td>\n",
       "      <td>3184.129883</td>\n",
       "      <td>3177.290039</td>\n",
       "      <td>3177.290039</td>\n",
       "      <td>3286300</td>\n",
       "    </tr>\n",
       "    <tr>\n",
       "      <th>2753</th>\n",
       "      <td>3167.889893</td>\n",
       "      <td>3174.429932</td>\n",
       "      <td>3104.199951</td>\n",
       "      <td>3104.199951</td>\n",
       "      <td>4100800</td>\n",
       "    </tr>\n",
       "    <tr>\n",
       "      <th>2754</th>\n",
       "      <td>3088.989990</td>\n",
       "      <td>3142.100098</td>\n",
       "      <td>3101.489990</td>\n",
       "      <td>3101.489990</td>\n",
       "      <td>3030200</td>\n",
       "    </tr>\n",
       "    <tr>\n",
       "      <th>2755</th>\n",
       "      <td>3096.659912</td>\n",
       "      <td>3118.669922</td>\n",
       "      <td>3116.419922</td>\n",
       "      <td>3116.419922</td>\n",
       "      <td>3064700</td>\n",
       "    </tr>\n",
       "    <tr>\n",
       "      <th>2756</th>\n",
       "      <td>3143.000000</td>\n",
       "      <td>3190.469971</td>\n",
       "      <td>3156.969971</td>\n",
       "      <td>3156.969971</td>\n",
       "      <td>4155800</td>\n",
       "    </tr>\n",
       "    <tr>\n",
       "      <th>2757</th>\n",
       "      <td>3181.010010</td>\n",
       "      <td>3188.500000</td>\n",
       "      <td>3165.120117</td>\n",
       "      <td>3165.120117</td>\n",
       "      <td>3323700</td>\n",
       "    </tr>\n",
       "  </tbody>\n",
       "</table>\n",
       "</div>"
      ],
      "text/plain": [
       "             Open         High        Close    Adj Close   Volume\n",
       "2748  3221.649902  3232.000000  3203.530029  3203.530029  3129300\n",
       "2749  3205.459961  3228.639893  3186.729980  3186.729980  2892000\n",
       "2750  3198.209961  3198.209961  3162.580078  3162.580078  2913600\n",
       "2751  3156.479980  3180.760010  3158.000000  3158.000000  2751300\n",
       "2752  3158.899902  3184.129883  3177.290039  3177.290039  3286300\n",
       "2753  3167.889893  3174.429932  3104.199951  3104.199951  4100800\n",
       "2754  3088.989990  3142.100098  3101.489990  3101.489990  3030200\n",
       "2755  3096.659912  3118.669922  3116.419922  3116.419922  3064700\n",
       "2756  3143.000000  3190.469971  3156.969971  3156.969971  4155800\n",
       "2757  3181.010010  3188.500000  3165.120117  3165.120117  3323700"
      ]
     },
     "execution_count": 137,
     "metadata": {
      "tags": []
     },
     "output_type": "execute_result"
    }
   ],
   "source": [
    "previsao = dfAmazon.drop(['Prediction-Low', 'Date', 'Low' ], 1)[:- maxDias]\n",
    "previsao = previsao.tail(maxDias)\n",
    "previsao"
   ]
  },
  {
   "cell_type": "code",
   "execution_count": null,
   "metadata": {
    "colab": {
     "base_uri": "https://localhost:8080/"
    },
    "id": "CBNTWIOo5mff",
    "outputId": "ada11df8-dfe1-4332-9dcf-e4d1a93b217b"
   },
   "outputs": [
    {
     "data": {
      "text/plain": [
       "array([3180.32450076, 3157.54869866, 3148.83540997, 3124.160244  ,\n",
       "       3138.75002998, 3092.87788884, 3051.06183782, 3079.80453455,\n",
       "       3107.79481245, 3142.99745894])"
      ]
     },
     "execution_count": 138,
     "metadata": {
      "tags": []
     },
     "output_type": "execute_result"
    }
   ],
   "source": [
    " previsaoLR = lr.predict(previsao)\n",
    " previsaoLR"
   ]
  },
  {
   "cell_type": "code",
   "execution_count": null,
   "metadata": {
    "colab": {
     "base_uri": "https://localhost:8080/"
    },
    "id": "gkYKUPOOfaMK",
    "outputId": "15430742-2856-4c4c-83b9-981e941c7bf6"
   },
   "outputs": [
    {
     "data": {
      "text/plain": [
       "array([3173.26001 , 3181.310059, 3158.76001 , 3141.689941, 3120.02002 ,\n",
       "       3088.      , 3076.      , 2999.      , 3133.98999 , 3162.469971])"
      ]
     },
     "execution_count": 139,
     "metadata": {
      "tags": []
     },
     "output_type": "execute_result"
    }
   ],
   "source": [
    "previsaoTree = tree.predict(previsao)\n",
    "previsaoTree"
   ]
  },
  {
   "cell_type": "code",
   "execution_count": null,
   "metadata": {
    "id": "Gkk7qaOof5Jr"
   },
   "outputs": [],
   "source": [
    "Baixa = dfAmazon['Low'][2758:2768]"
   ]
  },
  {
   "cell_type": "code",
   "execution_count": null,
   "metadata": {
    "id": "Xj0I9O-tlf7w"
   },
   "outputs": [],
   "source": [
    "Data = dfAmazon['Date'][2758:2768]"
   ]
  },
  {
   "cell_type": "code",
   "execution_count": null,
   "metadata": {
    "id": "j0jCo568ojTS"
   },
   "outputs": [],
   "source": [
    "#visualizando dados no dataFrame\n",
    "dfPrevisao = pd.DataFrame({'Data': Data, 'Baixa': Baixa,'Previsao LR': previsaoLR, 'Previsao DT': previsaoTree})"
   ]
  },
  {
   "cell_type": "code",
   "execution_count": null,
   "metadata": {
    "colab": {
     "base_uri": "https://localhost:8080/",
     "height": 359
    },
    "id": "RLBANymyo7_s",
    "outputId": "3958a7b3-cbe8-4744-e333-06dd496d66b0"
   },
   "outputs": [
    {
     "data": {
      "text/html": [
       "<div>\n",
       "<style scoped>\n",
       "    .dataframe tbody tr th:only-of-type {\n",
       "        vertical-align: middle;\n",
       "    }\n",
       "\n",
       "    .dataframe tbody tr th {\n",
       "        vertical-align: top;\n",
       "    }\n",
       "\n",
       "    .dataframe thead th {\n",
       "        text-align: right;\n",
       "    }\n",
       "</style>\n",
       "<table border=\"1\" class=\"dataframe\">\n",
       "  <thead>\n",
       "    <tr style=\"text-align: right;\">\n",
       "      <th></th>\n",
       "      <th>Data</th>\n",
       "      <th>Baixa</th>\n",
       "      <th>Previsao LR</th>\n",
       "      <th>Previsao DT</th>\n",
       "    </tr>\n",
       "  </thead>\n",
       "  <tbody>\n",
       "    <tr>\n",
       "      <th>2758</th>\n",
       "      <td>2020-12-16</td>\n",
       "      <td>3163.679932</td>\n",
       "      <td>3180.324501</td>\n",
       "      <td>3173.260010</td>\n",
       "    </tr>\n",
       "    <tr>\n",
       "      <th>2759</th>\n",
       "      <td>2020-12-17</td>\n",
       "      <td>3221.000000</td>\n",
       "      <td>3157.548699</td>\n",
       "      <td>3181.310059</td>\n",
       "    </tr>\n",
       "    <tr>\n",
       "      <th>2760</th>\n",
       "      <td>2020-12-18</td>\n",
       "      <td>3171.600098</td>\n",
       "      <td>3148.835410</td>\n",
       "      <td>3158.760010</td>\n",
       "    </tr>\n",
       "    <tr>\n",
       "      <th>2761</th>\n",
       "      <td>2020-12-21</td>\n",
       "      <td>3166.000000</td>\n",
       "      <td>3124.160244</td>\n",
       "      <td>3141.689941</td>\n",
       "    </tr>\n",
       "    <tr>\n",
       "      <th>2762</th>\n",
       "      <td>2020-12-22</td>\n",
       "      <td>3180.080078</td>\n",
       "      <td>3138.750030</td>\n",
       "      <td>3120.020020</td>\n",
       "    </tr>\n",
       "    <tr>\n",
       "      <th>2763</th>\n",
       "      <td>2020-12-23</td>\n",
       "      <td>3184.169922</td>\n",
       "      <td>3092.877889</td>\n",
       "      <td>3088.000000</td>\n",
       "    </tr>\n",
       "    <tr>\n",
       "      <th>2764</th>\n",
       "      <td>2020-12-24</td>\n",
       "      <td>3169.000000</td>\n",
       "      <td>3051.061838</td>\n",
       "      <td>3076.000000</td>\n",
       "    </tr>\n",
       "    <tr>\n",
       "      <th>2765</th>\n",
       "      <td>2020-12-28</td>\n",
       "      <td>3172.689941</td>\n",
       "      <td>3079.804535</td>\n",
       "      <td>2999.000000</td>\n",
       "    </tr>\n",
       "    <tr>\n",
       "      <th>2766</th>\n",
       "      <td>2020-12-29</td>\n",
       "      <td>3281.219971</td>\n",
       "      <td>3107.794812</td>\n",
       "      <td>3133.989990</td>\n",
       "    </tr>\n",
       "    <tr>\n",
       "      <th>2767</th>\n",
       "      <td>2020-12-30</td>\n",
       "      <td>3282.469971</td>\n",
       "      <td>3142.997459</td>\n",
       "      <td>3162.469971</td>\n",
       "    </tr>\n",
       "  </tbody>\n",
       "</table>\n",
       "</div>"
      ],
      "text/plain": [
       "           Data        Baixa  Previsao LR  Previsao DT\n",
       "2758 2020-12-16  3163.679932  3180.324501  3173.260010\n",
       "2759 2020-12-17  3221.000000  3157.548699  3181.310059\n",
       "2760 2020-12-18  3171.600098  3148.835410  3158.760010\n",
       "2761 2020-12-21  3166.000000  3124.160244  3141.689941\n",
       "2762 2020-12-22  3180.080078  3138.750030  3120.020020\n",
       "2763 2020-12-23  3184.169922  3092.877889  3088.000000\n",
       "2764 2020-12-24  3169.000000  3051.061838  3076.000000\n",
       "2765 2020-12-28  3172.689941  3079.804535  2999.000000\n",
       "2766 2020-12-29  3281.219971  3107.794812  3133.989990\n",
       "2767 2020-12-30  3282.469971  3142.997459  3162.469971"
      ]
     },
     "execution_count": 143,
     "metadata": {
      "tags": []
     },
     "output_type": "execute_result"
    }
   ],
   "source": [
    "dfPrevisao\n"
   ]
  },
  {
   "cell_type": "code",
   "execution_count": null,
   "metadata": {
    "colab": {
     "base_uri": "https://localhost:8080/",
     "height": 390
    },
    "id": "FizrkhD1o-KU",
    "outputId": "d152275f-5d45-4c6c-b14b-22a6d8b8bb48"
   },
   "outputs": [
    {
     "data": {
      "text/html": [
       "<div>\n",
       "<style scoped>\n",
       "    .dataframe tbody tr th:only-of-type {\n",
       "        vertical-align: middle;\n",
       "    }\n",
       "\n",
       "    .dataframe tbody tr th {\n",
       "        vertical-align: top;\n",
       "    }\n",
       "\n",
       "    .dataframe thead th {\n",
       "        text-align: right;\n",
       "    }\n",
       "</style>\n",
       "<table border=\"1\" class=\"dataframe\">\n",
       "  <thead>\n",
       "    <tr style=\"text-align: right;\">\n",
       "      <th></th>\n",
       "      <th>Baixa</th>\n",
       "      <th>Previsao LR</th>\n",
       "      <th>Previsao DT</th>\n",
       "    </tr>\n",
       "    <tr>\n",
       "      <th>Data</th>\n",
       "      <th></th>\n",
       "      <th></th>\n",
       "      <th></th>\n",
       "    </tr>\n",
       "  </thead>\n",
       "  <tbody>\n",
       "    <tr>\n",
       "      <th>2020-12-16</th>\n",
       "      <td>3163.679932</td>\n",
       "      <td>3180.324501</td>\n",
       "      <td>3173.260010</td>\n",
       "    </tr>\n",
       "    <tr>\n",
       "      <th>2020-12-17</th>\n",
       "      <td>3221.000000</td>\n",
       "      <td>3157.548699</td>\n",
       "      <td>3181.310059</td>\n",
       "    </tr>\n",
       "    <tr>\n",
       "      <th>2020-12-18</th>\n",
       "      <td>3171.600098</td>\n",
       "      <td>3148.835410</td>\n",
       "      <td>3158.760010</td>\n",
       "    </tr>\n",
       "    <tr>\n",
       "      <th>2020-12-21</th>\n",
       "      <td>3166.000000</td>\n",
       "      <td>3124.160244</td>\n",
       "      <td>3141.689941</td>\n",
       "    </tr>\n",
       "    <tr>\n",
       "      <th>2020-12-22</th>\n",
       "      <td>3180.080078</td>\n",
       "      <td>3138.750030</td>\n",
       "      <td>3120.020020</td>\n",
       "    </tr>\n",
       "    <tr>\n",
       "      <th>2020-12-23</th>\n",
       "      <td>3184.169922</td>\n",
       "      <td>3092.877889</td>\n",
       "      <td>3088.000000</td>\n",
       "    </tr>\n",
       "    <tr>\n",
       "      <th>2020-12-24</th>\n",
       "      <td>3169.000000</td>\n",
       "      <td>3051.061838</td>\n",
       "      <td>3076.000000</td>\n",
       "    </tr>\n",
       "    <tr>\n",
       "      <th>2020-12-28</th>\n",
       "      <td>3172.689941</td>\n",
       "      <td>3079.804535</td>\n",
       "      <td>2999.000000</td>\n",
       "    </tr>\n",
       "    <tr>\n",
       "      <th>2020-12-29</th>\n",
       "      <td>3281.219971</td>\n",
       "      <td>3107.794812</td>\n",
       "      <td>3133.989990</td>\n",
       "    </tr>\n",
       "    <tr>\n",
       "      <th>2020-12-30</th>\n",
       "      <td>3282.469971</td>\n",
       "      <td>3142.997459</td>\n",
       "      <td>3162.469971</td>\n",
       "    </tr>\n",
       "  </tbody>\n",
       "</table>\n",
       "</div>"
      ],
      "text/plain": [
       "                  Baixa  Previsao LR  Previsao DT\n",
       "Data                                             \n",
       "2020-12-16  3163.679932  3180.324501  3173.260010\n",
       "2020-12-17  3221.000000  3157.548699  3181.310059\n",
       "2020-12-18  3171.600098  3148.835410  3158.760010\n",
       "2020-12-21  3166.000000  3124.160244  3141.689941\n",
       "2020-12-22  3180.080078  3138.750030  3120.020020\n",
       "2020-12-23  3184.169922  3092.877889  3088.000000\n",
       "2020-12-24  3169.000000  3051.061838  3076.000000\n",
       "2020-12-28  3172.689941  3079.804535  2999.000000\n",
       "2020-12-29  3281.219971  3107.794812  3133.989990\n",
       "2020-12-30  3282.469971  3142.997459  3162.469971"
      ]
     },
     "execution_count": 144,
     "metadata": {
      "tags": []
     },
     "output_type": "execute_result"
    }
   ],
   "source": [
    "#setar index\n",
    "dfPred = dfPrevisao\n",
    "dfPred.set_index('Data', inplace = True)\n",
    "dfPred"
   ]
  },
  {
   "cell_type": "code",
   "execution_count": null,
   "metadata": {
    "colab": {
     "base_uri": "https://localhost:8080/",
     "height": 285
    },
    "id": "gUKAJBa71SUh",
    "outputId": "231aed68-f038-44d2-e5b9-b2623bcdc4a9"
   },
   "outputs": [
    {
     "data": {
      "image/png": "[encoded data removed]",
      "text/plain": [
       "<Figure size 1080x288 with 1 Axes>"
      ]
     },
     "metadata": {
      "needs_background": "light",
      "tags": []
     },
     "output_type": "display_data"
    }
   ],
   "source": [
    "#visualização grafica\n",
    "columns = ['Baixa', 'Previsao LR', 'Previsao DT']\n",
    "graph = dfPred[columns].plot(figsize=(15, 4), grid=True, marker = 'o')"
   ]
  },
  {
   "cell_type": "code",
   "execution_count": null,
   "metadata": {
    "id": "3FzlqXjipJTo"
   },
   "outputs": [],
   "source": []
  },
  {
   "cell_type": "code",
   "execution_count": null,
   "metadata": {
    "colab": {
     "base_uri": "https://localhost:8080/",
     "height": 284
    },
    "id": "LiTl1JATsfC8",
    "outputId": "06bc61d2-da97-4c4a-de7d-330987acfbcb"
   },
   "outputs": [
    {
     "data": {
      "text/plain": [
       "<matplotlib.axes._subplots.AxesSubplot at 0x7f6fbb5348d0>"
      ]
     },
     "execution_count": 155,
     "metadata": {
      "tags": []
     },
     "output_type": "execute_result"
    },
    {
     "data": {
      "image/png": "[encoded data removed]",
      "text/plain": [
       "<Figure size 432x288 with 1 Axes>"
      ]
     },
     "metadata": {
      "needs_background": "light",
      "tags": []
     },
     "output_type": "display_data"
    }
   ],
   "source": [
    "sns.kdeplot(\n",
    "   data=dfPrevisao,\n",
    "   fill=True, common_norm=False, palette=\"crest\",\n",
    "   alpha=.5, linewidth=0,\n",
    ")"
   ]
  },
  {
   "cell_type": "code",
   "execution_count": null,
   "metadata": {
    "colab": {
     "base_uri": "https://localhost:8080/",
     "height": 904
    },
    "id": "8xhxN338AlCN",
    "outputId": "1a656339-262d-4abe-a49c-5da84241e1ff"
   },
   "outputs": [
    {
     "data": {
      "text/plain": [
       "<seaborn.axisgrid.FacetGrid at 0x7f6fcd983590>"
      ]
     },
     "execution_count": 171,
     "metadata": {
      "tags": []
     },
     "output_type": "execute_result"
    },
    {
     "data": {
      "image/png": "[encoded data removed]",
      "text/plain": [
       "<Figure size 742.875x864 with 1 Axes>"
      ]
     },
     "metadata": {
      "needs_background": "light",
      "tags": []
     },
     "output_type": "display_data"
    }
   ],
   "source": [
    "sns.relplot(\n",
    "    data=dfPrevisao,\n",
    "    kind=\"line\", palette='rocket_r',\n",
    "    height = 12, aspect=.75, facet_kws=dict(sharex=False),\n",
    ")"
   ]
  },
  {
   "cell_type": "code",
   "execution_count": null,
   "metadata": {
    "id": "7TMp3tjC5lNa"
   },
   "outputs": [],
   "source": []
  },
  {
   "cell_type": "code",
   "execution_count": null,
   "metadata": {
    "id": "6c945yZR2FFw"
   },
   "outputs": [],
   "source": [
    "}"
   ]
  }
 ],
 "metadata": {
  "colab": {
   "authorship_tag": "ABX9TyPhXr5zQGyghbIwErP9OBjq",
   "collapsed_sections": [],
   "include_colab_link": true,
   "mount_file_id": "1HkTsWEmfXPdsydCK0KmCSKJNnFKGcRsS",
   "name": "AMZN - Baixa.ipynb",
   "provenance": []
  },
  "kernelspec": {
   "display_name": "Python 3",
   "language": "python",
   "name": "python3"
  },
  "language_info": {
   "codemirror_mode": {
    "name": "ipython",
    "version": 3
   },
   "file_extension": ".py",
   "mimetype": "text/x-python",
   "name": "python",
   "nbconvert_exporter": "python",
   "pygments_lexer": "ipython3",
   "version": "3.7.6"
  }
 },
 "nbformat": 4,
 "nbformat_minor": 1
}
