{
  "nbformat": 4,
  "nbformat_minor": 0,
  "metadata": {
    "colab": {
      "name": "DesafioAmigoEdu.ipynb",
      "provenance": [],
      "collapsed_sections": []
    },
    "kernelspec": {
      "name": "python3",
      "display_name": "Python 3"
    },
    "language_info": {
      "name": "python"
    }
  },
  "cells": [
    {
      "cell_type": "markdown",
      "metadata": {
        "id": "f_uNj5W1s1m2"
      },
      "source": [
        "1. Usei o site SQLite Online (https://sqliteonline.com/) para visualiazar as tabela e fazer algumas analises iniciais\n",
        "\n",
        "    Exemplos das analises:\n",
        "\n",
        "    userID, channel sem indenfiticação = NULL\n",
        "    \n",
        "2. converter aquivo amigoedu_bi_challenge.sqlite em aquivos csv (Table_A.csv e Table_B.csv)\n",
        "\n",
        "---\n",
        "\n"
      ]
    },
    {
      "cell_type": "code",
      "metadata": {
        "id": "mUD0RiE7s6R0"
      },
      "source": [
        "#imports\n",
        "\n",
        "import pandas as pd\n",
        "\n",
        "#grafico\n",
        "import seaborn as sns\n",
        "import matplotlib.pyplot as plt\n",
        "%matplotlib inline"
      ],
      "execution_count": null,
      "outputs": []
    },
    {
      "cell_type": "code",
      "metadata": {
        "id": "QaOjx7FCthq5",
        "colab": {
          "base_uri": "https://localhost:8080/",
          "height": 198
        },
        "outputId": "68d5f4eb-4b4f-4e40-c41b-4eccfdd6b615"
      },
      "source": [
        "#lendo arquivo\n",
        "\n",
        "tabelaA = pd.read_csv(\"/content/drive/MyDrive/Colab Notebooks/AmigoEdu/table_A.csv\")\n",
        "tabelaA.head()"
      ],
      "execution_count": null,
      "outputs": [
        {
          "output_type": "execute_result",
          "data": {
            "text/html": [
              "<div>\n",
              "<style scoped>\n",
              "    .dataframe tbody tr th:only-of-type {\n",
              "        vertical-align: middle;\n",
              "    }\n",
              "\n",
              "    .dataframe tbody tr th {\n",
              "        vertical-align: top;\n",
              "    }\n",
              "\n",
              "    .dataframe thead th {\n",
              "        text-align: right;\n",
              "    }\n",
              "</style>\n",
              "<table border=\"1\" class=\"dataframe\">\n",
              "  <thead>\n",
              "    <tr style=\"text-align: right;\">\n",
              "      <th></th>\n",
              "      <th>convId</th>\n",
              "      <th>userId</th>\n",
              "      <th>revenue</th>\n",
              "      <th>createdAt</th>\n",
              "    </tr>\n",
              "  </thead>\n",
              "  <tbody>\n",
              "    <tr>\n",
              "      <th>0</th>\n",
              "      <td>881152bb20f9b73daafb99d77714f38ac702629c</td>\n",
              "      <td>5094298f068196c5349d43847de5afc9125cf989</td>\n",
              "      <td>47.00000</td>\n",
              "      <td>06-03-2017</td>\n",
              "    </tr>\n",
              "    <tr>\n",
              "      <th>1</th>\n",
              "      <td>faf5c1181ea84a32237dff45ca201d2c28f19d7b</td>\n",
              "      <td>NaN</td>\n",
              "      <td>98.00004</td>\n",
              "      <td>02-03-2017</td>\n",
              "    </tr>\n",
              "    <tr>\n",
              "      <th>2</th>\n",
              "      <td>b0e58a88459ece1b585ca22c93e633dc56273b83</td>\n",
              "      <td>NaN</td>\n",
              "      <td>180.35300</td>\n",
              "      <td>02-03-2017</td>\n",
              "    </tr>\n",
              "    <tr>\n",
              "      <th>3</th>\n",
              "      <td>f0e6b7de22332c7b18c024e550bb1d860130cdf1</td>\n",
              "      <td>433fdf385e33176cf9b0d67ecf383aa928fa261c</td>\n",
              "      <td>201.94104</td>\n",
              "      <td>23-03-2017</td>\n",
              "    </tr>\n",
              "    <tr>\n",
              "      <th>4</th>\n",
              "      <td>966568c7c859480c79b212520d20a51e735fd735</td>\n",
              "      <td>NaN</td>\n",
              "      <td>197.47008</td>\n",
              "      <td>03-03-2017</td>\n",
              "    </tr>\n",
              "  </tbody>\n",
              "</table>\n",
              "</div>"
            ],
            "text/plain": [
              "                                     convId  ...   createdAt\n",
              "0  881152bb20f9b73daafb99d77714f38ac702629c  ...  06-03-2017\n",
              "1  faf5c1181ea84a32237dff45ca201d2c28f19d7b  ...  02-03-2017\n",
              "2  b0e58a88459ece1b585ca22c93e633dc56273b83  ...  02-03-2017\n",
              "3  f0e6b7de22332c7b18c024e550bb1d860130cdf1  ...  23-03-2017\n",
              "4  966568c7c859480c79b212520d20a51e735fd735  ...  03-03-2017\n",
              "\n",
              "[5 rows x 4 columns]"
            ]
          },
          "metadata": {
            "tags": []
          },
          "execution_count": 38
        }
      ]
    },
    {
      "cell_type": "code",
      "metadata": {
        "id": "VvwPJCo9uVRc",
        "colab": {
          "base_uri": "https://localhost:8080/",
          "height": 198
        },
        "outputId": "765c2830-8041-47b8-846c-0e5fe45ea7b1"
      },
      "source": [
        "#tabela B\n",
        "\n",
        "tabelaB = pd.read_csv(\"/content/drive/MyDrive/Colab Notebooks/AmigoEdu/table_B.csv\")\n",
        "tabelaB.head()"
      ],
      "execution_count": null,
      "outputs": [
        {
          "output_type": "execute_result",
          "data": {
            "text/html": [
              "<div>\n",
              "<style scoped>\n",
              "    .dataframe tbody tr th:only-of-type {\n",
              "        vertical-align: middle;\n",
              "    }\n",
              "\n",
              "    .dataframe tbody tr th {\n",
              "        vertical-align: top;\n",
              "    }\n",
              "\n",
              "    .dataframe thead th {\n",
              "        text-align: right;\n",
              "    }\n",
              "</style>\n",
              "<table border=\"1\" class=\"dataframe\">\n",
              "  <thead>\n",
              "    <tr style=\"text-align: right;\">\n",
              "      <th></th>\n",
              "      <th>index</th>\n",
              "      <th>convId</th>\n",
              "      <th>channel</th>\n",
              "      <th>contribution</th>\n",
              "    </tr>\n",
              "  </thead>\n",
              "  <tbody>\n",
              "    <tr>\n",
              "      <th>0</th>\n",
              "      <td>0</td>\n",
              "      <td>881152bb20f9b73daafb99d77714f38ac702629c</td>\n",
              "      <td>H</td>\n",
              "      <td>1.000000</td>\n",
              "    </tr>\n",
              "    <tr>\n",
              "      <th>1</th>\n",
              "      <td>1</td>\n",
              "      <td>faf5c1181ea84a32237dff45ca201d2c28f19d7b</td>\n",
              "      <td>I</td>\n",
              "      <td>0.300250</td>\n",
              "    </tr>\n",
              "    <tr>\n",
              "      <th>2</th>\n",
              "      <td>2</td>\n",
              "      <td>faf5c1181ea84a32237dff45ca201d2c28f19d7b</td>\n",
              "      <td>A</td>\n",
              "      <td>0.322839</td>\n",
              "    </tr>\n",
              "    <tr>\n",
              "      <th>3</th>\n",
              "      <td>3</td>\n",
              "      <td>faf5c1181ea84a32237dff45ca201d2c28f19d7b</td>\n",
              "      <td>E</td>\n",
              "      <td>0.376911</td>\n",
              "    </tr>\n",
              "    <tr>\n",
              "      <th>4</th>\n",
              "      <td>4</td>\n",
              "      <td>b0e58a88459ece1b585ca22c93e633dc56273b83</td>\n",
              "      <td>H</td>\n",
              "      <td>1.000000</td>\n",
              "    </tr>\n",
              "  </tbody>\n",
              "</table>\n",
              "</div>"
            ],
            "text/plain": [
              "   index                                    convId channel  contribution\n",
              "0      0  881152bb20f9b73daafb99d77714f38ac702629c       H      1.000000\n",
              "1      1  faf5c1181ea84a32237dff45ca201d2c28f19d7b       I      0.300250\n",
              "2      2  faf5c1181ea84a32237dff45ca201d2c28f19d7b       A      0.322839\n",
              "3      3  faf5c1181ea84a32237dff45ca201d2c28f19d7b       E      0.376911\n",
              "4      4  b0e58a88459ece1b585ca22c93e633dc56273b83       H      1.000000"
            ]
          },
          "metadata": {
            "tags": []
          },
          "execution_count": 39
        }
      ]
    },
    {
      "cell_type": "code",
      "metadata": {
        "id": "QSSwqgbCug_f",
        "colab": {
          "base_uri": "https://localhost:8080/",
          "height": 198
        },
        "outputId": "bcd90353-5776-42f5-f100-9e393eac1702"
      },
      "source": [
        "#realizando o join das duas tabelas\n",
        "\n",
        "dfData = tabelaB.join(tabelaA.set_index('convId'), on='convId')\n",
        "dfData.head()"
      ],
      "execution_count": null,
      "outputs": [
        {
          "output_type": "execute_result",
          "data": {
            "text/html": [
              "<div>\n",
              "<style scoped>\n",
              "    .dataframe tbody tr th:only-of-type {\n",
              "        vertical-align: middle;\n",
              "    }\n",
              "\n",
              "    .dataframe tbody tr th {\n",
              "        vertical-align: top;\n",
              "    }\n",
              "\n",
              "    .dataframe thead th {\n",
              "        text-align: right;\n",
              "    }\n",
              "</style>\n",
              "<table border=\"1\" class=\"dataframe\">\n",
              "  <thead>\n",
              "    <tr style=\"text-align: right;\">\n",
              "      <th></th>\n",
              "      <th>index</th>\n",
              "      <th>convId</th>\n",
              "      <th>channel</th>\n",
              "      <th>contribution</th>\n",
              "      <th>userId</th>\n",
              "      <th>revenue</th>\n",
              "      <th>createdAt</th>\n",
              "    </tr>\n",
              "  </thead>\n",
              "  <tbody>\n",
              "    <tr>\n",
              "      <th>0</th>\n",
              "      <td>0</td>\n",
              "      <td>881152bb20f9b73daafb99d77714f38ac702629c</td>\n",
              "      <td>H</td>\n",
              "      <td>1.000000</td>\n",
              "      <td>5094298f068196c5349d43847de5afc9125cf989</td>\n",
              "      <td>47.00000</td>\n",
              "      <td>06-03-2017</td>\n",
              "    </tr>\n",
              "    <tr>\n",
              "      <th>1</th>\n",
              "      <td>1</td>\n",
              "      <td>faf5c1181ea84a32237dff45ca201d2c28f19d7b</td>\n",
              "      <td>I</td>\n",
              "      <td>0.300250</td>\n",
              "      <td>NaN</td>\n",
              "      <td>98.00004</td>\n",
              "      <td>02-03-2017</td>\n",
              "    </tr>\n",
              "    <tr>\n",
              "      <th>2</th>\n",
              "      <td>2</td>\n",
              "      <td>faf5c1181ea84a32237dff45ca201d2c28f19d7b</td>\n",
              "      <td>A</td>\n",
              "      <td>0.322839</td>\n",
              "      <td>NaN</td>\n",
              "      <td>98.00004</td>\n",
              "      <td>02-03-2017</td>\n",
              "    </tr>\n",
              "    <tr>\n",
              "      <th>3</th>\n",
              "      <td>3</td>\n",
              "      <td>faf5c1181ea84a32237dff45ca201d2c28f19d7b</td>\n",
              "      <td>E</td>\n",
              "      <td>0.376911</td>\n",
              "      <td>NaN</td>\n",
              "      <td>98.00004</td>\n",
              "      <td>02-03-2017</td>\n",
              "    </tr>\n",
              "    <tr>\n",
              "      <th>4</th>\n",
              "      <td>4</td>\n",
              "      <td>b0e58a88459ece1b585ca22c93e633dc56273b83</td>\n",
              "      <td>H</td>\n",
              "      <td>1.000000</td>\n",
              "      <td>NaN</td>\n",
              "      <td>180.35300</td>\n",
              "      <td>02-03-2017</td>\n",
              "    </tr>\n",
              "  </tbody>\n",
              "</table>\n",
              "</div>"
            ],
            "text/plain": [
              "   index                                    convId  ...    revenue   createdAt\n",
              "0      0  881152bb20f9b73daafb99d77714f38ac702629c  ...   47.00000  06-03-2017\n",
              "1      1  faf5c1181ea84a32237dff45ca201d2c28f19d7b  ...   98.00004  02-03-2017\n",
              "2      2  faf5c1181ea84a32237dff45ca201d2c28f19d7b  ...   98.00004  02-03-2017\n",
              "3      3  faf5c1181ea84a32237dff45ca201d2c28f19d7b  ...   98.00004  02-03-2017\n",
              "4      4  b0e58a88459ece1b585ca22c93e633dc56273b83  ...  180.35300  02-03-2017\n",
              "\n",
              "[5 rows x 7 columns]"
            ]
          },
          "metadata": {
            "tags": []
          },
          "execution_count": 40
        }
      ]
    },
    {
      "cell_type": "code",
      "metadata": {
        "id": "SsGBR4S_upUd",
        "colab": {
          "base_uri": "https://localhost:8080/"
        },
        "outputId": "7a32734e-ea3d-4767-a46f-dbe73cc1c645"
      },
      "source": [
        "#coletando informação para anlise das colunas\n",
        "\n",
        "dfData.info()"
      ],
      "execution_count": null,
      "outputs": [
        {
          "output_type": "stream",
          "text": [
            "<class 'pandas.core.frame.DataFrame'>\n",
            "RangeIndex: 211060 entries, 0 to 211059\n",
            "Data columns (total 7 columns):\n",
            " #   Column        Non-Null Count   Dtype  \n",
            "---  ------        --------------   -----  \n",
            " 0   index         211060 non-null  int64  \n",
            " 1   convId        211060 non-null  object \n",
            " 2   channel       211060 non-null  object \n",
            " 3   contribution  211060 non-null  float64\n",
            " 4   userId        204422 non-null  object \n",
            " 5   revenue       211060 non-null  float64\n",
            " 6   createdAt     211060 non-null  object \n",
            "dtypes: float64(2), int64(1), object(4)\n",
            "memory usage: 11.3+ MB\n"
          ],
          "name": "stdout"
        }
      ]
    },
    {
      "cell_type": "code",
      "metadata": {
        "id": "gwRfdtzguyyP",
        "colab": {
          "base_uri": "https://localhost:8080/"
        },
        "outputId": "23368cf3-19bd-4a41-fb32-e4e10f5286a4"
      },
      "source": [
        "#quantidade de linhas\n",
        "\n",
        "len(dfData)"
      ],
      "execution_count": null,
      "outputs": [
        {
          "output_type": "execute_result",
          "data": {
            "text/plain": [
              "211060"
            ]
          },
          "metadata": {
            "tags": []
          },
          "execution_count": 42
        }
      ]
    },
    {
      "cell_type": "code",
      "metadata": {
        "id": "w1jQj3wmu2mv",
        "colab": {
          "base_uri": "https://localhost:8080/"
        },
        "outputId": "94dae826-a1df-4931-8ae8-497d752cd81c"
      },
      "source": [
        "#converter createdAt em data, pois esta como objtec-string\n",
        "\n",
        "dfData['Date'] = pd.to_datetime(dfData['createdAt'], infer_datetime_format=True)\n",
        "dfData.info()"
      ],
      "execution_count": null,
      "outputs": [
        {
          "output_type": "stream",
          "text": [
            "<class 'pandas.core.frame.DataFrame'>\n",
            "RangeIndex: 211060 entries, 0 to 211059\n",
            "Data columns (total 8 columns):\n",
            " #   Column        Non-Null Count   Dtype         \n",
            "---  ------        --------------   -----         \n",
            " 0   index         211060 non-null  int64         \n",
            " 1   convId        211060 non-null  object        \n",
            " 2   channel       211060 non-null  object        \n",
            " 3   contribution  211060 non-null  float64       \n",
            " 4   userId        204422 non-null  object        \n",
            " 5   revenue       211060 non-null  float64       \n",
            " 6   createdAt     211060 non-null  object        \n",
            " 7   Date          211060 non-null  datetime64[ns]\n",
            "dtypes: datetime64[ns](1), float64(2), int64(1), object(4)\n",
            "memory usage: 12.9+ MB\n"
          ],
          "name": "stdout"
        }
      ]
    },
    {
      "cell_type": "code",
      "metadata": {
        "id": "qxCdYNgsu9Ne",
        "colab": {
          "base_uri": "https://localhost:8080/",
          "height": 198
        },
        "outputId": "c2b81c3d-06fe-49a2-8ede-46ed361da33f"
      },
      "source": [
        "#criando um novo dataframe coluna para impedir informação duplicada \n",
        "\n",
        "dfdata = dfData.drop(['index', 'createdAt'], 1)\n",
        "dfdata.head()"
      ],
      "execution_count": null,
      "outputs": [
        {
          "output_type": "execute_result",
          "data": {
            "text/html": [
              "<div>\n",
              "<style scoped>\n",
              "    .dataframe tbody tr th:only-of-type {\n",
              "        vertical-align: middle;\n",
              "    }\n",
              "\n",
              "    .dataframe tbody tr th {\n",
              "        vertical-align: top;\n",
              "    }\n",
              "\n",
              "    .dataframe thead th {\n",
              "        text-align: right;\n",
              "    }\n",
              "</style>\n",
              "<table border=\"1\" class=\"dataframe\">\n",
              "  <thead>\n",
              "    <tr style=\"text-align: right;\">\n",
              "      <th></th>\n",
              "      <th>convId</th>\n",
              "      <th>channel</th>\n",
              "      <th>contribution</th>\n",
              "      <th>userId</th>\n",
              "      <th>revenue</th>\n",
              "      <th>Date</th>\n",
              "    </tr>\n",
              "  </thead>\n",
              "  <tbody>\n",
              "    <tr>\n",
              "      <th>0</th>\n",
              "      <td>881152bb20f9b73daafb99d77714f38ac702629c</td>\n",
              "      <td>H</td>\n",
              "      <td>1.000000</td>\n",
              "      <td>5094298f068196c5349d43847de5afc9125cf989</td>\n",
              "      <td>47.00000</td>\n",
              "      <td>2017-06-03</td>\n",
              "    </tr>\n",
              "    <tr>\n",
              "      <th>1</th>\n",
              "      <td>faf5c1181ea84a32237dff45ca201d2c28f19d7b</td>\n",
              "      <td>I</td>\n",
              "      <td>0.300250</td>\n",
              "      <td>NaN</td>\n",
              "      <td>98.00004</td>\n",
              "      <td>2017-02-03</td>\n",
              "    </tr>\n",
              "    <tr>\n",
              "      <th>2</th>\n",
              "      <td>faf5c1181ea84a32237dff45ca201d2c28f19d7b</td>\n",
              "      <td>A</td>\n",
              "      <td>0.322839</td>\n",
              "      <td>NaN</td>\n",
              "      <td>98.00004</td>\n",
              "      <td>2017-02-03</td>\n",
              "    </tr>\n",
              "    <tr>\n",
              "      <th>3</th>\n",
              "      <td>faf5c1181ea84a32237dff45ca201d2c28f19d7b</td>\n",
              "      <td>E</td>\n",
              "      <td>0.376911</td>\n",
              "      <td>NaN</td>\n",
              "      <td>98.00004</td>\n",
              "      <td>2017-02-03</td>\n",
              "    </tr>\n",
              "    <tr>\n",
              "      <th>4</th>\n",
              "      <td>b0e58a88459ece1b585ca22c93e633dc56273b83</td>\n",
              "      <td>H</td>\n",
              "      <td>1.000000</td>\n",
              "      <td>NaN</td>\n",
              "      <td>180.35300</td>\n",
              "      <td>2017-02-03</td>\n",
              "    </tr>\n",
              "  </tbody>\n",
              "</table>\n",
              "</div>"
            ],
            "text/plain": [
              "                                     convId channel  ...    revenue       Date\n",
              "0  881152bb20f9b73daafb99d77714f38ac702629c       H  ...   47.00000 2017-06-03\n",
              "1  faf5c1181ea84a32237dff45ca201d2c28f19d7b       I  ...   98.00004 2017-02-03\n",
              "2  faf5c1181ea84a32237dff45ca201d2c28f19d7b       A  ...   98.00004 2017-02-03\n",
              "3  faf5c1181ea84a32237dff45ca201d2c28f19d7b       E  ...   98.00004 2017-02-03\n",
              "4  b0e58a88459ece1b585ca22c93e633dc56273b83       H  ...  180.35300 2017-02-03\n",
              "\n",
              "[5 rows x 6 columns]"
            ]
          },
          "metadata": {
            "tags": []
          },
          "execution_count": 44
        }
      ]
    },
    {
      "cell_type": "code",
      "metadata": {
        "id": "0aaZYZedvKq2",
        "colab": {
          "base_uri": "https://localhost:8080/"
        },
        "outputId": "ea482f4b-f74b-4afe-8b27-ac12b0532677"
      },
      "source": [
        "#apagando valores Not a Number\n",
        "\n",
        "dfdata = dfdata.dropna()\n",
        "len(dfdata)"
      ],
      "execution_count": null,
      "outputs": [
        {
          "output_type": "execute_result",
          "data": {
            "text/plain": [
              "204422"
            ]
          },
          "metadata": {
            "tags": []
          },
          "execution_count": 45
        }
      ]
    },
    {
      "cell_type": "code",
      "metadata": {
        "id": "UcgfGDrqxXYD",
        "colab": {
          "base_uri": "https://localhost:8080/",
          "height": 407
        },
        "outputId": "158ee17c-f658-449b-ecca-ad09aaf26a00"
      },
      "source": [
        "#visualzuando dataframe\n",
        "\n",
        "dfdata"
      ],
      "execution_count": null,
      "outputs": [
        {
          "output_type": "execute_result",
          "data": {
            "text/html": [
              "<div>\n",
              "<style scoped>\n",
              "    .dataframe tbody tr th:only-of-type {\n",
              "        vertical-align: middle;\n",
              "    }\n",
              "\n",
              "    .dataframe tbody tr th {\n",
              "        vertical-align: top;\n",
              "    }\n",
              "\n",
              "    .dataframe thead th {\n",
              "        text-align: right;\n",
              "    }\n",
              "</style>\n",
              "<table border=\"1\" class=\"dataframe\">\n",
              "  <thead>\n",
              "    <tr style=\"text-align: right;\">\n",
              "      <th></th>\n",
              "      <th>convId</th>\n",
              "      <th>channel</th>\n",
              "      <th>contribution</th>\n",
              "      <th>userId</th>\n",
              "      <th>revenue</th>\n",
              "      <th>Date</th>\n",
              "    </tr>\n",
              "  </thead>\n",
              "  <tbody>\n",
              "    <tr>\n",
              "      <th>0</th>\n",
              "      <td>881152bb20f9b73daafb99d77714f38ac702629c</td>\n",
              "      <td>H</td>\n",
              "      <td>1.000000</td>\n",
              "      <td>5094298f068196c5349d43847de5afc9125cf989</td>\n",
              "      <td>47.00000</td>\n",
              "      <td>2017-06-03</td>\n",
              "    </tr>\n",
              "    <tr>\n",
              "      <th>5</th>\n",
              "      <td>f0e6b7de22332c7b18c024e550bb1d860130cdf1</td>\n",
              "      <td>I</td>\n",
              "      <td>0.177042</td>\n",
              "      <td>433fdf385e33176cf9b0d67ecf383aa928fa261c</td>\n",
              "      <td>201.94104</td>\n",
              "      <td>2017-03-23</td>\n",
              "    </tr>\n",
              "    <tr>\n",
              "      <th>6</th>\n",
              "      <td>f0e6b7de22332c7b18c024e550bb1d860130cdf1</td>\n",
              "      <td>A</td>\n",
              "      <td>0.573316</td>\n",
              "      <td>433fdf385e33176cf9b0d67ecf383aa928fa261c</td>\n",
              "      <td>201.94104</td>\n",
              "      <td>2017-03-23</td>\n",
              "    </tr>\n",
              "    <tr>\n",
              "      <th>7</th>\n",
              "      <td>f0e6b7de22332c7b18c024e550bb1d860130cdf1</td>\n",
              "      <td>B</td>\n",
              "      <td>0.024867</td>\n",
              "      <td>433fdf385e33176cf9b0d67ecf383aa928fa261c</td>\n",
              "      <td>201.94104</td>\n",
              "      <td>2017-03-23</td>\n",
              "    </tr>\n",
              "    <tr>\n",
              "      <th>8</th>\n",
              "      <td>f0e6b7de22332c7b18c024e550bb1d860130cdf1</td>\n",
              "      <td>G</td>\n",
              "      <td>0.057023</td>\n",
              "      <td>433fdf385e33176cf9b0d67ecf383aa928fa261c</td>\n",
              "      <td>201.94104</td>\n",
              "      <td>2017-03-23</td>\n",
              "    </tr>\n",
              "    <tr>\n",
              "      <th>...</th>\n",
              "      <td>...</td>\n",
              "      <td>...</td>\n",
              "      <td>...</td>\n",
              "      <td>...</td>\n",
              "      <td>...</td>\n",
              "      <td>...</td>\n",
              "    </tr>\n",
              "    <tr>\n",
              "      <th>211055</th>\n",
              "      <td>ce7be68946baaf23c23bafffc0b60d63b9392615</td>\n",
              "      <td>C</td>\n",
              "      <td>1.000000</td>\n",
              "      <td>3342d5b210274b01e947cc15531ad53fbe25435b</td>\n",
              "      <td>231.56800</td>\n",
              "      <td>2018-03-26</td>\n",
              "    </tr>\n",
              "    <tr>\n",
              "      <th>211056</th>\n",
              "      <td>2d94a2d0fc7408bb2210d012ba96d2a9949e4e45</td>\n",
              "      <td>I</td>\n",
              "      <td>0.400014</td>\n",
              "      <td>b3f02d0768c0ba8334047d106eb759f3e80517ac</td>\n",
              "      <td>119.50400</td>\n",
              "      <td>2018-03-26</td>\n",
              "    </tr>\n",
              "    <tr>\n",
              "      <th>211057</th>\n",
              "      <td>2d94a2d0fc7408bb2210d012ba96d2a9949e4e45</td>\n",
              "      <td>A</td>\n",
              "      <td>0.498988</td>\n",
              "      <td>b3f02d0768c0ba8334047d106eb759f3e80517ac</td>\n",
              "      <td>119.50400</td>\n",
              "      <td>2018-03-26</td>\n",
              "    </tr>\n",
              "    <tr>\n",
              "      <th>211058</th>\n",
              "      <td>2d94a2d0fc7408bb2210d012ba96d2a9949e4e45</td>\n",
              "      <td>C</td>\n",
              "      <td>0.100998</td>\n",
              "      <td>b3f02d0768c0ba8334047d106eb759f3e80517ac</td>\n",
              "      <td>119.50400</td>\n",
              "      <td>2018-03-26</td>\n",
              "    </tr>\n",
              "    <tr>\n",
              "      <th>211059</th>\n",
              "      <td>2d94a2d0fc7408bb2210d012ba96d2a9949e4e45</td>\n",
              "      <td>M</td>\n",
              "      <td>0.000000</td>\n",
              "      <td>b3f02d0768c0ba8334047d106eb759f3e80517ac</td>\n",
              "      <td>119.50400</td>\n",
              "      <td>2018-03-26</td>\n",
              "    </tr>\n",
              "  </tbody>\n",
              "</table>\n",
              "<p>204422 rows × 6 columns</p>\n",
              "</div>"
            ],
            "text/plain": [
              "                                          convId channel  ...    revenue       Date\n",
              "0       881152bb20f9b73daafb99d77714f38ac702629c       H  ...   47.00000 2017-06-03\n",
              "5       f0e6b7de22332c7b18c024e550bb1d860130cdf1       I  ...  201.94104 2017-03-23\n",
              "6       f0e6b7de22332c7b18c024e550bb1d860130cdf1       A  ...  201.94104 2017-03-23\n",
              "7       f0e6b7de22332c7b18c024e550bb1d860130cdf1       B  ...  201.94104 2017-03-23\n",
              "8       f0e6b7de22332c7b18c024e550bb1d860130cdf1       G  ...  201.94104 2017-03-23\n",
              "...                                          ...     ...  ...        ...        ...\n",
              "211055  ce7be68946baaf23c23bafffc0b60d63b9392615       C  ...  231.56800 2018-03-26\n",
              "211056  2d94a2d0fc7408bb2210d012ba96d2a9949e4e45       I  ...  119.50400 2018-03-26\n",
              "211057  2d94a2d0fc7408bb2210d012ba96d2a9949e4e45       A  ...  119.50400 2018-03-26\n",
              "211058  2d94a2d0fc7408bb2210d012ba96d2a9949e4e45       C  ...  119.50400 2018-03-26\n",
              "211059  2d94a2d0fc7408bb2210d012ba96d2a9949e4e45       M  ...  119.50400 2018-03-26\n",
              "\n",
              "[204422 rows x 6 columns]"
            ]
          },
          "metadata": {
            "tags": []
          },
          "execution_count": 46
        }
      ]
    },
    {
      "cell_type": "code",
      "metadata": {
        "id": "OQOCTQ-jxjhm"
      },
      "source": [
        "#criando novas inforamções/colunas levantamento de dados  para classficação\n",
        "\n",
        "dfdata['Month'] = dfdata['Date'].apply(lambda time: time.month)\n",
        "dfdata['Day of Week'] = dfdata['Date'].apply(lambda time: time.dayofweek)\n",
        "dfdata['year'] = dfdata['Date'].apply(lambda time: time.year)"
      ],
      "execution_count": null,
      "outputs": []
    },
    {
      "cell_type": "code",
      "metadata": {
        "id": "6e1rzM51x9z6",
        "colab": {
          "base_uri": "https://localhost:8080/",
          "height": 322
        },
        "outputId": "9a023d56-3fce-4047-ef83-2b12e3f70597"
      },
      "source": [
        "#Usando o .map criar um dicionario e nomear o dia da semana em str = domingo, segunda...\n",
        "\n",
        "dmap = {0:'Monday', 1:'Tuesday', 2:'Wednesday', 3:'Thursday', 4:'Friday', 5:'Saturday', 6:'Sunday'}\n",
        "dfdata['Day of Week'] = dfdata['Day of Week'].map(dmap)\n",
        "dfdata.head()"
      ],
      "execution_count": null,
      "outputs": [
        {
          "output_type": "execute_result",
          "data": {
            "text/html": [
              "<div>\n",
              "<style scoped>\n",
              "    .dataframe tbody tr th:only-of-type {\n",
              "        vertical-align: middle;\n",
              "    }\n",
              "\n",
              "    .dataframe tbody tr th {\n",
              "        vertical-align: top;\n",
              "    }\n",
              "\n",
              "    .dataframe thead th {\n",
              "        text-align: right;\n",
              "    }\n",
              "</style>\n",
              "<table border=\"1\" class=\"dataframe\">\n",
              "  <thead>\n",
              "    <tr style=\"text-align: right;\">\n",
              "      <th></th>\n",
              "      <th>convId</th>\n",
              "      <th>channel</th>\n",
              "      <th>contribution</th>\n",
              "      <th>userId</th>\n",
              "      <th>revenue</th>\n",
              "      <th>Date</th>\n",
              "      <th>Month</th>\n",
              "      <th>Day of Week</th>\n",
              "      <th>year</th>\n",
              "    </tr>\n",
              "  </thead>\n",
              "  <tbody>\n",
              "    <tr>\n",
              "      <th>0</th>\n",
              "      <td>881152bb20f9b73daafb99d77714f38ac702629c</td>\n",
              "      <td>H</td>\n",
              "      <td>1.000000</td>\n",
              "      <td>5094298f068196c5349d43847de5afc9125cf989</td>\n",
              "      <td>47.00000</td>\n",
              "      <td>2017-06-03</td>\n",
              "      <td>6</td>\n",
              "      <td>Saturday</td>\n",
              "      <td>2017</td>\n",
              "    </tr>\n",
              "    <tr>\n",
              "      <th>5</th>\n",
              "      <td>f0e6b7de22332c7b18c024e550bb1d860130cdf1</td>\n",
              "      <td>I</td>\n",
              "      <td>0.177042</td>\n",
              "      <td>433fdf385e33176cf9b0d67ecf383aa928fa261c</td>\n",
              "      <td>201.94104</td>\n",
              "      <td>2017-03-23</td>\n",
              "      <td>3</td>\n",
              "      <td>Thursday</td>\n",
              "      <td>2017</td>\n",
              "    </tr>\n",
              "    <tr>\n",
              "      <th>6</th>\n",
              "      <td>f0e6b7de22332c7b18c024e550bb1d860130cdf1</td>\n",
              "      <td>A</td>\n",
              "      <td>0.573316</td>\n",
              "      <td>433fdf385e33176cf9b0d67ecf383aa928fa261c</td>\n",
              "      <td>201.94104</td>\n",
              "      <td>2017-03-23</td>\n",
              "      <td>3</td>\n",
              "      <td>Thursday</td>\n",
              "      <td>2017</td>\n",
              "    </tr>\n",
              "    <tr>\n",
              "      <th>7</th>\n",
              "      <td>f0e6b7de22332c7b18c024e550bb1d860130cdf1</td>\n",
              "      <td>B</td>\n",
              "      <td>0.024867</td>\n",
              "      <td>433fdf385e33176cf9b0d67ecf383aa928fa261c</td>\n",
              "      <td>201.94104</td>\n",
              "      <td>2017-03-23</td>\n",
              "      <td>3</td>\n",
              "      <td>Thursday</td>\n",
              "      <td>2017</td>\n",
              "    </tr>\n",
              "    <tr>\n",
              "      <th>8</th>\n",
              "      <td>f0e6b7de22332c7b18c024e550bb1d860130cdf1</td>\n",
              "      <td>G</td>\n",
              "      <td>0.057023</td>\n",
              "      <td>433fdf385e33176cf9b0d67ecf383aa928fa261c</td>\n",
              "      <td>201.94104</td>\n",
              "      <td>2017-03-23</td>\n",
              "      <td>3</td>\n",
              "      <td>Thursday</td>\n",
              "      <td>2017</td>\n",
              "    </tr>\n",
              "  </tbody>\n",
              "</table>\n",
              "</div>"
            ],
            "text/plain": [
              "                                     convId channel  ...  Day of Week  year\n",
              "0  881152bb20f9b73daafb99d77714f38ac702629c       H  ...     Saturday  2017\n",
              "5  f0e6b7de22332c7b18c024e550bb1d860130cdf1       I  ...     Thursday  2017\n",
              "6  f0e6b7de22332c7b18c024e550bb1d860130cdf1       A  ...     Thursday  2017\n",
              "7  f0e6b7de22332c7b18c024e550bb1d860130cdf1       B  ...     Thursday  2017\n",
              "8  f0e6b7de22332c7b18c024e550bb1d860130cdf1       G  ...     Thursday  2017\n",
              "\n",
              "[5 rows x 9 columns]"
            ]
          },
          "metadata": {
            "tags": []
          },
          "execution_count": 48
        }
      ]
    },
    {
      "cell_type": "code",
      "metadata": {
        "id": "A6c6CEgWfmOV",
        "colab": {
          "base_uri": "https://localhost:8080/",
          "height": 322
        },
        "outputId": "cf38e49e-3335-42dc-fa0d-1adeadac46d8"
      },
      "source": [
        "#Usando o .map criar um dicionario e nomear meses \n",
        "\n",
        "dmap = {1:'Janeiro', 2:'Fevereiro', 3:'Março', 4:'Abril', 5:'Maio', 6:'Junho', \n",
        "        7:'Julho', 8:'Agosto', 9:'Setembro', 10:'Outubro', 11:'Novembro', 12:'Dezembro' }\n",
        "dfdata['Month'] = dfdata['Month'].map(dmap)\n",
        "dfdata.head()"
      ],
      "execution_count": null,
      "outputs": [
        {
          "output_type": "execute_result",
          "data": {
            "text/html": [
              "<div>\n",
              "<style scoped>\n",
              "    .dataframe tbody tr th:only-of-type {\n",
              "        vertical-align: middle;\n",
              "    }\n",
              "\n",
              "    .dataframe tbody tr th {\n",
              "        vertical-align: top;\n",
              "    }\n",
              "\n",
              "    .dataframe thead th {\n",
              "        text-align: right;\n",
              "    }\n",
              "</style>\n",
              "<table border=\"1\" class=\"dataframe\">\n",
              "  <thead>\n",
              "    <tr style=\"text-align: right;\">\n",
              "      <th></th>\n",
              "      <th>convId</th>\n",
              "      <th>channel</th>\n",
              "      <th>contribution</th>\n",
              "      <th>userId</th>\n",
              "      <th>revenue</th>\n",
              "      <th>Date</th>\n",
              "      <th>Month</th>\n",
              "      <th>Day of Week</th>\n",
              "      <th>year</th>\n",
              "    </tr>\n",
              "  </thead>\n",
              "  <tbody>\n",
              "    <tr>\n",
              "      <th>0</th>\n",
              "      <td>881152bb20f9b73daafb99d77714f38ac702629c</td>\n",
              "      <td>H</td>\n",
              "      <td>1.000000</td>\n",
              "      <td>5094298f068196c5349d43847de5afc9125cf989</td>\n",
              "      <td>47.00000</td>\n",
              "      <td>2017-06-03</td>\n",
              "      <td>Junho</td>\n",
              "      <td>Saturday</td>\n",
              "      <td>2017</td>\n",
              "    </tr>\n",
              "    <tr>\n",
              "      <th>5</th>\n",
              "      <td>f0e6b7de22332c7b18c024e550bb1d860130cdf1</td>\n",
              "      <td>I</td>\n",
              "      <td>0.177042</td>\n",
              "      <td>433fdf385e33176cf9b0d67ecf383aa928fa261c</td>\n",
              "      <td>201.94104</td>\n",
              "      <td>2017-03-23</td>\n",
              "      <td>Março</td>\n",
              "      <td>Thursday</td>\n",
              "      <td>2017</td>\n",
              "    </tr>\n",
              "    <tr>\n",
              "      <th>6</th>\n",
              "      <td>f0e6b7de22332c7b18c024e550bb1d860130cdf1</td>\n",
              "      <td>A</td>\n",
              "      <td>0.573316</td>\n",
              "      <td>433fdf385e33176cf9b0d67ecf383aa928fa261c</td>\n",
              "      <td>201.94104</td>\n",
              "      <td>2017-03-23</td>\n",
              "      <td>Março</td>\n",
              "      <td>Thursday</td>\n",
              "      <td>2017</td>\n",
              "    </tr>\n",
              "    <tr>\n",
              "      <th>7</th>\n",
              "      <td>f0e6b7de22332c7b18c024e550bb1d860130cdf1</td>\n",
              "      <td>B</td>\n",
              "      <td>0.024867</td>\n",
              "      <td>433fdf385e33176cf9b0d67ecf383aa928fa261c</td>\n",
              "      <td>201.94104</td>\n",
              "      <td>2017-03-23</td>\n",
              "      <td>Março</td>\n",
              "      <td>Thursday</td>\n",
              "      <td>2017</td>\n",
              "    </tr>\n",
              "    <tr>\n",
              "      <th>8</th>\n",
              "      <td>f0e6b7de22332c7b18c024e550bb1d860130cdf1</td>\n",
              "      <td>G</td>\n",
              "      <td>0.057023</td>\n",
              "      <td>433fdf385e33176cf9b0d67ecf383aa928fa261c</td>\n",
              "      <td>201.94104</td>\n",
              "      <td>2017-03-23</td>\n",
              "      <td>Março</td>\n",
              "      <td>Thursday</td>\n",
              "      <td>2017</td>\n",
              "    </tr>\n",
              "  </tbody>\n",
              "</table>\n",
              "</div>"
            ],
            "text/plain": [
              "                                     convId channel  ...  Day of Week  year\n",
              "0  881152bb20f9b73daafb99d77714f38ac702629c       H  ...     Saturday  2017\n",
              "5  f0e6b7de22332c7b18c024e550bb1d860130cdf1       I  ...     Thursday  2017\n",
              "6  f0e6b7de22332c7b18c024e550bb1d860130cdf1       A  ...     Thursday  2017\n",
              "7  f0e6b7de22332c7b18c024e550bb1d860130cdf1       B  ...     Thursday  2017\n",
              "8  f0e6b7de22332c7b18c024e550bb1d860130cdf1       G  ...     Thursday  2017\n",
              "\n",
              "[5 rows x 9 columns]"
            ]
          },
          "metadata": {
            "tags": []
          },
          "execution_count": 49
        }
      ]
    },
    {
      "cell_type": "code",
      "metadata": {
        "id": "P6syEtRoyTTZ",
        "colab": {
          "base_uri": "https://localhost:8080/",
          "height": 568
        },
        "outputId": "700ee75e-4391-4020-9ca6-8801371b5e42"
      },
      "source": [
        "#Exploração de dados\n",
        "\n",
        "#grafico\n",
        "sns.pairplot(dfdata)"
      ],
      "execution_count": null,
      "outputs": [
        {
          "output_type": "execute_result",
          "data": {
            "text/plain": [
              "<seaborn.axisgrid.PairGrid at 0x7f6faf86f050>"
            ]
          },
          "metadata": {
            "tags": []
          },
          "execution_count": 50
        },
        {
          "output_type": "display_data",
          "data": {
            "image/png": "[encoded data removed]",
            "text/plain": [
              "<Figure size 540x540 with 12 Axes>"
            ]
          },
          "metadata": {
            "tags": [],
            "needs_background": "light"
          }
        }
      ]
    },
    {
      "cell_type": "code",
      "metadata": {
        "id": "hyDKTKbgy1Rw",
        "colab": {
          "base_uri": "https://localhost:8080/",
          "height": 455
        },
        "outputId": "a5a1b9df-6984-4077-f220-ac1e954acc09"
      },
      "source": [
        "#Exploração de dados\n",
        "\n",
        "#analisando e procurando informações\n",
        "sns.lmplot(data = dfdata, x = 'Date', y = 'revenue', hue = 'channel', height = 6, fit_reg= False)\n",
        "sns.set_style('whitegrid')"
      ],
      "execution_count": null,
      "outputs": [
        {
          "output_type": "display_data",
          "data": {
            "image/png": "[encoded data removed]",
            "text/plain": [
              "<Figure size 479.75x432 with 1 Axes>"
            ]
          },
          "metadata": {
            "tags": [],
            "needs_background": "light"
          }
        }
      ]
    },
    {
      "cell_type": "code",
      "metadata": {
        "id": "JuXhb2Wy7d2x",
        "colab": {
          "base_uri": "https://localhost:8080/",
          "height": 295
        },
        "outputId": "33f05a0c-1050-4df3-bf99-412ef103b4f6"
      },
      "source": [
        "#Exploração de dados\n",
        "\n",
        "#analisando e procurando informações\n",
        "#grafico de todo data frame por data\n",
        "\n",
        "dfdata.groupby('Date').count()['revenue'].plot()"
      ],
      "execution_count": null,
      "outputs": [
        {
          "output_type": "execute_result",
          "data": {
            "text/plain": [
              "<matplotlib.axes._subplots.AxesSubplot at 0x7f6fbfba0850>"
            ]
          },
          "metadata": {
            "tags": []
          },
          "execution_count": 15
        },
        {
          "output_type": "display_data",
          "data": {
            "image/png": "[encoded data removed]",
            "text/plain": [
              "<Figure size 432x288 with 1 Axes>"
            ]
          },
          "metadata": {
            "tags": [],
            "needs_background": "light"
          }
        }
      ]
    },
    {
      "cell_type": "code",
      "metadata": {
        "id": "1tZBKGyS9MnF",
        "colab": {
          "base_uri": "https://localhost:8080/",
          "height": 296
        },
        "outputId": "7f7c624e-be20-4fb0-efff-356d60d524c3"
      },
      "source": [
        "#Exploração de dados\n",
        "\n",
        "#analisando e procurando informações\n",
        "\n",
        "dfdata[dfdata['year'] == 2017].groupby('Month').count()['revenue'].plot()"
      ],
      "execution_count": null,
      "outputs": [
        {
          "output_type": "execute_result",
          "data": {
            "text/plain": [
              "<matplotlib.axes._subplots.AxesSubplot at 0x7fc84c7e6050>"
            ]
          },
          "metadata": {
            "tags": []
          },
          "execution_count": 17
        },
        {
          "output_type": "display_data",
          "data": {
            "image/png": "[encoded data removed]",
            "text/plain": [
              "<Figure size 432x288 with 1 Axes>"
            ]
          },
          "metadata": {
            "tags": []
          }
        }
      ]
    },
    {
      "cell_type": "code",
      "metadata": {
        "id": "RDS4yo-2-FHx",
        "colab": {
          "base_uri": "https://localhost:8080/",
          "height": 207
        },
        "outputId": "90447a15-2300-4d77-c4c5-78244d77e2a2"
      },
      "source": [
        "#Exploração de dados\n",
        "\n",
        "#analisando e procurando informações\n",
        "#queda da receita\n",
        "\n",
        "dfdata[dfdata['year'] == 2018].groupby('Month').count()['revenue'].plot()"
      ],
      "execution_count": 1,
      "outputs": [
        {
          "output_type": "error",
          "ename": "NameError",
          "evalue": "ignored",
          "traceback": [
            "\u001b[0;31m---------------------------------------------------------------------------\u001b[0m",
            "\u001b[0;31mNameError\u001b[0m                                 Traceback (most recent call last)",
            "\u001b[0;32m<ipython-input-1-19dd7d7d08d8>\u001b[0m in \u001b[0;36m<module>\u001b[0;34m()\u001b[0m\n\u001b[1;32m      4\u001b[0m \u001b[0;31m#queda da receita\u001b[0m\u001b[0;34m\u001b[0m\u001b[0;34m\u001b[0m\u001b[0;34m\u001b[0m\u001b[0m\n\u001b[1;32m      5\u001b[0m \u001b[0;34m\u001b[0m\u001b[0m\n\u001b[0;32m----> 6\u001b[0;31m \u001b[0mdfdata\u001b[0m\u001b[0;34m[\u001b[0m\u001b[0mdfdata\u001b[0m\u001b[0;34m[\u001b[0m\u001b[0;34m'year'\u001b[0m\u001b[0;34m]\u001b[0m \u001b[0;34m==\u001b[0m \u001b[0;36m2018\u001b[0m\u001b[0;34m]\u001b[0m\u001b[0;34m.\u001b[0m\u001b[0mgroupby\u001b[0m\u001b[0;34m(\u001b[0m\u001b[0;34m'Month'\u001b[0m\u001b[0;34m)\u001b[0m\u001b[0;34m.\u001b[0m\u001b[0mcount\u001b[0m\u001b[0;34m(\u001b[0m\u001b[0;34m)\u001b[0m\u001b[0;34m[\u001b[0m\u001b[0;34m'revenue'\u001b[0m\u001b[0;34m]\u001b[0m\u001b[0;34m.\u001b[0m\u001b[0mplot\u001b[0m\u001b[0;34m(\u001b[0m\u001b[0;34m)\u001b[0m\u001b[0;34m\u001b[0m\u001b[0;34m\u001b[0m\u001b[0m\n\u001b[0m",
            "\u001b[0;31mNameError\u001b[0m: name 'dfdata' is not defined"
          ]
        }
      ]
    },
    {
      "cell_type": "code",
      "metadata": {
        "id": "21YdX1O6-Z4B",
        "colab": {
          "base_uri": "https://localhost:8080/",
          "height": 308
        },
        "outputId": "e5eca151-c180-4386-c85f-38988e51414d"
      },
      "source": [
        "#Exploração de dados\n",
        "\n",
        "#analisando e procurando informações\n",
        "#queda da receita\n",
        "\n",
        "dfdata.groupby('year').sum()['revenue'].plot()"
      ],
      "execution_count": null,
      "outputs": [
        {
          "output_type": "execute_result",
          "data": {
            "text/plain": [
              "<matplotlib.axes._subplots.AxesSubplot at 0x7f6fae2d0350>"
            ]
          },
          "metadata": {
            "tags": []
          },
          "execution_count": 95
        },
        {
          "output_type": "display_data",
          "data": {
            "image/png": "[encoded data removed]",
            "text/plain": [
              "<Figure size 432x288 with 1 Axes>"
            ]
          },
          "metadata": {
            "tags": [],
            "needs_background": "light"
          }
        }
      ]
    },
    {
      "cell_type": "code",
      "metadata": {
        "id": "bk2i3gmQzA-v",
        "colab": {
          "base_uri": "https://localhost:8080/",
          "height": 235
        },
        "outputId": "06ccd06b-6ff8-406f-9b3c-548fe9db1e62"
      },
      "source": [
        "#agrupamento de canais ordenado pela receita\n",
        "\n",
        "dfChannel = dfdata.groupby('channel').sum().sort_values(by='revenue', ascending = False)\n",
        "dfChannel.head()\n"
      ],
      "execution_count": null,
      "outputs": [
        {
          "output_type": "execute_result",
          "data": {
            "text/html": [
              "<div>\n",
              "<style scoped>\n",
              "    .dataframe tbody tr th:only-of-type {\n",
              "        vertical-align: middle;\n",
              "    }\n",
              "\n",
              "    .dataframe tbody tr th {\n",
              "        vertical-align: top;\n",
              "    }\n",
              "\n",
              "    .dataframe thead th {\n",
              "        text-align: right;\n",
              "    }\n",
              "</style>\n",
              "<table border=\"1\" class=\"dataframe\">\n",
              "  <thead>\n",
              "    <tr style=\"text-align: right;\">\n",
              "      <th></th>\n",
              "      <th>contribution</th>\n",
              "      <th>revenue</th>\n",
              "      <th>Month</th>\n",
              "      <th>year</th>\n",
              "    </tr>\n",
              "    <tr>\n",
              "      <th>channel</th>\n",
              "      <th></th>\n",
              "      <th></th>\n",
              "      <th></th>\n",
              "      <th></th>\n",
              "    </tr>\n",
              "  </thead>\n",
              "  <tbody>\n",
              "    <tr>\n",
              "      <th>A</th>\n",
              "      <td>20812.123971</td>\n",
              "      <td>7.729556e+06</td>\n",
              "      <td>261892</td>\n",
              "      <td>81663898</td>\n",
              "    </tr>\n",
              "    <tr>\n",
              "      <th>G</th>\n",
              "      <td>17484.093898</td>\n",
              "      <td>6.581498e+06</td>\n",
              "      <td>234028</td>\n",
              "      <td>72668401</td>\n",
              "    </tr>\n",
              "    <tr>\n",
              "      <th>H</th>\n",
              "      <td>10977.484892</td>\n",
              "      <td>5.192739e+06</td>\n",
              "      <td>182384</td>\n",
              "      <td>57984760</td>\n",
              "    </tr>\n",
              "    <tr>\n",
              "      <th>I</th>\n",
              "      <td>7488.124175</td>\n",
              "      <td>4.333058e+06</td>\n",
              "      <td>158116</td>\n",
              "      <td>48180008</td>\n",
              "    </tr>\n",
              "    <tr>\n",
              "      <th>B</th>\n",
              "      <td>8894.056964</td>\n",
              "      <td>4.115119e+06</td>\n",
              "      <td>144859</td>\n",
              "      <td>44537331</td>\n",
              "    </tr>\n",
              "  </tbody>\n",
              "</table>\n",
              "</div>"
            ],
            "text/plain": [
              "         contribution       revenue   Month      year\n",
              "channel                                              \n",
              "A        20812.123971  7.729556e+06  261892  81663898\n",
              "G        17484.093898  6.581498e+06  234028  72668401\n",
              "H        10977.484892  5.192739e+06  182384  57984760\n",
              "I         7488.124175  4.333058e+06  158116  48180008\n",
              "B         8894.056964  4.115119e+06  144859  44537331"
            ]
          },
          "metadata": {
            "tags": []
          },
          "execution_count": 20
        }
      ]
    },
    {
      "cell_type": "code",
      "metadata": {
        "id": "LzqNxICr-Y_a"
      },
      "source": [
        ""
      ],
      "execution_count": null,
      "outputs": []
    },
    {
      "cell_type": "code",
      "metadata": {
        "id": "gtELyTXY5TYe",
        "colab": {
          "base_uri": "https://localhost:8080/",
          "height": 307
        },
        "outputId": "8eb7f3d4-59bd-4c42-e5bd-90f984dae7ff"
      },
      "source": [
        "#Exploração de dados\n",
        "\n",
        "#analisando e procurando informações\n",
        "#receita gerada por canal \n",
        "\n",
        "sns.barplot(data = dfChannel, x =dfChannel.index, y = 'revenue')"
      ],
      "execution_count": null,
      "outputs": [
        {
          "output_type": "execute_result",
          "data": {
            "text/plain": [
              "<matplotlib.axes._subplots.AxesSubplot at 0x7fc84c7c2850>"
            ]
          },
          "metadata": {
            "tags": []
          },
          "execution_count": 21
        },
        {
          "output_type": "display_data",
          "data": {
            "image/png": "[encoded data removed]",
            "text/plain": [
              "<Figure size 432x288 with 1 Axes>"
            ]
          },
          "metadata": {
            "tags": []
          }
        }
      ]
    },
    {
      "cell_type": "code",
      "metadata": {
        "id": "eXzauYnA0dX7"
      },
      "source": [
        ""
      ],
      "execution_count": null,
      "outputs": []
    },
    {
      "cell_type": "code",
      "metadata": {
        "id": "L_3ELtfu0sa4",
        "colab": {
          "base_uri": "https://localhost:8080/",
          "height": 731
        },
        "outputId": "68e95d15-31fe-4361-c877-9b204e1223f9"
      },
      "source": [
        "#resetando o index\n",
        "\n",
        "dfChannel.reset_index()"
      ],
      "execution_count": null,
      "outputs": [
        {
          "output_type": "execute_result",
          "data": {
            "text/html": [
              "<div>\n",
              "<style scoped>\n",
              "    .dataframe tbody tr th:only-of-type {\n",
              "        vertical-align: middle;\n",
              "    }\n",
              "\n",
              "    .dataframe tbody tr th {\n",
              "        vertical-align: top;\n",
              "    }\n",
              "\n",
              "    .dataframe thead th {\n",
              "        text-align: right;\n",
              "    }\n",
              "</style>\n",
              "<table border=\"1\" class=\"dataframe\">\n",
              "  <thead>\n",
              "    <tr style=\"text-align: right;\">\n",
              "      <th></th>\n",
              "      <th>channel</th>\n",
              "      <th>contribution</th>\n",
              "      <th>revenue</th>\n",
              "      <th>Month</th>\n",
              "      <th>year</th>\n",
              "    </tr>\n",
              "  </thead>\n",
              "  <tbody>\n",
              "    <tr>\n",
              "      <th>0</th>\n",
              "      <td>A</td>\n",
              "      <td>20812.123971</td>\n",
              "      <td>7.729556e+06</td>\n",
              "      <td>261892</td>\n",
              "      <td>81663898</td>\n",
              "    </tr>\n",
              "    <tr>\n",
              "      <th>1</th>\n",
              "      <td>G</td>\n",
              "      <td>17484.093898</td>\n",
              "      <td>6.581498e+06</td>\n",
              "      <td>234028</td>\n",
              "      <td>72668401</td>\n",
              "    </tr>\n",
              "    <tr>\n",
              "      <th>2</th>\n",
              "      <td>H</td>\n",
              "      <td>10977.484892</td>\n",
              "      <td>5.192739e+06</td>\n",
              "      <td>182384</td>\n",
              "      <td>57984760</td>\n",
              "    </tr>\n",
              "    <tr>\n",
              "      <th>3</th>\n",
              "      <td>I</td>\n",
              "      <td>7488.124175</td>\n",
              "      <td>4.333058e+06</td>\n",
              "      <td>158116</td>\n",
              "      <td>48180008</td>\n",
              "    </tr>\n",
              "    <tr>\n",
              "      <th>4</th>\n",
              "      <td>B</td>\n",
              "      <td>8894.056964</td>\n",
              "      <td>4.115119e+06</td>\n",
              "      <td>144859</td>\n",
              "      <td>44537331</td>\n",
              "    </tr>\n",
              "    <tr>\n",
              "      <th>5</th>\n",
              "      <td>E</td>\n",
              "      <td>3811.667582</td>\n",
              "      <td>2.847103e+06</td>\n",
              "      <td>91225</td>\n",
              "      <td>30288682</td>\n",
              "    </tr>\n",
              "    <tr>\n",
              "      <th>6</th>\n",
              "      <td>C</td>\n",
              "      <td>1942.483527</td>\n",
              "      <td>1.627591e+06</td>\n",
              "      <td>53888</td>\n",
              "      <td>17132358</td>\n",
              "    </tr>\n",
              "    <tr>\n",
              "      <th>7</th>\n",
              "      <td>J</td>\n",
              "      <td>548.494225</td>\n",
              "      <td>9.984702e+05</td>\n",
              "      <td>40108</td>\n",
              "      <td>10669957</td>\n",
              "    </tr>\n",
              "    <tr>\n",
              "      <th>8</th>\n",
              "      <td>K</td>\n",
              "      <td>1584.530008</td>\n",
              "      <td>9.824538e+05</td>\n",
              "      <td>41432</td>\n",
              "      <td>12523486</td>\n",
              "    </tr>\n",
              "    <tr>\n",
              "      <th>9</th>\n",
              "      <td>M</td>\n",
              "      <td>829.656966</td>\n",
              "      <td>7.839060e+05</td>\n",
              "      <td>31861</td>\n",
              "      <td>9167842</td>\n",
              "    </tr>\n",
              "    <tr>\n",
              "      <th>10</th>\n",
              "      <td>L</td>\n",
              "      <td>1104.338623</td>\n",
              "      <td>7.017659e+05</td>\n",
              "      <td>30808</td>\n",
              "      <td>9469097</td>\n",
              "    </tr>\n",
              "    <tr>\n",
              "      <th>11</th>\n",
              "      <td>D</td>\n",
              "      <td>523.086857</td>\n",
              "      <td>4.561321e+05</td>\n",
              "      <td>17196</td>\n",
              "      <td>5136030</td>\n",
              "    </tr>\n",
              "    <tr>\n",
              "      <th>12</th>\n",
              "      <td>N</td>\n",
              "      <td>374.684109</td>\n",
              "      <td>2.976504e+05</td>\n",
              "      <td>12400</td>\n",
              "      <td>3313946</td>\n",
              "    </tr>\n",
              "    <tr>\n",
              "      <th>13</th>\n",
              "      <td>F</td>\n",
              "      <td>202.638545</td>\n",
              "      <td>2.572479e+05</td>\n",
              "      <td>5686</td>\n",
              "      <td>2887758</td>\n",
              "    </tr>\n",
              "    <tr>\n",
              "      <th>14</th>\n",
              "      <td>S</td>\n",
              "      <td>236.637732</td>\n",
              "      <td>2.523108e+05</td>\n",
              "      <td>5261</td>\n",
              "      <td>2754570</td>\n",
              "    </tr>\n",
              "    <tr>\n",
              "      <th>15</th>\n",
              "      <td>R</td>\n",
              "      <td>178.885320</td>\n",
              "      <td>1.314638e+05</td>\n",
              "      <td>3277</td>\n",
              "      <td>1511482</td>\n",
              "    </tr>\n",
              "    <tr>\n",
              "      <th>16</th>\n",
              "      <td>P</td>\n",
              "      <td>233.600130</td>\n",
              "      <td>9.419201e+04</td>\n",
              "      <td>4280</td>\n",
              "      <td>1282940</td>\n",
              "    </tr>\n",
              "    <tr>\n",
              "      <th>17</th>\n",
              "      <td>O</td>\n",
              "      <td>47.438813</td>\n",
              "      <td>5.418860e+04</td>\n",
              "      <td>2321</td>\n",
              "      <td>631372</td>\n",
              "    </tr>\n",
              "    <tr>\n",
              "      <th>18</th>\n",
              "      <td>U</td>\n",
              "      <td>18.125220</td>\n",
              "      <td>2.095974e+04</td>\n",
              "      <td>503</td>\n",
              "      <td>250232</td>\n",
              "    </tr>\n",
              "    <tr>\n",
              "      <th>19</th>\n",
              "      <td>T</td>\n",
              "      <td>10.153792</td>\n",
              "      <td>1.757585e+04</td>\n",
              "      <td>310</td>\n",
              "      <td>151315</td>\n",
              "    </tr>\n",
              "    <tr>\n",
              "      <th>20</th>\n",
              "      <td>V</td>\n",
              "      <td>7.905375</td>\n",
              "      <td>8.015948e+03</td>\n",
              "      <td>170</td>\n",
              "      <td>86774</td>\n",
              "    </tr>\n",
              "    <tr>\n",
              "      <th>21</th>\n",
              "      <td>Q</td>\n",
              "      <td>8.789357</td>\n",
              "      <td>5.973124e+03</td>\n",
              "      <td>258</td>\n",
              "      <td>74629</td>\n",
              "    </tr>\n",
              "  </tbody>\n",
              "</table>\n",
              "</div>"
            ],
            "text/plain": [
              "   channel  contribution       revenue   Month      year\n",
              "0        A  20812.123971  7.729556e+06  261892  81663898\n",
              "1        G  17484.093898  6.581498e+06  234028  72668401\n",
              "2        H  10977.484892  5.192739e+06  182384  57984760\n",
              "3        I   7488.124175  4.333058e+06  158116  48180008\n",
              "4        B   8894.056964  4.115119e+06  144859  44537331\n",
              "5        E   3811.667582  2.847103e+06   91225  30288682\n",
              "6        C   1942.483527  1.627591e+06   53888  17132358\n",
              "7        J    548.494225  9.984702e+05   40108  10669957\n",
              "8        K   1584.530008  9.824538e+05   41432  12523486\n",
              "9        M    829.656966  7.839060e+05   31861   9167842\n",
              "10       L   1104.338623  7.017659e+05   30808   9469097\n",
              "11       D    523.086857  4.561321e+05   17196   5136030\n",
              "12       N    374.684109  2.976504e+05   12400   3313946\n",
              "13       F    202.638545  2.572479e+05    5686   2887758\n",
              "14       S    236.637732  2.523108e+05    5261   2754570\n",
              "15       R    178.885320  1.314638e+05    3277   1511482\n",
              "16       P    233.600130  9.419201e+04    4280   1282940\n",
              "17       O     47.438813  5.418860e+04    2321    631372\n",
              "18       U     18.125220  2.095974e+04     503    250232\n",
              "19       T     10.153792  1.757585e+04     310    151315\n",
              "20       V      7.905375  8.015948e+03     170     86774\n",
              "21       Q      8.789357  5.973124e+03     258     74629"
            ]
          },
          "metadata": {
            "tags": []
          },
          "execution_count": 22
        }
      ]
    },
    {
      "cell_type": "code",
      "metadata": {
        "id": "ov_2DMOp4pVl",
        "colab": {
          "base_uri": "https://localhost:8080/"
        },
        "outputId": "b542b8da-d231-4cf1-9d4f-b8c939433f82"
      },
      "source": [
        "#realziando  cauculos para analise de metricas \n",
        "somaC = dfChannel['contribution'].sum()\n",
        "\n",
        "somaC"
      ],
      "execution_count": null,
      "outputs": [
        {
          "output_type": "execute_result",
          "data": {
            "text/plain": [
              "77319.00008310014"
            ]
          },
          "metadata": {
            "tags": []
          },
          "execution_count": 23
        }
      ]
    },
    {
      "cell_type": "code",
      "metadata": {
        "id": "bh077D5r5K4g"
      },
      "source": [
        "#realziando  cauculos para analise de metricas \n",
        "#regra de 3\n",
        "\n",
        "dfChannel['% conversao'] = (dfChannel['contribution'] * 100) / somaC"
      ],
      "execution_count": null,
      "outputs": []
    },
    {
      "cell_type": "code",
      "metadata": {
        "id": "VbX_NJZ6D3Po",
        "colab": {
          "base_uri": "https://localhost:8080/",
          "height": 762
        },
        "outputId": "9ca9485a-6743-4376-d579-b0683fb684af"
      },
      "source": [
        "#visualiazndo porcentagem da conversão \n",
        "dfChannel"
      ],
      "execution_count": null,
      "outputs": [
        {
          "output_type": "execute_result",
          "data": {
            "text/html": [
              "<div>\n",
              "<style scoped>\n",
              "    .dataframe tbody tr th:only-of-type {\n",
              "        vertical-align: middle;\n",
              "    }\n",
              "\n",
              "    .dataframe tbody tr th {\n",
              "        vertical-align: top;\n",
              "    }\n",
              "\n",
              "    .dataframe thead th {\n",
              "        text-align: right;\n",
              "    }\n",
              "</style>\n",
              "<table border=\"1\" class=\"dataframe\">\n",
              "  <thead>\n",
              "    <tr style=\"text-align: right;\">\n",
              "      <th></th>\n",
              "      <th>contribution</th>\n",
              "      <th>revenue</th>\n",
              "      <th>Month</th>\n",
              "      <th>year</th>\n",
              "      <th>% conversao</th>\n",
              "    </tr>\n",
              "    <tr>\n",
              "      <th>channel</th>\n",
              "      <th></th>\n",
              "      <th></th>\n",
              "      <th></th>\n",
              "      <th></th>\n",
              "      <th></th>\n",
              "    </tr>\n",
              "  </thead>\n",
              "  <tbody>\n",
              "    <tr>\n",
              "      <th>A</th>\n",
              "      <td>20812.123971</td>\n",
              "      <td>7.729556e+06</td>\n",
              "      <td>261892</td>\n",
              "      <td>81663898</td>\n",
              "      <td>26.917218</td>\n",
              "    </tr>\n",
              "    <tr>\n",
              "      <th>G</th>\n",
              "      <td>17484.093898</td>\n",
              "      <td>6.581498e+06</td>\n",
              "      <td>234028</td>\n",
              "      <td>72668401</td>\n",
              "      <td>22.612933</td>\n",
              "    </tr>\n",
              "    <tr>\n",
              "      <th>H</th>\n",
              "      <td>10977.484892</td>\n",
              "      <td>5.192739e+06</td>\n",
              "      <td>182384</td>\n",
              "      <td>57984760</td>\n",
              "      <td>14.197655</td>\n",
              "    </tr>\n",
              "    <tr>\n",
              "      <th>I</th>\n",
              "      <td>7488.124175</td>\n",
              "      <td>4.333058e+06</td>\n",
              "      <td>158116</td>\n",
              "      <td>48180008</td>\n",
              "      <td>9.684714</td>\n",
              "    </tr>\n",
              "    <tr>\n",
              "      <th>B</th>\n",
              "      <td>8894.056964</td>\n",
              "      <td>4.115119e+06</td>\n",
              "      <td>144859</td>\n",
              "      <td>44537331</td>\n",
              "      <td>11.503068</td>\n",
              "    </tr>\n",
              "    <tr>\n",
              "      <th>E</th>\n",
              "      <td>3811.667582</td>\n",
              "      <td>2.847103e+06</td>\n",
              "      <td>91225</td>\n",
              "      <td>30288682</td>\n",
              "      <td>4.929794</td>\n",
              "    </tr>\n",
              "    <tr>\n",
              "      <th>C</th>\n",
              "      <td>1942.483527</td>\n",
              "      <td>1.627591e+06</td>\n",
              "      <td>53888</td>\n",
              "      <td>17132358</td>\n",
              "      <td>2.512298</td>\n",
              "    </tr>\n",
              "    <tr>\n",
              "      <th>J</th>\n",
              "      <td>548.494225</td>\n",
              "      <td>9.984702e+05</td>\n",
              "      <td>40108</td>\n",
              "      <td>10669957</td>\n",
              "      <td>0.709391</td>\n",
              "    </tr>\n",
              "    <tr>\n",
              "      <th>K</th>\n",
              "      <td>1584.530008</td>\n",
              "      <td>9.824538e+05</td>\n",
              "      <td>41432</td>\n",
              "      <td>12523486</td>\n",
              "      <td>2.049341</td>\n",
              "    </tr>\n",
              "    <tr>\n",
              "      <th>M</th>\n",
              "      <td>829.656966</td>\n",
              "      <td>7.839060e+05</td>\n",
              "      <td>31861</td>\n",
              "      <td>9167842</td>\n",
              "      <td>1.073031</td>\n",
              "    </tr>\n",
              "    <tr>\n",
              "      <th>L</th>\n",
              "      <td>1104.338623</td>\n",
              "      <td>7.017659e+05</td>\n",
              "      <td>30808</td>\n",
              "      <td>9469097</td>\n",
              "      <td>1.428289</td>\n",
              "    </tr>\n",
              "    <tr>\n",
              "      <th>D</th>\n",
              "      <td>523.086857</td>\n",
              "      <td>4.561321e+05</td>\n",
              "      <td>17196</td>\n",
              "      <td>5136030</td>\n",
              "      <td>0.676531</td>\n",
              "    </tr>\n",
              "    <tr>\n",
              "      <th>N</th>\n",
              "      <td>374.684109</td>\n",
              "      <td>2.976504e+05</td>\n",
              "      <td>12400</td>\n",
              "      <td>3313946</td>\n",
              "      <td>0.484595</td>\n",
              "    </tr>\n",
              "    <tr>\n",
              "      <th>F</th>\n",
              "      <td>202.638545</td>\n",
              "      <td>2.572479e+05</td>\n",
              "      <td>5686</td>\n",
              "      <td>2887758</td>\n",
              "      <td>0.262081</td>\n",
              "    </tr>\n",
              "    <tr>\n",
              "      <th>S</th>\n",
              "      <td>236.637732</td>\n",
              "      <td>2.523108e+05</td>\n",
              "      <td>5261</td>\n",
              "      <td>2754570</td>\n",
              "      <td>0.306054</td>\n",
              "    </tr>\n",
              "    <tr>\n",
              "      <th>R</th>\n",
              "      <td>178.885320</td>\n",
              "      <td>1.314638e+05</td>\n",
              "      <td>3277</td>\n",
              "      <td>1511482</td>\n",
              "      <td>0.231360</td>\n",
              "    </tr>\n",
              "    <tr>\n",
              "      <th>P</th>\n",
              "      <td>233.600130</td>\n",
              "      <td>9.419201e+04</td>\n",
              "      <td>4280</td>\n",
              "      <td>1282940</td>\n",
              "      <td>0.302125</td>\n",
              "    </tr>\n",
              "    <tr>\n",
              "      <th>O</th>\n",
              "      <td>47.438813</td>\n",
              "      <td>5.418860e+04</td>\n",
              "      <td>2321</td>\n",
              "      <td>631372</td>\n",
              "      <td>0.061355</td>\n",
              "    </tr>\n",
              "    <tr>\n",
              "      <th>U</th>\n",
              "      <td>18.125220</td>\n",
              "      <td>2.095974e+04</td>\n",
              "      <td>503</td>\n",
              "      <td>250232</td>\n",
              "      <td>0.023442</td>\n",
              "    </tr>\n",
              "    <tr>\n",
              "      <th>T</th>\n",
              "      <td>10.153792</td>\n",
              "      <td>1.757585e+04</td>\n",
              "      <td>310</td>\n",
              "      <td>151315</td>\n",
              "      <td>0.013132</td>\n",
              "    </tr>\n",
              "    <tr>\n",
              "      <th>V</th>\n",
              "      <td>7.905375</td>\n",
              "      <td>8.015948e+03</td>\n",
              "      <td>170</td>\n",
              "      <td>86774</td>\n",
              "      <td>0.010224</td>\n",
              "    </tr>\n",
              "    <tr>\n",
              "      <th>Q</th>\n",
              "      <td>8.789357</td>\n",
              "      <td>5.973124e+03</td>\n",
              "      <td>258</td>\n",
              "      <td>74629</td>\n",
              "      <td>0.011368</td>\n",
              "    </tr>\n",
              "  </tbody>\n",
              "</table>\n",
              "</div>"
            ],
            "text/plain": [
              "         contribution       revenue   Month      year  % conversao\n",
              "channel                                                           \n",
              "A        20812.123971  7.729556e+06  261892  81663898    26.917218\n",
              "G        17484.093898  6.581498e+06  234028  72668401    22.612933\n",
              "H        10977.484892  5.192739e+06  182384  57984760    14.197655\n",
              "I         7488.124175  4.333058e+06  158116  48180008     9.684714\n",
              "B         8894.056964  4.115119e+06  144859  44537331    11.503068\n",
              "E         3811.667582  2.847103e+06   91225  30288682     4.929794\n",
              "C         1942.483527  1.627591e+06   53888  17132358     2.512298\n",
              "J          548.494225  9.984702e+05   40108  10669957     0.709391\n",
              "K         1584.530008  9.824538e+05   41432  12523486     2.049341\n",
              "M          829.656966  7.839060e+05   31861   9167842     1.073031\n",
              "L         1104.338623  7.017659e+05   30808   9469097     1.428289\n",
              "D          523.086857  4.561321e+05   17196   5136030     0.676531\n",
              "N          374.684109  2.976504e+05   12400   3313946     0.484595\n",
              "F          202.638545  2.572479e+05    5686   2887758     0.262081\n",
              "S          236.637732  2.523108e+05    5261   2754570     0.306054\n",
              "R          178.885320  1.314638e+05    3277   1511482     0.231360\n",
              "P          233.600130  9.419201e+04    4280   1282940     0.302125\n",
              "O           47.438813  5.418860e+04    2321    631372     0.061355\n",
              "U           18.125220  2.095974e+04     503    250232     0.023442\n",
              "T           10.153792  1.757585e+04     310    151315     0.013132\n",
              "V            7.905375  8.015948e+03     170     86774     0.010224\n",
              "Q            8.789357  5.973124e+03     258     74629     0.011368"
            ]
          },
          "metadata": {
            "tags": []
          },
          "execution_count": 25
        }
      ]
    },
    {
      "cell_type": "code",
      "metadata": {
        "id": "XArjBfXSL2Qv",
        "colab": {
          "base_uri": "https://localhost:8080/"
        },
        "outputId": "9ed0a476-d3f0-4c99-a63f-11b4cd2e77a8"
      },
      "source": [
        "#tirandoa  prova da regra de 3 \n",
        "\n",
        "dfChannel['% conversao'].sum()"
      ],
      "execution_count": null,
      "outputs": [
        {
          "output_type": "execute_result",
          "data": {
            "text/plain": [
              "99.99999999999997"
            ]
          },
          "metadata": {
            "tags": []
          },
          "execution_count": 26
        }
      ]
    },
    {
      "cell_type": "code",
      "metadata": {
        "id": "cPSvq5JsMChQ",
        "colab": {
          "base_uri": "https://localhost:8080/",
          "height": 731
        },
        "outputId": "8416c7fd-61a1-4436-9592-67941566b4b8"
      },
      "source": [
        "dfChannel.reset_index()"
      ],
      "execution_count": null,
      "outputs": [
        {
          "output_type": "execute_result",
          "data": {
            "text/html": [
              "<div>\n",
              "<style scoped>\n",
              "    .dataframe tbody tr th:only-of-type {\n",
              "        vertical-align: middle;\n",
              "    }\n",
              "\n",
              "    .dataframe tbody tr th {\n",
              "        vertical-align: top;\n",
              "    }\n",
              "\n",
              "    .dataframe thead th {\n",
              "        text-align: right;\n",
              "    }\n",
              "</style>\n",
              "<table border=\"1\" class=\"dataframe\">\n",
              "  <thead>\n",
              "    <tr style=\"text-align: right;\">\n",
              "      <th></th>\n",
              "      <th>channel</th>\n",
              "      <th>contribution</th>\n",
              "      <th>revenue</th>\n",
              "      <th>Month</th>\n",
              "      <th>year</th>\n",
              "      <th>% conversao</th>\n",
              "    </tr>\n",
              "  </thead>\n",
              "  <tbody>\n",
              "    <tr>\n",
              "      <th>0</th>\n",
              "      <td>A</td>\n",
              "      <td>20812.123971</td>\n",
              "      <td>7.729556e+06</td>\n",
              "      <td>261892</td>\n",
              "      <td>81663898</td>\n",
              "      <td>26.917218</td>\n",
              "    </tr>\n",
              "    <tr>\n",
              "      <th>1</th>\n",
              "      <td>G</td>\n",
              "      <td>17484.093898</td>\n",
              "      <td>6.581498e+06</td>\n",
              "      <td>234028</td>\n",
              "      <td>72668401</td>\n",
              "      <td>22.612933</td>\n",
              "    </tr>\n",
              "    <tr>\n",
              "      <th>2</th>\n",
              "      <td>H</td>\n",
              "      <td>10977.484892</td>\n",
              "      <td>5.192739e+06</td>\n",
              "      <td>182384</td>\n",
              "      <td>57984760</td>\n",
              "      <td>14.197655</td>\n",
              "    </tr>\n",
              "    <tr>\n",
              "      <th>3</th>\n",
              "      <td>I</td>\n",
              "      <td>7488.124175</td>\n",
              "      <td>4.333058e+06</td>\n",
              "      <td>158116</td>\n",
              "      <td>48180008</td>\n",
              "      <td>9.684714</td>\n",
              "    </tr>\n",
              "    <tr>\n",
              "      <th>4</th>\n",
              "      <td>B</td>\n",
              "      <td>8894.056964</td>\n",
              "      <td>4.115119e+06</td>\n",
              "      <td>144859</td>\n",
              "      <td>44537331</td>\n",
              "      <td>11.503068</td>\n",
              "    </tr>\n",
              "    <tr>\n",
              "      <th>5</th>\n",
              "      <td>E</td>\n",
              "      <td>3811.667582</td>\n",
              "      <td>2.847103e+06</td>\n",
              "      <td>91225</td>\n",
              "      <td>30288682</td>\n",
              "      <td>4.929794</td>\n",
              "    </tr>\n",
              "    <tr>\n",
              "      <th>6</th>\n",
              "      <td>C</td>\n",
              "      <td>1942.483527</td>\n",
              "      <td>1.627591e+06</td>\n",
              "      <td>53888</td>\n",
              "      <td>17132358</td>\n",
              "      <td>2.512298</td>\n",
              "    </tr>\n",
              "    <tr>\n",
              "      <th>7</th>\n",
              "      <td>J</td>\n",
              "      <td>548.494225</td>\n",
              "      <td>9.984702e+05</td>\n",
              "      <td>40108</td>\n",
              "      <td>10669957</td>\n",
              "      <td>0.709391</td>\n",
              "    </tr>\n",
              "    <tr>\n",
              "      <th>8</th>\n",
              "      <td>K</td>\n",
              "      <td>1584.530008</td>\n",
              "      <td>9.824538e+05</td>\n",
              "      <td>41432</td>\n",
              "      <td>12523486</td>\n",
              "      <td>2.049341</td>\n",
              "    </tr>\n",
              "    <tr>\n",
              "      <th>9</th>\n",
              "      <td>M</td>\n",
              "      <td>829.656966</td>\n",
              "      <td>7.839060e+05</td>\n",
              "      <td>31861</td>\n",
              "      <td>9167842</td>\n",
              "      <td>1.073031</td>\n",
              "    </tr>\n",
              "    <tr>\n",
              "      <th>10</th>\n",
              "      <td>L</td>\n",
              "      <td>1104.338623</td>\n",
              "      <td>7.017659e+05</td>\n",
              "      <td>30808</td>\n",
              "      <td>9469097</td>\n",
              "      <td>1.428289</td>\n",
              "    </tr>\n",
              "    <tr>\n",
              "      <th>11</th>\n",
              "      <td>D</td>\n",
              "      <td>523.086857</td>\n",
              "      <td>4.561321e+05</td>\n",
              "      <td>17196</td>\n",
              "      <td>5136030</td>\n",
              "      <td>0.676531</td>\n",
              "    </tr>\n",
              "    <tr>\n",
              "      <th>12</th>\n",
              "      <td>N</td>\n",
              "      <td>374.684109</td>\n",
              "      <td>2.976504e+05</td>\n",
              "      <td>12400</td>\n",
              "      <td>3313946</td>\n",
              "      <td>0.484595</td>\n",
              "    </tr>\n",
              "    <tr>\n",
              "      <th>13</th>\n",
              "      <td>F</td>\n",
              "      <td>202.638545</td>\n",
              "      <td>2.572479e+05</td>\n",
              "      <td>5686</td>\n",
              "      <td>2887758</td>\n",
              "      <td>0.262081</td>\n",
              "    </tr>\n",
              "    <tr>\n",
              "      <th>14</th>\n",
              "      <td>S</td>\n",
              "      <td>236.637732</td>\n",
              "      <td>2.523108e+05</td>\n",
              "      <td>5261</td>\n",
              "      <td>2754570</td>\n",
              "      <td>0.306054</td>\n",
              "    </tr>\n",
              "    <tr>\n",
              "      <th>15</th>\n",
              "      <td>R</td>\n",
              "      <td>178.885320</td>\n",
              "      <td>1.314638e+05</td>\n",
              "      <td>3277</td>\n",
              "      <td>1511482</td>\n",
              "      <td>0.231360</td>\n",
              "    </tr>\n",
              "    <tr>\n",
              "      <th>16</th>\n",
              "      <td>P</td>\n",
              "      <td>233.600130</td>\n",
              "      <td>9.419201e+04</td>\n",
              "      <td>4280</td>\n",
              "      <td>1282940</td>\n",
              "      <td>0.302125</td>\n",
              "    </tr>\n",
              "    <tr>\n",
              "      <th>17</th>\n",
              "      <td>O</td>\n",
              "      <td>47.438813</td>\n",
              "      <td>5.418860e+04</td>\n",
              "      <td>2321</td>\n",
              "      <td>631372</td>\n",
              "      <td>0.061355</td>\n",
              "    </tr>\n",
              "    <tr>\n",
              "      <th>18</th>\n",
              "      <td>U</td>\n",
              "      <td>18.125220</td>\n",
              "      <td>2.095974e+04</td>\n",
              "      <td>503</td>\n",
              "      <td>250232</td>\n",
              "      <td>0.023442</td>\n",
              "    </tr>\n",
              "    <tr>\n",
              "      <th>19</th>\n",
              "      <td>T</td>\n",
              "      <td>10.153792</td>\n",
              "      <td>1.757585e+04</td>\n",
              "      <td>310</td>\n",
              "      <td>151315</td>\n",
              "      <td>0.013132</td>\n",
              "    </tr>\n",
              "    <tr>\n",
              "      <th>20</th>\n",
              "      <td>V</td>\n",
              "      <td>7.905375</td>\n",
              "      <td>8.015948e+03</td>\n",
              "      <td>170</td>\n",
              "      <td>86774</td>\n",
              "      <td>0.010224</td>\n",
              "    </tr>\n",
              "    <tr>\n",
              "      <th>21</th>\n",
              "      <td>Q</td>\n",
              "      <td>8.789357</td>\n",
              "      <td>5.973124e+03</td>\n",
              "      <td>258</td>\n",
              "      <td>74629</td>\n",
              "      <td>0.011368</td>\n",
              "    </tr>\n",
              "  </tbody>\n",
              "</table>\n",
              "</div>"
            ],
            "text/plain": [
              "   channel  contribution       revenue   Month      year  % conversao\n",
              "0        A  20812.123971  7.729556e+06  261892  81663898    26.917218\n",
              "1        G  17484.093898  6.581498e+06  234028  72668401    22.612933\n",
              "2        H  10977.484892  5.192739e+06  182384  57984760    14.197655\n",
              "3        I   7488.124175  4.333058e+06  158116  48180008     9.684714\n",
              "4        B   8894.056964  4.115119e+06  144859  44537331    11.503068\n",
              "5        E   3811.667582  2.847103e+06   91225  30288682     4.929794\n",
              "6        C   1942.483527  1.627591e+06   53888  17132358     2.512298\n",
              "7        J    548.494225  9.984702e+05   40108  10669957     0.709391\n",
              "8        K   1584.530008  9.824538e+05   41432  12523486     2.049341\n",
              "9        M    829.656966  7.839060e+05   31861   9167842     1.073031\n",
              "10       L   1104.338623  7.017659e+05   30808   9469097     1.428289\n",
              "11       D    523.086857  4.561321e+05   17196   5136030     0.676531\n",
              "12       N    374.684109  2.976504e+05   12400   3313946     0.484595\n",
              "13       F    202.638545  2.572479e+05    5686   2887758     0.262081\n",
              "14       S    236.637732  2.523108e+05    5261   2754570     0.306054\n",
              "15       R    178.885320  1.314638e+05    3277   1511482     0.231360\n",
              "16       P    233.600130  9.419201e+04    4280   1282940     0.302125\n",
              "17       O     47.438813  5.418860e+04    2321    631372     0.061355\n",
              "18       U     18.125220  2.095974e+04     503    250232     0.023442\n",
              "19       T     10.153792  1.757585e+04     310    151315     0.013132\n",
              "20       V      7.905375  8.015948e+03     170     86774     0.010224\n",
              "21       Q      8.789357  5.973124e+03     258     74629     0.011368"
            ]
          },
          "metadata": {
            "tags": []
          },
          "execution_count": 27
        }
      ]
    },
    {
      "cell_type": "code",
      "metadata": {
        "id": "rHLVRBhtNB4W",
        "colab": {
          "base_uri": "https://localhost:8080/",
          "height": 738
        },
        "outputId": "e3b1bdc1-8e7a-4f14-b370-304fb8e3e96a"
      },
      "source": [
        "# podemos observar que a conversão  de alguns canais é baixa, porém, o valor médio da venda é alto.\n",
        "# implentando estratégias para melhorar a conversão, podemos aumentar a média da mesma e subir o valor médio da venda\n",
        "# (com muito mais lucro)\n",
        "\n",
        "dfChannelXConversao = dfChannel.drop(['contribution', 'Month', 'year'], 1)\n",
        "\n",
        "dfChannelXConversao.head()\n",
        "\n",
        "dfmediavenda = dfdata.groupby('channel').mean()\n",
        "dfChannelXConversao['media venda'] = dfmediavenda['revenue']\n",
        "dfChannelXConversao"
      ],
      "execution_count": null,
      "outputs": [
        {
          "output_type": "execute_result",
          "data": {
            "text/html": [
              "<div>\n",
              "<style scoped>\n",
              "    .dataframe tbody tr th:only-of-type {\n",
              "        vertical-align: middle;\n",
              "    }\n",
              "\n",
              "    .dataframe tbody tr th {\n",
              "        vertical-align: top;\n",
              "    }\n",
              "\n",
              "    .dataframe thead th {\n",
              "        text-align: right;\n",
              "    }\n",
              "</style>\n",
              "<table border=\"1\" class=\"dataframe\">\n",
              "  <thead>\n",
              "    <tr style=\"text-align: right;\">\n",
              "      <th></th>\n",
              "      <th>revenue</th>\n",
              "      <th>% conversao</th>\n",
              "      <th>media venda</th>\n",
              "    </tr>\n",
              "    <tr>\n",
              "      <th>channel</th>\n",
              "      <th></th>\n",
              "      <th></th>\n",
              "      <th></th>\n",
              "    </tr>\n",
              "  </thead>\n",
              "  <tbody>\n",
              "    <tr>\n",
              "      <th>A</th>\n",
              "      <td>7.729556e+06</td>\n",
              "      <td>26.917218</td>\n",
              "      <td>190.928651</td>\n",
              "    </tr>\n",
              "    <tr>\n",
              "      <th>G</th>\n",
              "      <td>6.581498e+06</td>\n",
              "      <td>22.612933</td>\n",
              "      <td>182.697583</td>\n",
              "    </tr>\n",
              "    <tr>\n",
              "      <th>H</th>\n",
              "      <td>5.192739e+06</td>\n",
              "      <td>14.197655</td>\n",
              "      <td>180.648419</td>\n",
              "    </tr>\n",
              "    <tr>\n",
              "      <th>I</th>\n",
              "      <td>4.333058e+06</td>\n",
              "      <td>9.684714</td>\n",
              "      <td>181.413374</td>\n",
              "    </tr>\n",
              "    <tr>\n",
              "      <th>B</th>\n",
              "      <td>4.115119e+06</td>\n",
              "      <td>11.503068</td>\n",
              "      <td>186.390037</td>\n",
              "    </tr>\n",
              "    <tr>\n",
              "      <th>E</th>\n",
              "      <td>2.847103e+06</td>\n",
              "      <td>4.929794</td>\n",
              "      <td>189.629910</td>\n",
              "    </tr>\n",
              "    <tr>\n",
              "      <th>C</th>\n",
              "      <td>1.627591e+06</td>\n",
              "      <td>2.512298</td>\n",
              "      <td>191.639134</td>\n",
              "    </tr>\n",
              "    <tr>\n",
              "      <th>J</th>\n",
              "      <td>9.984702e+05</td>\n",
              "      <td>0.709391</td>\n",
              "      <td>188.746728</td>\n",
              "    </tr>\n",
              "    <tr>\n",
              "      <th>K</th>\n",
              "      <td>9.824538e+05</td>\n",
              "      <td>2.049341</td>\n",
              "      <td>158.256093</td>\n",
              "    </tr>\n",
              "    <tr>\n",
              "      <th>M</th>\n",
              "      <td>7.839060e+05</td>\n",
              "      <td>1.073031</td>\n",
              "      <td>172.476562</td>\n",
              "    </tr>\n",
              "    <tr>\n",
              "      <th>L</th>\n",
              "      <td>7.017659e+05</td>\n",
              "      <td>1.428289</td>\n",
              "      <td>149.502744</td>\n",
              "    </tr>\n",
              "    <tr>\n",
              "      <th>D</th>\n",
              "      <td>4.561321e+05</td>\n",
              "      <td>0.676531</td>\n",
              "      <td>179.156362</td>\n",
              "    </tr>\n",
              "    <tr>\n",
              "      <th>N</th>\n",
              "      <td>2.976504e+05</td>\n",
              "      <td>0.484595</td>\n",
              "      <td>181.162776</td>\n",
              "    </tr>\n",
              "    <tr>\n",
              "      <th>F</th>\n",
              "      <td>2.572479e+05</td>\n",
              "      <td>0.262081</td>\n",
              "      <td>179.767916</td>\n",
              "    </tr>\n",
              "    <tr>\n",
              "      <th>S</th>\n",
              "      <td>2.523108e+05</td>\n",
              "      <td>0.306054</td>\n",
              "      <td>184.843068</td>\n",
              "    </tr>\n",
              "    <tr>\n",
              "      <th>R</th>\n",
              "      <td>1.314638e+05</td>\n",
              "      <td>0.231360</td>\n",
              "      <td>175.519055</td>\n",
              "    </tr>\n",
              "    <tr>\n",
              "      <th>P</th>\n",
              "      <td>9.419201e+04</td>\n",
              "      <td>0.302125</td>\n",
              "      <td>148.100642</td>\n",
              "    </tr>\n",
              "    <tr>\n",
              "      <th>O</th>\n",
              "      <td>5.418860e+04</td>\n",
              "      <td>0.061355</td>\n",
              "      <td>173.126529</td>\n",
              "    </tr>\n",
              "    <tr>\n",
              "      <th>U</th>\n",
              "      <td>2.095974e+04</td>\n",
              "      <td>0.023442</td>\n",
              "      <td>169.030161</td>\n",
              "    </tr>\n",
              "    <tr>\n",
              "      <th>T</th>\n",
              "      <td>1.757585e+04</td>\n",
              "      <td>0.013132</td>\n",
              "      <td>234.344652</td>\n",
              "    </tr>\n",
              "    <tr>\n",
              "      <th>V</th>\n",
              "      <td>8.015948e+03</td>\n",
              "      <td>0.010224</td>\n",
              "      <td>186.417395</td>\n",
              "    </tr>\n",
              "    <tr>\n",
              "      <th>Q</th>\n",
              "      <td>5.973124e+03</td>\n",
              "      <td>0.011368</td>\n",
              "      <td>161.435784</td>\n",
              "    </tr>\n",
              "  </tbody>\n",
              "</table>\n",
              "</div>"
            ],
            "text/plain": [
              "              revenue  % conversao  media venda\n",
              "channel                                        \n",
              "A        7.729556e+06    26.917218   190.928651\n",
              "G        6.581498e+06    22.612933   182.697583\n",
              "H        5.192739e+06    14.197655   180.648419\n",
              "I        4.333058e+06     9.684714   181.413374\n",
              "B        4.115119e+06    11.503068   186.390037\n",
              "E        2.847103e+06     4.929794   189.629910\n",
              "C        1.627591e+06     2.512298   191.639134\n",
              "J        9.984702e+05     0.709391   188.746728\n",
              "K        9.824538e+05     2.049341   158.256093\n",
              "M        7.839060e+05     1.073031   172.476562\n",
              "L        7.017659e+05     1.428289   149.502744\n",
              "D        4.561321e+05     0.676531   179.156362\n",
              "N        2.976504e+05     0.484595   181.162776\n",
              "F        2.572479e+05     0.262081   179.767916\n",
              "S        2.523108e+05     0.306054   184.843068\n",
              "R        1.314638e+05     0.231360   175.519055\n",
              "P        9.419201e+04     0.302125   148.100642\n",
              "O        5.418860e+04     0.061355   173.126529\n",
              "U        2.095974e+04     0.023442   169.030161\n",
              "T        1.757585e+04     0.013132   234.344652\n",
              "V        8.015948e+03     0.010224   186.417395\n",
              "Q        5.973124e+03     0.011368   161.435784"
            ]
          },
          "metadata": {
            "tags": []
          },
          "execution_count": 28
        }
      ]
    },
    {
      "cell_type": "code",
      "metadata": {
        "id": "yuYap1JpOCyA",
        "colab": {
          "base_uri": "https://localhost:8080/"
        },
        "outputId": "768bf752-2e74-4954-bb95-20ca67f2e197"
      },
      "source": [
        "#medias gerais\n",
        "\n",
        "print(':::: media geral valores   ::::\\n', dfdata['revenue'].mean(), '\\n\\n')\n",
        "print(':::: media geral conversao ::::\\n', dfdata['contribution'].mean(), '\\n\\n')\n",
        "print(':::: media geral por meses ::::\\n', dfdata.groupby('Month').mean(), '\\n\\n')\n",
        "print(':::: media geral por ano   ::::\\n', dfdata.groupby('year').mean(), '\\n\\n')\n",
        "print(':::: quantidade de clientes   ::::\\n', dfdata['userId'].nunique(), '\\n\\n')\n",
        "\n",
        "dfmediaMes =  dfdata.groupby('Month').mean()\n",
        "#dfmediaMes.to_excel('mediagerammes.xlsx')\n",
        "\n",
        "dfmediaAno =  dfdata.groupby('year').mean()\n",
        "dfmediaAno.to_excel('mediageralAno.xlsx')\n"
      ],
      "execution_count": null,
      "outputs": [
        {
          "output_type": "stream",
          "text": [
            ":::: media geral valores   ::::\n",
            " 183.390097367405 \n",
            "\n",
            "\n",
            ":::: media geral conversao ::::\n",
            " 0.3782322846029339 \n",
            "\n",
            "\n",
            ":::: media geral por meses ::::\n",
            "        contribution     revenue         year\n",
            "Month                                       \n",
            "1          0.380744  189.298708  2017.618258\n",
            "2          0.353584  189.941558  2017.706616\n",
            "3          0.407899  185.609523  2017.361462\n",
            "4          0.413023  187.981029  2017.139181\n",
            "5          0.396195  172.574555  2017.124963\n",
            "6          0.383771  184.978462  2017.084212\n",
            "7          0.386615  181.772731  2017.064267\n",
            "8          0.360855  180.448948  2017.241656\n",
            "9          0.363627  185.358429  2017.105263\n",
            "10         0.373961  175.137833  2017.069255\n",
            "11         0.363991  183.990217  2017.058538\n",
            "12         0.372005  180.031544  2017.101302 \n",
            "\n",
            "\n",
            ":::: media geral por ano   ::::\n",
            "       contribution     revenue     Month\n",
            "year                                    \n",
            "2017      0.388418  184.731002  7.239096\n",
            "2018      0.344760  178.983731  3.935380 \n",
            "\n",
            "\n",
            ":::: quantidade de clientes   ::::\n",
            " 55332 \n",
            "\n",
            "\n"
          ],
          "name": "stdout"
        }
      ]
    },
    {
      "cell_type": "code",
      "metadata": {
        "colab": {
          "base_uri": "https://localhost:8080/"
        },
        "id": "xbNBlsFscRLF",
        "outputId": "274126ee-d68c-4164-9688-7866cfb9927a"
      },
      "source": [
        ""
      ],
      "execution_count": null,
      "outputs": [
        {
          "output_type": "execute_result",
          "data": {
            "text/plain": [
              "0.3782322846029339"
            ]
          },
          "metadata": {
            "tags": []
          },
          "execution_count": 70
        }
      ]
    },
    {
      "cell_type": "code",
      "metadata": {
        "id": "HD5GLmBCO-ex",
        "colab": {
          "base_uri": "https://localhost:8080/",
          "height": 437
        },
        "outputId": "f2a8abf7-8632-49ef-bb2f-9017e47c7250"
      },
      "source": [
        "#coletando informações sofre clientes \n",
        "dfClientes = dfdata.groupby('userId').sum().sort_values(by='revenue', ascending = False)\n",
        "dfClientes"
      ],
      "execution_count": null,
      "outputs": [
        {
          "output_type": "execute_result",
          "data": {
            "text/html": [
              "<div>\n",
              "<style scoped>\n",
              "    .dataframe tbody tr th:only-of-type {\n",
              "        vertical-align: middle;\n",
              "    }\n",
              "\n",
              "    .dataframe tbody tr th {\n",
              "        vertical-align: top;\n",
              "    }\n",
              "\n",
              "    .dataframe thead th {\n",
              "        text-align: right;\n",
              "    }\n",
              "</style>\n",
              "<table border=\"1\" class=\"dataframe\">\n",
              "  <thead>\n",
              "    <tr style=\"text-align: right;\">\n",
              "      <th></th>\n",
              "      <th>contribution</th>\n",
              "      <th>revenue</th>\n",
              "      <th>Month</th>\n",
              "      <th>year</th>\n",
              "    </tr>\n",
              "    <tr>\n",
              "      <th>userId</th>\n",
              "      <th></th>\n",
              "      <th></th>\n",
              "      <th></th>\n",
              "      <th></th>\n",
              "    </tr>\n",
              "  </thead>\n",
              "  <tbody>\n",
              "    <tr>\n",
              "      <th>2c75940486d75040f269c9671ab746dffefe9692</th>\n",
              "      <td>111.000003</td>\n",
              "      <td>184557.13812</td>\n",
              "      <td>4989</td>\n",
              "      <td>1452414</td>\n",
              "    </tr>\n",
              "    <tr>\n",
              "      <th>f55f596edb82fe3e92e3aa3fe3f7150dcb491235</th>\n",
              "      <td>21.000002</td>\n",
              "      <td>96632.84400</td>\n",
              "      <td>927</td>\n",
              "      <td>288431</td>\n",
              "    </tr>\n",
              "    <tr>\n",
              "      <th>31e3c730764f2913e56fcae325f92a82bc94a4aa</th>\n",
              "      <td>29.999997</td>\n",
              "      <td>82045.18148</td>\n",
              "      <td>945</td>\n",
              "      <td>352977</td>\n",
              "    </tr>\n",
              "    <tr>\n",
              "      <th>0ad05472146efb8b505f113c4cdc3a88b5a89f41</th>\n",
              "      <td>26.999988</td>\n",
              "      <td>65669.35200</td>\n",
              "      <td>2300</td>\n",
              "      <td>673810</td>\n",
              "    </tr>\n",
              "    <tr>\n",
              "      <th>72df33e2b3ccfebff04123e211ef07d5f39a2324</th>\n",
              "      <td>23.000001</td>\n",
              "      <td>36141.88224</td>\n",
              "      <td>716</td>\n",
              "      <td>233983</td>\n",
              "    </tr>\n",
              "    <tr>\n",
              "      <th>...</th>\n",
              "      <td>...</td>\n",
              "      <td>...</td>\n",
              "      <td>...</td>\n",
              "      <td>...</td>\n",
              "    </tr>\n",
              "    <tr>\n",
              "      <th>4a3b4841918df1da9add82216443a0e0cbb941fa</th>\n",
              "      <td>1.000000</td>\n",
              "      <td>30.05880</td>\n",
              "      <td>3</td>\n",
              "      <td>2017</td>\n",
              "    </tr>\n",
              "    <tr>\n",
              "      <th>af3b65b00241a3fefbc4a8afe9283d11737217fd</th>\n",
              "      <td>1.000000</td>\n",
              "      <td>29.62800</td>\n",
              "      <td>8</td>\n",
              "      <td>2017</td>\n",
              "    </tr>\n",
              "    <tr>\n",
              "      <th>68c33edd06878aeec0d8093d4673b5579c6bdaad</th>\n",
              "      <td>1.000000</td>\n",
              "      <td>28.58784</td>\n",
              "      <td>3</td>\n",
              "      <td>2017</td>\n",
              "    </tr>\n",
              "    <tr>\n",
              "      <th>484b1fa4f298a19d61bce894edfd55b8b8473916</th>\n",
              "      <td>1.000000</td>\n",
              "      <td>27.53200</td>\n",
              "      <td>1</td>\n",
              "      <td>2018</td>\n",
              "    </tr>\n",
              "    <tr>\n",
              "      <th>ab8943bb204d1729c15a846285ab6d21cf3cce28</th>\n",
              "      <td>1.000000</td>\n",
              "      <td>27.05880</td>\n",
              "      <td>3</td>\n",
              "      <td>2017</td>\n",
              "    </tr>\n",
              "  </tbody>\n",
              "</table>\n",
              "<p>55332 rows × 4 columns</p>\n",
              "</div>"
            ],
            "text/plain": [
              "                                          contribution  ...     year\n",
              "userId                                                  ...         \n",
              "2c75940486d75040f269c9671ab746dffefe9692    111.000003  ...  1452414\n",
              "f55f596edb82fe3e92e3aa3fe3f7150dcb491235     21.000002  ...   288431\n",
              "31e3c730764f2913e56fcae325f92a82bc94a4aa     29.999997  ...   352977\n",
              "0ad05472146efb8b505f113c4cdc3a88b5a89f41     26.999988  ...   673810\n",
              "72df33e2b3ccfebff04123e211ef07d5f39a2324     23.000001  ...   233983\n",
              "...                                                ...  ...      ...\n",
              "4a3b4841918df1da9add82216443a0e0cbb941fa      1.000000  ...     2017\n",
              "af3b65b00241a3fefbc4a8afe9283d11737217fd      1.000000  ...     2017\n",
              "68c33edd06878aeec0d8093d4673b5579c6bdaad      1.000000  ...     2017\n",
              "484b1fa4f298a19d61bce894edfd55b8b8473916      1.000000  ...     2018\n",
              "ab8943bb204d1729c15a846285ab6d21cf3cce28      1.000000  ...     2017\n",
              "\n",
              "[55332 rows x 4 columns]"
            ]
          },
          "metadata": {
            "tags": []
          },
          "execution_count": 30
        }
      ]
    },
    {
      "cell_type": "code",
      "metadata": {
        "id": "8GGwmkvpyaXq"
      },
      "source": [
        "#coletando informações sobre clientes \n",
        "\n",
        "dfmelhorCliente = dfdata[dfdata['userId'] == '2c75940486d75040f269c9671ab746dffefe9692']"
      ],
      "execution_count": null,
      "outputs": []
    },
    {
      "cell_type": "code",
      "metadata": {
        "id": "ENKWnQuM0v3w"
      },
      "source": [
        "dfmelhorCliente.reset_index(inplace= True)"
      ],
      "execution_count": null,
      "outputs": []
    },
    {
      "cell_type": "code",
      "metadata": {
        "id": "OdSIcDIlDFr9"
      },
      "source": [
        "dfClientes.reset_index(inplace = True)"
      ],
      "execution_count": null,
      "outputs": []
    },
    {
      "cell_type": "code",
      "metadata": {
        "id": "8IF995YcEAan"
      },
      "source": [
        ""
      ],
      "execution_count": null,
      "outputs": []
    },
    {
      "cell_type": "code",
      "metadata": {
        "colab": {
          "base_uri": "https://localhost:8080/",
          "height": 171
        },
        "id": "XZUI9vX3EA0L",
        "outputId": "8edd4c9a-b084-4608-fb81-6b0e559197da"
      },
      "source": [
        "#coletando informações sobre clientes \n",
        "\n",
        "dfClientes.head(10)"
      ],
      "execution_count": 2,
      "outputs": [
        {
          "output_type": "error",
          "ename": "NameError",
          "evalue": "ignored",
          "traceback": [
            "\u001b[0;31m---------------------------------------------------------------------------\u001b[0m",
            "\u001b[0;31mNameError\u001b[0m                                 Traceback (most recent call last)",
            "\u001b[0;32m<ipython-input-2-054d4a48a7b4>\u001b[0m in \u001b[0;36m<module>\u001b[0;34m()\u001b[0m\n\u001b[0;32m----> 1\u001b[0;31m \u001b[0mdfClientes\u001b[0m\u001b[0;34m.\u001b[0m\u001b[0mhead\u001b[0m\u001b[0;34m(\u001b[0m\u001b[0;36m10\u001b[0m\u001b[0;34m)\u001b[0m\u001b[0;34m\u001b[0m\u001b[0;34m\u001b[0m\u001b[0m\n\u001b[0m",
            "\u001b[0;31mNameError\u001b[0m: name 'dfClientes' is not defined"
          ]
        }
      ]
    },
    {
      "cell_type": "code",
      "metadata": {
        "id": "Y2etWYOI140j"
      },
      "source": [
        "#GERANDO DATASET PARA CRIAR GRÁFICOS NO POWER BI\n",
        "\n",
        "\n",
        "#dfChannelXConversao.to_excel('dsChannelXConversao.xlsx')"
      ],
      "execution_count": null,
      "outputs": []
    },
    {
      "cell_type": "code",
      "metadata": {
        "id": "u-hnIq3oOWHz"
      },
      "source": [
        "#dfChannel.to_excel('dsChannel.xlsx')"
      ],
      "execution_count": null,
      "outputs": []
    },
    {
      "cell_type": "code",
      "metadata": {
        "id": "mnZPs9Av2k_i"
      },
      "source": [
        "#dfClientes.to_excel('dsClientes.xlsx')"
      ],
      "execution_count": null,
      "outputs": []
    },
    {
      "cell_type": "code",
      "metadata": {
        "id": "0YL-tIgJOpa8"
      },
      "source": [
        "#dfmelhorCliente.to_excel('dsMelhorCliente.xlsx')"
      ],
      "execution_count": null,
      "outputs": []
    },
    {
      "cell_type": "code",
      "metadata": {
        "id": "IKrZaZW8O-AD"
      },
      "source": [
        "#dfdata.to_excel('dsAmigoEdu.xlsx')"
      ],
      "execution_count": null,
      "outputs": []
    },
    {
      "cell_type": "code",
      "metadata": {
        "id": "u-q_-7hcPESU"
      },
      "source": [
        "#OUTRAS ANALISES DES SOBRE AS DATAS \n",
        "dfSexta = dfdata[(dfdata['Day of Week'] == 'Friday') & (dfdata['Month'] == 'Agosto') & (dfdata['revenue'])]"
      ],
      "execution_count": null,
      "outputs": []
    },
    {
      "cell_type": "code",
      "metadata": {
        "id": "0zaX8f7vA9BW"
      },
      "source": [
        "#OUTRAS ANALISES DES SOBRE AS DATAS\n",
        "dfQuintaMaio = dfdata[(dfdata['Day of Week'] == 'Thursday') & (dfdata['Month'] == 'Maio') & (dfdata['revenue'])]"
      ],
      "execution_count": null,
      "outputs": []
    },
    {
      "cell_type": "code",
      "metadata": {
        "colab": {
          "base_uri": "https://localhost:8080/",
          "height": 228
        },
        "id": "_gFYXpTEC-Fn",
        "outputId": "befdf270-c201-480b-91f1-af86a34084e7"
      },
      "source": [
        "#OUTRAS ANALISES DES SOBRE AS DATAS\n",
        "dfQuartaMaio.groupby('Date').sum().sort_values(by='revenue', ascending = False)\n",
        "#dfChannel = dfdata.groupby('channel').sum().sort_values(by='revenue', ascending = False)\n"
      ],
      "execution_count": null,
      "outputs": [
        {
          "output_type": "execute_result",
          "data": {
            "text/html": [
              "<div>\n",
              "<style scoped>\n",
              "    .dataframe tbody tr th:only-of-type {\n",
              "        vertical-align: middle;\n",
              "    }\n",
              "\n",
              "    .dataframe tbody tr th {\n",
              "        vertical-align: top;\n",
              "    }\n",
              "\n",
              "    .dataframe thead th {\n",
              "        text-align: right;\n",
              "    }\n",
              "</style>\n",
              "<table border=\"1\" class=\"dataframe\">\n",
              "  <thead>\n",
              "    <tr style=\"text-align: right;\">\n",
              "      <th></th>\n",
              "      <th>contribution</th>\n",
              "      <th>revenue</th>\n",
              "      <th>year</th>\n",
              "    </tr>\n",
              "    <tr>\n",
              "      <th>Date</th>\n",
              "      <th></th>\n",
              "      <th></th>\n",
              "      <th></th>\n",
              "    </tr>\n",
              "  </thead>\n",
              "  <tbody>\n",
              "    <tr>\n",
              "      <th>2017-05-04</th>\n",
              "      <td>548.000000</td>\n",
              "      <td>291137.27236</td>\n",
              "      <td>2378043</td>\n",
              "    </tr>\n",
              "    <tr>\n",
              "      <th>2017-05-11</th>\n",
              "      <td>311.999999</td>\n",
              "      <td>123416.07600</td>\n",
              "      <td>1766892</td>\n",
              "    </tr>\n",
              "    <tr>\n",
              "      <th>2018-05-03</th>\n",
              "      <td>186.000000</td>\n",
              "      <td>102195.39200</td>\n",
              "      <td>1204746</td>\n",
              "    </tr>\n",
              "    <tr>\n",
              "      <th>2017-05-25</th>\n",
              "      <td>136.000000</td>\n",
              "      <td>63496.53200</td>\n",
              "      <td>728137</td>\n",
              "    </tr>\n",
              "    <tr>\n",
              "      <th>2017-05-18</th>\n",
              "      <td>107.000000</td>\n",
              "      <td>35626.39200</td>\n",
              "      <td>473995</td>\n",
              "    </tr>\n",
              "  </tbody>\n",
              "</table>\n",
              "</div>"
            ],
            "text/plain": [
              "            contribution       revenue     year\n",
              "Date                                           \n",
              "2017-05-04    548.000000  291137.27236  2378043\n",
              "2017-05-11    311.999999  123416.07600  1766892\n",
              "2018-05-03    186.000000  102195.39200  1204746\n",
              "2017-05-25    136.000000   63496.53200   728137\n",
              "2017-05-18    107.000000   35626.39200   473995"
            ]
          },
          "metadata": {
            "tags": []
          },
          "execution_count": 98
        }
      ]
    },
    {
      "cell_type": "code",
      "metadata": {
        "colab": {
          "base_uri": "https://localhost:8080/",
          "height": 228
        },
        "id": "n4ofA4fiy7H0",
        "outputId": "4a1a3c29-544f-467d-a2e6-9a6c628e3fe4"
      },
      "source": [
        "dfSexta.groupby('Date').sum().sort_values(by='revenue', ascending = False)\n",
        "#dfChannel = dfdata.groupby('channel').sum().sort_values(by='revenue', ascending = False)\n"
      ],
      "execution_count": null,
      "outputs": [
        {
          "output_type": "execute_result",
          "data": {
            "text/html": [
              "<div>\n",
              "<style scoped>\n",
              "    .dataframe tbody tr th:only-of-type {\n",
              "        vertical-align: middle;\n",
              "    }\n",
              "\n",
              "    .dataframe tbody tr th {\n",
              "        vertical-align: top;\n",
              "    }\n",
              "\n",
              "    .dataframe thead th {\n",
              "        text-align: right;\n",
              "    }\n",
              "</style>\n",
              "<table border=\"1\" class=\"dataframe\">\n",
              "  <thead>\n",
              "    <tr style=\"text-align: right;\">\n",
              "      <th></th>\n",
              "      <th>contribution</th>\n",
              "      <th>revenue</th>\n",
              "      <th>year</th>\n",
              "    </tr>\n",
              "    <tr>\n",
              "      <th>Date</th>\n",
              "      <th></th>\n",
              "      <th></th>\n",
              "      <th></th>\n",
              "    </tr>\n",
              "  </thead>\n",
              "  <tbody>\n",
              "    <tr>\n",
              "      <th>2018-08-03</th>\n",
              "      <td>1223.000003</td>\n",
              "      <td>841530.4440</td>\n",
              "      <td>8380754</td>\n",
              "    </tr>\n",
              "    <tr>\n",
              "      <th>2017-08-04</th>\n",
              "      <td>1240.000000</td>\n",
              "      <td>695517.6426</td>\n",
              "      <td>5895691</td>\n",
              "    </tr>\n",
              "    <tr>\n",
              "      <th>2017-08-25</th>\n",
              "      <td>193.999997</td>\n",
              "      <td>80790.1560</td>\n",
              "      <td>1143639</td>\n",
              "    </tr>\n",
              "    <tr>\n",
              "      <th>2017-08-11</th>\n",
              "      <td>146.000001</td>\n",
              "      <td>65234.8240</td>\n",
              "      <td>812851</td>\n",
              "    </tr>\n",
              "    <tr>\n",
              "      <th>2017-08-18</th>\n",
              "      <td>113.000000</td>\n",
              "      <td>47385.5680</td>\n",
              "      <td>580896</td>\n",
              "    </tr>\n",
              "  </tbody>\n",
              "</table>\n",
              "</div>"
            ],
            "text/plain": [
              "            contribution      revenue     year\n",
              "Date                                          \n",
              "2018-08-03   1223.000003  841530.4440  8380754\n",
              "2017-08-04   1240.000000  695517.6426  5895691\n",
              "2017-08-25    193.999997   80790.1560  1143639\n",
              "2017-08-11    146.000001   65234.8240   812851\n",
              "2017-08-18    113.000000   47385.5680   580896"
            ]
          },
          "metadata": {
            "tags": []
          },
          "execution_count": 94
        }
      ]
    },
    {
      "cell_type": "code",
      "metadata": {
        "colab": {
          "base_uri": "https://localhost:8080/"
        },
        "id": "DyQWUT2003mR",
        "outputId": "7be9821e-d7d4-41eb-adec-3c135eb19eab"
      },
      "source": [
        "print(dfSexta)"
      ],
      "execution_count": null,
      "outputs": [
        {
          "output_type": "stream",
          "text": [
            "                                          convId channel  ...  Day of Week  year\n",
            "143     a4c8c5329516bb2148bbc1dd425084f83d27f78d       I  ...       Friday  2017\n",
            "144     a4c8c5329516bb2148bbc1dd425084f83d27f78d       A  ...       Friday  2017\n",
            "145     a4c8c5329516bb2148bbc1dd425084f83d27f78d       C  ...       Friday  2017\n",
            "146     a4c8c5329516bb2148bbc1dd425084f83d27f78d       G  ...       Friday  2017\n",
            "147     a4c8c5329516bb2148bbc1dd425084f83d27f78d       H  ...       Friday  2017\n",
            "...                                          ...     ...  ...          ...   ...\n",
            "202238  9f9c7efc3215aaf01387abcdd2bb9c9ffdff4d2c       D  ...       Friday  2018\n",
            "202239  9f9c7efc3215aaf01387abcdd2bb9c9ffdff4d2c       R  ...       Friday  2018\n",
            "202240  9f9c7efc3215aaf01387abcdd2bb9c9ffdff4d2c       E  ...       Friday  2018\n",
            "202241  c335c129fe6e5b44cf8935c6da7639e70a43b13a       A  ...       Friday  2018\n",
            "202242  c335c129fe6e5b44cf8935c6da7639e70a43b13a       G  ...       Friday  2018\n",
            "\n",
            "[8334 rows x 9 columns]\n"
          ],
          "name": "stdout"
        }
      ]
    },
    {
      "cell_type": "code",
      "metadata": {
        "colab": {
          "base_uri": "https://localhost:8080/",
          "height": 308
        },
        "id": "4fQZ9k1aWl0z",
        "outputId": "df2e0a31-e6d5-48fb-8f2f-33c4a4e8ea33"
      },
      "source": [
        "#OUTRAS ANALISES DES SOBRE AS DATAS\n",
        "dfdata.groupby('Day of Week').sum()['revenue'].plot()"
      ],
      "execution_count": null,
      "outputs": [
        {
          "output_type": "execute_result",
          "data": {
            "text/plain": [
              "<matplotlib.axes._subplots.AxesSubplot at 0x7f6fae469650>"
            ]
          },
          "metadata": {
            "tags": []
          },
          "execution_count": 51
        },
        {
          "output_type": "display_data",
          "data": {
            "image/png": "[encoded data removed]",
            "text/plain": [
              "<Figure size 432x288 with 1 Axes>"
            ]
          },
          "metadata": {
            "tags": [],
            "needs_background": "light"
          }
        }
      ]
    },
    {
      "cell_type": "code",
      "metadata": {
        "id": "eMfh1YObb76I"
      },
      "source": [
        ""
      ],
      "execution_count": null,
      "outputs": []
    }
  ]
}